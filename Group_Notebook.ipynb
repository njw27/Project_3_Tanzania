{
 "cells": [
  {
   "cell_type": "markdown",
   "metadata": {},
   "source": [
    "_______________________________________"
   ]
  },
  {
   "cell_type": "markdown",
   "metadata": {},
   "source": [
    "# **Tanzania Ministry of Water** - Water Well Functionality  \n",
    "### Flatiron School Phase 3 Project  \n",
    "Analysis by Jun(Andrew) Choi, Dara Estrada, Nicholas Wertz"
   ]
  },
  {
   "cell_type": "markdown",
   "metadata": {},
   "source": [
    "---\n",
    "## Table of Contents\n",
    "\n",
    "1. [Business Understanding](#1.-Business-Understanding)\n",
    "2. [Data Understanding](#2.-Data-Understanding)\n",
    "3. [Data Preparation and EDA](#3.-Data-Preparation-and-EDA)   \n",
    "4. [Modeling](#4.-Modeling)   \n",
    "5. [Evaluation](#5.-Evaluation)\n",
    "6. [Appendix](#6.-Appendix)"
   ]
  },
  {
   "cell_type": "markdown",
   "metadata": {},
   "source": [
    "---\n",
    "# 1. Business Understanding\n",
    "---"
   ]
  },
  {
   "cell_type": "markdown",
   "metadata": {},
   "source": [
    "There are two facts about Tanzania we want the reader to know before continuing.\n",
    "<br /> \n",
    "####  Three out of ten people do not have access to basic drinking water. Four million people lack access to an improved source of safe water.     (******** need to add sources*********)\n",
    "<br /> \n",
    "  \n",
    "The Tanzania Ministry of Water has tasked our team with identifing which wells have a proclivity to be functional. while also identifying which wells are in need of repair. All of this will be acheived through predictive modeling from basic information we aquired about each well. \n",
    "  \n",
    "The process for a Tanzanian to procure water is very different compared to those of us who reside in a developed nation. Only 3% of homes in this (coastal? or southeastern?) country have a access point within their home while  81% of people are required to travel outside of their village or compound to reach a water well [[1]]. \n",
    "\n",
    "Our data scientist, Andrew, lived in Tanzaia for over a year and shared that during his participation during a excursion on water collecting where simply accessing the well took a 45 minute walk. This highlights the need for the Ministy of Water to be able to anticipate which wells are in need of service and thus allow a chance to be proactive with repairs.\n",
    "\n",
    "\n",
    "\n",
    "Due to the need of ___ **words are hard** ______ it's imperative to ensure that the wells communities depend on remain in service. Failing to find the best models or a high rate of error would directly affect citizens' abilty to remain at adequate hydration required for essential body functions to continue.\n",
    "\n",
    "\n",
    "\n",
    "\n",
    "There are _______ water wells out of a total of _______ in the country that have been recorded as functional.\n",
    "The purpose of this _________ is to find the best machine learning model to accurately predict which wells are in working order.\n",
    "to correctly predict/identify which water wells are correctly classified as functioning.\n",
    "\n",
    "\n",
    "#### This was done as we believe every Tanzanian community should have reliable access to clean water from their local well.\n",
    " \n",
    "#### We primarily focused on the precision of our model due to its focus on False Positives. \n",
    "As our binary target was split into wells needing repair(0) and functional wells (1), a false positive would mean marking a well as functioning when it is not. Every false positive means a community is not labeled as in need of aid. This can lead to a community to take drastic measures such as relocating to regain reliable access to water or risk dying of thirst. This is why identifying false positives is so important and is why we decided on precision as our evaluation metric.\n",
    "\n",
    "[1]: <https://www.washingtonpost.com/politics/2020/03/22/millions-africans-lack-access-clean-water-this-makes-coronavirus-bigger-threat/> \"[1]\""
   ]
  },
  {
   "cell_type": "markdown",
   "metadata": {},
   "source": [
    "---\n",
    "# 2. Data Understanding\n",
    "---"
   ]
  },
  {
   "cell_type": "markdown",
   "metadata": {},
   "source": [
    "Our team obtained data sets from DrivenData who did collection and some initial cleaning on information from the Tanzania Ministry of Water and Taarifa, a Rwandan news provider.   \n",
    "This initial data included a training data set which we found did contain each of these wells' functional status. "
   ]
  },
  {
   "cell_type": "markdown",
   "metadata": {},
   "source": [
    "## Importing the packages/libraries and our datasets"
   ]
  },
  {
   "cell_type": "code",
   "execution_count": 54,
   "metadata": {},
   "outputs": [],
   "source": [
    "# Import required packages\n",
    "import numpy as np\n",
    "\n",
    "import pandas as pd\n",
    "\n",
    "import matplotlib.pyplot as plt\n",
    "\n",
    "import seaborn as sns\n",
    "# import geopandas as gpd     #These two lines have been commented out as we had issues installing\n",
    "# import contextily as cx     #these libraries on certain computers\n",
    "\n",
    "from sklearn.tree import DecisionTreeClassifier\n",
    "from sklearn.linear_model import LogisticRegression\n",
    "from sklearn.dummy import DummyClassifier\n",
    "from sklearn.pipeline import Pipeline\n",
    "from sklearn.neighbors import KNeighborsClassifier\n",
    "from sklearn.ensemble import ExtraTreesClassifier\n",
    "from sklearn.ensemble import BaggingClassifier, RandomForestClassifier,\\\n",
    "ExtraTreesClassifier, VotingClassifier, StackingRegressor\n",
    "\n",
    "from sklearn.compose import ColumnTransformer\n",
    "from sklearn.model_selection import train_test_split, cross_val_score, cross_validate #GridSearchCVb\n",
    "from sklearn.preprocessing import StandardScaler, OneHotEncoder, FunctionTransformer\n",
    "from sklearn.metrics import confusion_matrix, plot_confusion_matrix,\\\n",
    "    precision_score, accuracy_score, log_loss, make_scorer\n"
   ]
  },
  {
   "cell_type": "code",
   "execution_count": 55,
   "metadata": {},
   "outputs": [],
   "source": [
    "# Importing CSV's\n",
    "df_test = pd.read_csv('data/test_set_values.csv')\n",
    "df_train = pd.read_csv('data/training_set_values.csv')\n",
    "df_train_label = pd.read_csv('data/training_set_labels.csv')"
   ]
  },
  {
   "cell_type": "code",
   "execution_count": 56,
   "metadata": {
    "scrolled": true
   },
   "outputs": [
    {
     "name": "stdout",
     "output_type": "stream",
     "text": [
      "<class 'pandas.core.frame.DataFrame'>\n",
      "RangeIndex: 14850 entries, 0 to 14849\n",
      "Data columns (total 40 columns):\n",
      " #   Column                 Non-Null Count  Dtype  \n",
      "---  ------                 --------------  -----  \n",
      " 0   id                     14850 non-null  int64  \n",
      " 1   amount_tsh             14850 non-null  float64\n",
      " 2   date_recorded          14850 non-null  object \n",
      " 3   funder                 13981 non-null  object \n",
      " 4   gps_height             14850 non-null  int64  \n",
      " 5   installer              13973 non-null  object \n",
      " 6   longitude              14850 non-null  float64\n",
      " 7   latitude               14850 non-null  float64\n",
      " 8   wpt_name               14850 non-null  object \n",
      " 9   num_private            14850 non-null  int64  \n",
      " 10  basin                  14850 non-null  object \n",
      " 11  subvillage             14751 non-null  object \n",
      " 12  region                 14850 non-null  object \n",
      " 13  region_code            14850 non-null  int64  \n",
      " 14  district_code          14850 non-null  int64  \n",
      " 15  lga                    14850 non-null  object \n",
      " 16  ward                   14850 non-null  object \n",
      " 17  population             14850 non-null  int64  \n",
      " 18  public_meeting         14029 non-null  object \n",
      " 19  recorded_by            14850 non-null  object \n",
      " 20  scheme_management      13881 non-null  object \n",
      " 21  scheme_name            7758 non-null   object \n",
      " 22  permit                 14113 non-null  object \n",
      " 23  construction_year      14850 non-null  int64  \n",
      " 24  extraction_type        14850 non-null  object \n",
      " 25  extraction_type_group  14850 non-null  object \n",
      " 26  extraction_type_class  14850 non-null  object \n",
      " 27  management             14850 non-null  object \n",
      " 28  management_group       14850 non-null  object \n",
      " 29  payment                14850 non-null  object \n",
      " 30  payment_type           14850 non-null  object \n",
      " 31  water_quality          14850 non-null  object \n",
      " 32  quality_group          14850 non-null  object \n",
      " 33  quantity               14850 non-null  object \n",
      " 34  quantity_group         14850 non-null  object \n",
      " 35  source                 14850 non-null  object \n",
      " 36  source_type            14850 non-null  object \n",
      " 37  source_class           14850 non-null  object \n",
      " 38  waterpoint_type        14850 non-null  object \n",
      " 39  waterpoint_type_group  14850 non-null  object \n",
      "dtypes: float64(3), int64(7), object(30)\n",
      "memory usage: 4.5+ MB\n"
     ]
    }
   ],
   "source": [
    "df_test.info()"
   ]
  },
  {
   "cell_type": "code",
   "execution_count": 57,
   "metadata": {
    "scrolled": true
   },
   "outputs": [
    {
     "name": "stdout",
     "output_type": "stream",
     "text": [
      "<class 'pandas.core.frame.DataFrame'>\n",
      "RangeIndex: 59400 entries, 0 to 59399\n",
      "Data columns (total 40 columns):\n",
      " #   Column                 Non-Null Count  Dtype  \n",
      "---  ------                 --------------  -----  \n",
      " 0   id                     59400 non-null  int64  \n",
      " 1   amount_tsh             59400 non-null  float64\n",
      " 2   date_recorded          59400 non-null  object \n",
      " 3   funder                 55765 non-null  object \n",
      " 4   gps_height             59400 non-null  int64  \n",
      " 5   installer              55745 non-null  object \n",
      " 6   longitude              59400 non-null  float64\n",
      " 7   latitude               59400 non-null  float64\n",
      " 8   wpt_name               59400 non-null  object \n",
      " 9   num_private            59400 non-null  int64  \n",
      " 10  basin                  59400 non-null  object \n",
      " 11  subvillage             59029 non-null  object \n",
      " 12  region                 59400 non-null  object \n",
      " 13  region_code            59400 non-null  int64  \n",
      " 14  district_code          59400 non-null  int64  \n",
      " 15  lga                    59400 non-null  object \n",
      " 16  ward                   59400 non-null  object \n",
      " 17  population             59400 non-null  int64  \n",
      " 18  public_meeting         56066 non-null  object \n",
      " 19  recorded_by            59400 non-null  object \n",
      " 20  scheme_management      55523 non-null  object \n",
      " 21  scheme_name            31234 non-null  object \n",
      " 22  permit                 56344 non-null  object \n",
      " 23  construction_year      59400 non-null  int64  \n",
      " 24  extraction_type        59400 non-null  object \n",
      " 25  extraction_type_group  59400 non-null  object \n",
      " 26  extraction_type_class  59400 non-null  object \n",
      " 27  management             59400 non-null  object \n",
      " 28  management_group       59400 non-null  object \n",
      " 29  payment                59400 non-null  object \n",
      " 30  payment_type           59400 non-null  object \n",
      " 31  water_quality          59400 non-null  object \n",
      " 32  quality_group          59400 non-null  object \n",
      " 33  quantity               59400 non-null  object \n",
      " 34  quantity_group         59400 non-null  object \n",
      " 35  source                 59400 non-null  object \n",
      " 36  source_type            59400 non-null  object \n",
      " 37  source_class           59400 non-null  object \n",
      " 38  waterpoint_type        59400 non-null  object \n",
      " 39  waterpoint_type_group  59400 non-null  object \n",
      "dtypes: float64(3), int64(7), object(30)\n",
      "memory usage: 18.1+ MB\n"
     ]
    }
   ],
   "source": [
    "df_train.info()"
   ]
  },
  {
   "cell_type": "code",
   "execution_count": 58,
   "metadata": {},
   "outputs": [
    {
     "data": {
      "text/plain": [
       "Index(['id', 'status_group'], dtype='object')"
      ]
     },
     "execution_count": 58,
     "metadata": {},
     "output_type": "execute_result"
    }
   ],
   "source": [
    "df_train_label.columns"
   ]
  },
  {
   "cell_type": "markdown",
   "metadata": {},
   "source": [
    "---\n",
    "# 3. Data Preparation and EDA\n",
    "---\n"
   ]
  },
  {
   "cell_type": "markdown",
   "metadata": {},
   "source": [
    "We continued with additional cleaning ourselves, changing the three initial well status targets into a binary target of wells that are completely functional and wells in need of repair. This weighs wells that are completely broken equally with wells that are technically functional, but are unreliable or have contaminated water due malfunction. "
   ]
  },
  {
   "cell_type": "code",
   "execution_count": 59,
   "metadata": {},
   "outputs": [],
   "source": [
    "# Reassigning targets to establish bionomial targets\n",
    "target = df_train_label.replace({'status_group': {'functional' : 1, \n",
    "                                'non functional' : 0, \n",
    "                                'functional needs repair' : 0}})\n",
    "df = pd.concat([df_train, target], axis = 1)"
   ]
  },
  {
   "cell_type": "code",
   "execution_count": 60,
   "metadata": {},
   "outputs": [
    {
     "name": "stdout",
     "output_type": "stream",
     "text": [
      "1    32259\n",
      "0    27141\n",
      "Name: status_group, dtype: int64\n"
     ]
    }
   ],
   "source": [
    "# Getting the number of wells that are functional and those that are not\n",
    "print(df['status_group'].value_counts())"
   ]
  },
  {
   "cell_type": "code",
   "execution_count": 61,
   "metadata": {
    "scrolled": true
   },
   "outputs": [
    {
     "name": "stdout",
     "output_type": "stream",
     "text": [
      "<class 'pandas.core.frame.DataFrame'>\n",
      "RangeIndex: 59400 entries, 0 to 59399\n",
      "Data columns (total 42 columns):\n",
      " #   Column                 Non-Null Count  Dtype  \n",
      "---  ------                 --------------  -----  \n",
      " 0   id                     59400 non-null  int64  \n",
      " 1   amount_tsh             59400 non-null  float64\n",
      " 2   date_recorded          59400 non-null  object \n",
      " 3   funder                 55765 non-null  object \n",
      " 4   gps_height             59400 non-null  int64  \n",
      " 5   installer              55745 non-null  object \n",
      " 6   longitude              59400 non-null  float64\n",
      " 7   latitude               59400 non-null  float64\n",
      " 8   wpt_name               59400 non-null  object \n",
      " 9   num_private            59400 non-null  int64  \n",
      " 10  basin                  59400 non-null  object \n",
      " 11  subvillage             59029 non-null  object \n",
      " 12  region                 59400 non-null  object \n",
      " 13  region_code            59400 non-null  int64  \n",
      " 14  district_code          59400 non-null  int64  \n",
      " 15  lga                    59400 non-null  object \n",
      " 16  ward                   59400 non-null  object \n",
      " 17  population             59400 non-null  int64  \n",
      " 18  public_meeting         56066 non-null  object \n",
      " 19  recorded_by            59400 non-null  object \n",
      " 20  scheme_management      55523 non-null  object \n",
      " 21  scheme_name            31234 non-null  object \n",
      " 22  permit                 56344 non-null  object \n",
      " 23  construction_year      59400 non-null  int64  \n",
      " 24  extraction_type        59400 non-null  object \n",
      " 25  extraction_type_group  59400 non-null  object \n",
      " 26  extraction_type_class  59400 non-null  object \n",
      " 27  management             59400 non-null  object \n",
      " 28  management_group       59400 non-null  object \n",
      " 29  payment                59400 non-null  object \n",
      " 30  payment_type           59400 non-null  object \n",
      " 31  water_quality          59400 non-null  object \n",
      " 32  quality_group          59400 non-null  object \n",
      " 33  quantity               59400 non-null  object \n",
      " 34  quantity_group         59400 non-null  object \n",
      " 35  source                 59400 non-null  object \n",
      " 36  source_type            59400 non-null  object \n",
      " 37  source_class           59400 non-null  object \n",
      " 38  waterpoint_type        59400 non-null  object \n",
      " 39  waterpoint_type_group  59400 non-null  object \n",
      " 40  id                     59400 non-null  int64  \n",
      " 41  status_group           59400 non-null  int64  \n",
      "dtypes: float64(3), int64(9), object(30)\n",
      "memory usage: 19.0+ MB\n"
     ]
    }
   ],
   "source": [
    "df.info()"
   ]
  },
  {
   "cell_type": "code",
   "execution_count": 62,
   "metadata": {},
   "outputs": [
    {
     "data": {
      "text/html": [
       "<div>\n",
       "<style scoped>\n",
       "    .dataframe tbody tr th:only-of-type {\n",
       "        vertical-align: middle;\n",
       "    }\n",
       "\n",
       "    .dataframe tbody tr th {\n",
       "        vertical-align: top;\n",
       "    }\n",
       "\n",
       "    .dataframe thead th {\n",
       "        text-align: right;\n",
       "    }\n",
       "</style>\n",
       "<table border=\"1\" class=\"dataframe\">\n",
       "  <thead>\n",
       "    <tr style=\"text-align: right;\">\n",
       "      <th></th>\n",
       "      <th>id</th>\n",
       "      <th>amount_tsh</th>\n",
       "      <th>gps_height</th>\n",
       "      <th>longitude</th>\n",
       "      <th>latitude</th>\n",
       "      <th>num_private</th>\n",
       "      <th>region_code</th>\n",
       "      <th>district_code</th>\n",
       "      <th>population</th>\n",
       "      <th>construction_year</th>\n",
       "      <th>id</th>\n",
       "      <th>status_group</th>\n",
       "    </tr>\n",
       "  </thead>\n",
       "  <tbody>\n",
       "    <tr>\n",
       "      <th>count</th>\n",
       "      <td>59400.000000</td>\n",
       "      <td>59400.000000</td>\n",
       "      <td>59400.000000</td>\n",
       "      <td>59400.000000</td>\n",
       "      <td>5.940000e+04</td>\n",
       "      <td>59400.000000</td>\n",
       "      <td>59400.000000</td>\n",
       "      <td>59400.000000</td>\n",
       "      <td>59400.000000</td>\n",
       "      <td>59400.000000</td>\n",
       "      <td>59400.000000</td>\n",
       "      <td>59400.000000</td>\n",
       "    </tr>\n",
       "    <tr>\n",
       "      <th>mean</th>\n",
       "      <td>37115.131768</td>\n",
       "      <td>317.650385</td>\n",
       "      <td>668.297239</td>\n",
       "      <td>34.077427</td>\n",
       "      <td>-5.706033e+00</td>\n",
       "      <td>0.474141</td>\n",
       "      <td>15.297003</td>\n",
       "      <td>5.629747</td>\n",
       "      <td>179.909983</td>\n",
       "      <td>1300.652475</td>\n",
       "      <td>37115.131768</td>\n",
       "      <td>0.543081</td>\n",
       "    </tr>\n",
       "    <tr>\n",
       "      <th>std</th>\n",
       "      <td>21453.128371</td>\n",
       "      <td>2997.574558</td>\n",
       "      <td>693.116350</td>\n",
       "      <td>6.567432</td>\n",
       "      <td>2.946019e+00</td>\n",
       "      <td>12.236230</td>\n",
       "      <td>17.587406</td>\n",
       "      <td>9.633649</td>\n",
       "      <td>471.482176</td>\n",
       "      <td>951.620547</td>\n",
       "      <td>21453.128371</td>\n",
       "      <td>0.498145</td>\n",
       "    </tr>\n",
       "    <tr>\n",
       "      <th>min</th>\n",
       "      <td>0.000000</td>\n",
       "      <td>0.000000</td>\n",
       "      <td>-90.000000</td>\n",
       "      <td>0.000000</td>\n",
       "      <td>-1.164944e+01</td>\n",
       "      <td>0.000000</td>\n",
       "      <td>1.000000</td>\n",
       "      <td>0.000000</td>\n",
       "      <td>0.000000</td>\n",
       "      <td>0.000000</td>\n",
       "      <td>0.000000</td>\n",
       "      <td>0.000000</td>\n",
       "    </tr>\n",
       "    <tr>\n",
       "      <th>25%</th>\n",
       "      <td>18519.750000</td>\n",
       "      <td>0.000000</td>\n",
       "      <td>0.000000</td>\n",
       "      <td>33.090347</td>\n",
       "      <td>-8.540621e+00</td>\n",
       "      <td>0.000000</td>\n",
       "      <td>5.000000</td>\n",
       "      <td>2.000000</td>\n",
       "      <td>0.000000</td>\n",
       "      <td>0.000000</td>\n",
       "      <td>18519.750000</td>\n",
       "      <td>0.000000</td>\n",
       "    </tr>\n",
       "    <tr>\n",
       "      <th>50%</th>\n",
       "      <td>37061.500000</td>\n",
       "      <td>0.000000</td>\n",
       "      <td>369.000000</td>\n",
       "      <td>34.908743</td>\n",
       "      <td>-5.021597e+00</td>\n",
       "      <td>0.000000</td>\n",
       "      <td>12.000000</td>\n",
       "      <td>3.000000</td>\n",
       "      <td>25.000000</td>\n",
       "      <td>1986.000000</td>\n",
       "      <td>37061.500000</td>\n",
       "      <td>1.000000</td>\n",
       "    </tr>\n",
       "    <tr>\n",
       "      <th>75%</th>\n",
       "      <td>55656.500000</td>\n",
       "      <td>20.000000</td>\n",
       "      <td>1319.250000</td>\n",
       "      <td>37.178387</td>\n",
       "      <td>-3.326156e+00</td>\n",
       "      <td>0.000000</td>\n",
       "      <td>17.000000</td>\n",
       "      <td>5.000000</td>\n",
       "      <td>215.000000</td>\n",
       "      <td>2004.000000</td>\n",
       "      <td>55656.500000</td>\n",
       "      <td>1.000000</td>\n",
       "    </tr>\n",
       "    <tr>\n",
       "      <th>max</th>\n",
       "      <td>74247.000000</td>\n",
       "      <td>350000.000000</td>\n",
       "      <td>2770.000000</td>\n",
       "      <td>40.345193</td>\n",
       "      <td>-2.000000e-08</td>\n",
       "      <td>1776.000000</td>\n",
       "      <td>99.000000</td>\n",
       "      <td>80.000000</td>\n",
       "      <td>30500.000000</td>\n",
       "      <td>2013.000000</td>\n",
       "      <td>74247.000000</td>\n",
       "      <td>1.000000</td>\n",
       "    </tr>\n",
       "  </tbody>\n",
       "</table>\n",
       "</div>"
      ],
      "text/plain": [
       "                 id     amount_tsh    gps_height     longitude      latitude  \\\n",
       "count  59400.000000   59400.000000  59400.000000  59400.000000  5.940000e+04   \n",
       "mean   37115.131768     317.650385    668.297239     34.077427 -5.706033e+00   \n",
       "std    21453.128371    2997.574558    693.116350      6.567432  2.946019e+00   \n",
       "min        0.000000       0.000000    -90.000000      0.000000 -1.164944e+01   \n",
       "25%    18519.750000       0.000000      0.000000     33.090347 -8.540621e+00   \n",
       "50%    37061.500000       0.000000    369.000000     34.908743 -5.021597e+00   \n",
       "75%    55656.500000      20.000000   1319.250000     37.178387 -3.326156e+00   \n",
       "max    74247.000000  350000.000000   2770.000000     40.345193 -2.000000e-08   \n",
       "\n",
       "        num_private   region_code  district_code    population  \\\n",
       "count  59400.000000  59400.000000   59400.000000  59400.000000   \n",
       "mean       0.474141     15.297003       5.629747    179.909983   \n",
       "std       12.236230     17.587406       9.633649    471.482176   \n",
       "min        0.000000      1.000000       0.000000      0.000000   \n",
       "25%        0.000000      5.000000       2.000000      0.000000   \n",
       "50%        0.000000     12.000000       3.000000     25.000000   \n",
       "75%        0.000000     17.000000       5.000000    215.000000   \n",
       "max     1776.000000     99.000000      80.000000  30500.000000   \n",
       "\n",
       "       construction_year            id  status_group  \n",
       "count       59400.000000  59400.000000  59400.000000  \n",
       "mean         1300.652475  37115.131768      0.543081  \n",
       "std           951.620547  21453.128371      0.498145  \n",
       "min             0.000000      0.000000      0.000000  \n",
       "25%             0.000000  18519.750000      0.000000  \n",
       "50%          1986.000000  37061.500000      1.000000  \n",
       "75%          2004.000000  55656.500000      1.000000  \n",
       "max          2013.000000  74247.000000      1.000000  "
      ]
     },
     "execution_count": 62,
     "metadata": {},
     "output_type": "execute_result"
    }
   ],
   "source": [
    "df.describe()"
   ]
  },
  {
   "cell_type": "markdown",
   "metadata": {},
   "source": [
    "## Eliminating features that we found to be redudant or unuseable for our models. \n",
    "\n",
    "Many of the features had the same information provided by similar features in the dataset so we trimmed them. In addition to this some features like `'num_private'` had no feature descriptions explaining what it was so we chose to not utilize it."
   ]
  },
  {
   "cell_type": "code",
   "execution_count": 63,
   "metadata": {},
   "outputs": [],
   "source": [
    "# Removing columns that are non-factors for our model\n",
    "col_to_delete = ['id', 'recorded_by', 'funder', 'public_meeting',\n",
    "                'lga', 'ward', 'region_code', 'district_code', \n",
    "                 'wpt_name','scheme_name', 'extraction_type', 'extraction_type_group',\n",
    "                 'payment', 'quality_group', 'source_type', 'quantity_group',\n",
    "                 'waterpoint_type_group', 'subvillage', 'num_private']"
   ]
  },
  {
   "cell_type": "markdown",
   "metadata": {},
   "source": [
    "We created a new feature `'year_recorded'` to capture only the year that the data was recorded to transform the `'date_recorded'`. This was because we believed that this may have been important to keep in our data, but keeping it in its original state may have cause our model to be too complex with the sheer number of unique values."
   ]
  },
  {
   "cell_type": "markdown",
   "metadata": {},
   "source": [
    "We applied the same thought processes to the following features. In addition we dropped any data that was entered before 2005 as it only comprised 0.06% of our data and created additional problems when attempting to train test split our data."
   ]
  },
  {
   "cell_type": "code",
   "execution_count": 64,
   "metadata": {},
   "outputs": [],
   "source": [
    "def data_cleaning(df_to_clean):\n",
    "    # Removing columns that are non-factors for our model\n",
    "    col_to_delete = ['id', 'recorded_by', 'funder', 'public_meeting',\n",
    "                'lga', 'ward', 'region_code', 'district_code', \n",
    "                 'wpt_name','scheme_name', 'extraction_type', 'extraction_type_group',\n",
    "                 'payment', 'quality_group', 'source_type', 'quantity_group',\n",
    "                 'waterpoint_type_group', 'subvillage', 'num_private']\n",
    "    \n",
    "    # Remove duplicated data entries and null values\n",
    "    dfn = df_to_clean.drop(col_to_delete, axis = 1)\n",
    "    dfn = dfn.dropna(axis = 0) \n",
    "    \n",
    "    # Pulling the year off and type casting to int\n",
    "    dfn['year_recorded'] = [int(val[0:4]) for val in dfn['date_recorded']]\n",
    "    dfn['year_recorded'].astype(np.int64)\n",
    "    dfn.drop(['date_recorded'], axis = 'columns', inplace = True)\n",
    "    \n",
    "    # Binning the years into decades\n",
    "    dfn['construction_year'] = ['unknown' if val == 0 \n",
    "                           else str((val // 10) * 10) for val in dfn['construction_year']]\n",
    "    \n",
    "    # Binning the unique values\n",
    "    scheme_management_list = ['SWC', 'Trust', 'None']\n",
    "    dfn['scheme_management'].replace(scheme_management_list, 'Other', inplace = True)\n",
    "    \n",
    "    # Binning unique values\n",
    "    installer_list = ['DWE', 'Government', 'Commu', 'DANIDA', \n",
    "                  'RWE', 'KKKT', 'TCRS']\n",
    "    dfn['installer'] = ['Other' if val not in installer_list \n",
    "                           else val for val in dfn['installer']]\n",
    "\n",
    "    dfn.drop(dfn.index[dfn['year_recorded'] < 2005], inplace=True)\n",
    "    dfn.reset_index(inplace=True, drop=True)\n",
    "    return dfn"
   ]
  },
  {
   "cell_type": "markdown",
   "metadata": {},
   "source": [
    "---\n",
    "# 4. Modeling\n",
    "---\n"
   ]
  },
  {
   "cell_type": "markdown",
   "metadata": {},
   "source": [
    "The cleaned training data was combined with the target data and split into a 75% train/25% testing set for us to train and evaluate the effectiveness of our models before we attempted to use them on our true testing data, a similar list of wells with no functional status provided.\n",
    "\n",
    "We also designed functions for :\n",
    "- One Hot Encoding and Scaling our data\n",
    "- Creating a dataframe with scaled numerics and one hot encoded categoricals\n",
    "- Printing the accuracy, precision score as well as a confusion matrix for the model"
   ]
  },
  {
   "cell_type": "code",
   "execution_count": 65,
   "metadata": {},
   "outputs": [],
   "source": [
    "def num_encoder(df_to_encode):\n",
    "    ss = StandardScaler()\n",
    "\n",
    "    ss.fit(df_to_encode)\n",
    "    nums_df = pd.DataFrame(ss.transform(df_to_encode),\n",
    "                           columns = df_to_encode.columns,\n",
    "                          index = df_to_encode.index)\n",
    "    return nums_df\n",
    "\n",
    "def cat_encoder(df_to_encode):\n",
    "    ohe = OneHotEncoder(\n",
    "        drop = 'first',\n",
    "        sparse = False)\n",
    "    \n",
    "    dums = ohe.fit_transform(df_to_encode)\n",
    "    dums_df = pd.DataFrame(dums,\n",
    "                            columns = ohe.get_feature_names(),\n",
    "                            index = df_to_encode.index)\n",
    "    return dums_df"
   ]
  },
  {
   "cell_type": "code",
   "execution_count": 66,
   "metadata": {},
   "outputs": [],
   "source": [
    "def split_join(split):\n",
    "    categories = split.select_dtypes('object')\n",
    "    numerics = split.select_dtypes(['float64', 'int64'])\n",
    "\n",
    "    joined = pd.concat([num_encoder(numerics), cat_encoder(categories)], axis = 1)\n",
    "    return joined"
   ]
  },
  {
   "cell_type": "code",
   "execution_count": 67,
   "metadata": {},
   "outputs": [],
   "source": [
    "def score_maxtrix_printer(model, X_train, y_train, X_test, y_test):\n",
    "    \n",
    "    train_pred = model.predict(X_train)\n",
    "    test_pred = model.predict(X_test)\n",
    "    \n",
    "    ascore_train = accuracy_score(y_train, train_pred)\n",
    "    pscore_train = precision_score(y_train, train_pred)\n",
    "    \n",
    "    ascore_test = accuracy_score(y_test, test_pred)\n",
    "    pscore_test = precision_score(y_test, test_pred)\n",
    "    \n",
    "    conf_mat = plot_confusion_matrix(model, X_test, y_test)\n",
    "    \n",
    "    print(f\"\"\"\n",
    "    Train Accuracy: {ascore_train}\n",
    "    Train Precision: {pscore_train}\n",
    "    Test Accuracy: {ascore_test}\n",
    "    Test Precision: {pscore_test}\n",
    "    \"\"\")\n"
   ]
  },
  {
   "cell_type": "markdown",
   "metadata": {},
   "source": [
    "---\n",
    "## Establishing the Dummy Model"
   ]
  },
  {
   "cell_type": "code",
   "execution_count": 68,
   "metadata": {},
   "outputs": [],
   "source": [
    "df2 = data_cleaning(df)"
   ]
  },
  {
   "cell_type": "code",
   "execution_count": 69,
   "metadata": {},
   "outputs": [],
   "source": [
    "y = df2.status_group\n",
    "X = df2.drop('status_group', axis = 1)\n",
    "\n",
    "X_train, X_test, y_train, y_test = train_test_split(X, y, \n",
    "                                                    test_size = 0.25, random_state = 69)"
   ]
  },
  {
   "cell_type": "code",
   "execution_count": 70,
   "metadata": {},
   "outputs": [
    {
     "data": {
      "text/plain": [
       "0.546180041072032"
      ]
     },
     "execution_count": 70,
     "metadata": {},
     "output_type": "execute_result"
    }
   ],
   "source": [
    "X_train_cat = X_train.select_dtypes('object')\n",
    "X_train_nums = X_train.select_dtypes(['float64', 'int64'])\n",
    "\n",
    "cont_pipeline = Pipeline(steps=[\n",
    "    ('ss', StandardScaler())\n",
    "])\n",
    "\n",
    "cat_pipeline = Pipeline(steps=[\n",
    "    ('ohe', OneHotEncoder(drop = 'first'))\n",
    "])\n",
    "\n",
    "trans = ColumnTransformer(transformers=[\n",
    "    ('continuous', cont_pipeline, X_train_nums.columns),\n",
    "    ('categorical', cat_pipeline, X_train_cat.columns)\n",
    "])\n",
    "\n",
    "dummy = Pipeline(steps=[\n",
    "    ('trans', trans),\n",
    "    ('dummy', DummyClassifier(random_state = 69, strategy = 'most_frequent'))\n",
    "])\n",
    "\n",
    "#Fitting and checking the score\n",
    "dummy.fit(X_train, y_train)\n",
    "dummy.score(X_train, y_train)"
   ]
  },
  {
   "cell_type": "markdown",
   "metadata": {},
   "source": [
    "Our dummy model predictably produces a score of 54% because it is based on the majority target."
   ]
  },
  {
   "cell_type": "markdown",
   "metadata": {},
   "source": [
    "---\n",
    "## Model 1 (Decision Tree Classifier)\n",
    "\n",
    "We decided to use a decision tree as our first model for feature selection. For the first iteration we did not specify any hyper-parameters except for the random state."
   ]
  },
  {
   "cell_type": "code",
   "execution_count": 71,
   "metadata": {},
   "outputs": [],
   "source": [
    "X_train_clean = split_join(X_train)\n",
    "X_test_clean = split_join(X_test)"
   ]
  },
  {
   "cell_type": "code",
   "execution_count": 72,
   "metadata": {},
   "outputs": [
    {
     "name": "stdout",
     "output_type": "stream",
     "text": [
      "\n",
      "    Train Accuracy: 0.9955028724427462\n",
      "    Train Precision: 0.996568487274807\n",
      "    Test Accuracy: 0.7287117903930131\n",
      "    Test Precision: 0.7751388032078964\n",
      "    \n"
     ]
    },
    {
     "data": {
      "image/png": "[encoded data removed]",
      "text/plain": [
       "<Figure size 432x288 with 2 Axes>"
      ]
     },
     "metadata": {
      "needs_background": "light"
     },
     "output_type": "display_data"
    }
   ],
   "source": [
    "decision_tree = DecisionTreeClassifier(random_state = 69)\n",
    "decision_tree.fit(X_train_clean, y_train)\n",
    "\n",
    "score_maxtrix_printer(decision_tree, X_train_clean, y_train, X_test_clean, y_test)"
   ]
  },
  {
   "cell_type": "markdown",
   "metadata": {},
   "source": [
    "Unsurprisingly the model is severly overfit with an accuracy score of 99% and precision score of 99% on the training set in comparison to the accuracy score of 70% and precision score of 74% on our testing set."
   ]
  },
  {
   "cell_type": "markdown",
   "metadata": {},
   "source": [
    "---\n",
    "## Grid Search for Model 2 Optimal Parameters\n",
    "\n",
    "We utilized Grid Search to find the optimal hyper-parameters for our Decision Tree model."
   ]
  },
  {
   "cell_type": "code",
   "execution_count": 73,
   "metadata": {},
   "outputs": [
    {
     "data": {
      "text/plain": [
       "DecisionTreeClassifier()"
      ]
     },
     "execution_count": 73,
     "metadata": {},
     "output_type": "execute_result"
    }
   ],
   "source": [
    "decision_tree = DecisionTreeClassifier()\n",
    "decision_tree.fit(X_train_clean, y_train)"
   ]
  },
  {
   "cell_type": "code",
   "execution_count": 74,
   "metadata": {},
   "outputs": [],
   "source": [
    "param_dict = {\n",
    "    \"criterion\":['gini', 'entropy'],\n",
    "    \"max_depth\":[1, 10, 25, 50],\n",
    "    \"min_samples_split\":range(1, 10),\n",
    "    \"min_samples_leaf\":range(1, 10)\n",
    "}"
   ]
  },
  {
   "cell_type": "code",
   "execution_count": 75,
   "metadata": {},
   "outputs": [],
   "source": [
    "# tw = GridSearchCV(estimator=decision_tree,\n",
    "#                  param_grid=param_dict,\n",
    "#                  cv=5,\n",
    "#                  verbose=1,\n",
    "#                  n_jobs=-1)\n",
    "# tw.fit(X_train_clean, y_train)"
   ]
  },
  {
   "cell_type": "code",
   "execution_count": 76,
   "metadata": {},
   "outputs": [],
   "source": [
    "# print(tw.best_params_)\n",
    "# print(tw.best_estimator_)\n",
    "# print(tw.best_score_)"
   ]
  },
  {
   "cell_type": "markdown",
   "metadata": {},
   "source": [
    "Here we found that the best parameters for our Decision Tree model are <br>`criterion = 'gini', max_depth = 25, min_samples_leaf = 7`"
   ]
  },
  {
   "cell_type": "markdown",
   "metadata": {},
   "source": [
    "Kept getting different `min_samples_split` value without results changing so it seems `criterion`, `max_depth`, & and `min_samples_leaf` give us a consistent enough result that `min_samples_split` does not need to be manipulated by us."
   ]
  },
  {
   "cell_type": "markdown",
   "metadata": {},
   "source": [
    "---\n",
    "## Model 2 (Decision Tree) with Optimized Parameters"
   ]
  },
  {
   "cell_type": "code",
   "execution_count": 77,
   "metadata": {},
   "outputs": [
    {
     "name": "stdout",
     "output_type": "stream",
     "text": [
      "\n",
      "    Train Accuracy: 0.8749382619771764\n",
      "    Train Precision: 0.8799249530956847\n",
      "    Test Accuracy: 0.7585776668746101\n",
      "    Test Precision: 0.7886891714160456\n",
      "    \n"
     ]
    },
    {
     "data": {
      "image/png": "[encoded data removed]",
      "text/plain": [
       "<Figure size 432x288 with 2 Axes>"
      ]
     },
     "metadata": {
      "needs_background": "light"
     },
     "output_type": "display_data"
    }
   ],
   "source": [
    "decision_tree_better = DecisionTreeClassifier(random_state = 69, criterion = 'gini', \n",
    "                                              max_depth = 25, min_samples_leaf = 7)\n",
    "decision_tree_better.fit(X_train_clean, y_train)\n",
    "\n",
    "score_maxtrix_printer(decision_tree_better, X_train_clean, y_train, X_test_clean, y_test)"
   ]
  },
  {
   "cell_type": "markdown",
   "metadata": {},
   "source": [
    "With our optimized parameters, this decision tree performed much better than our first attempt, with new training  accuracy and precion scores of nearly 88% and a test accuracy and precion scores of 74%."
   ]
  },
  {
   "cell_type": "markdown",
   "metadata": {},
   "source": [
    "---\n",
    "## Feature Importance & Model 3 (Logistic Regression) Using Top Predictors\n",
    "\n",
    "Next, we used the `ExtraTreesClassifier()` to identify the features with the highest importance."
   ]
  },
  {
   "cell_type": "code",
   "execution_count": 78,
   "metadata": {},
   "outputs": [
    {
     "name": "stdout",
     "output_type": "stream",
     "text": [
      "[1.53392124e-02 7.13904557e-02 1.37666102e-01 1.35345402e-01\n",
      " 4.67744056e-02 1.01183503e-02 1.37823675e-03 1.03019633e-02\n",
      " 5.58791841e-03 8.59779521e-04 1.17736664e-02 3.07802879e-03\n",
      " 1.23811245e-03 5.57266686e-03 3.31959277e-03 4.92490926e-03\n",
      " 4.67811082e-03 5.95947483e-03 4.65541859e-03 3.83060601e-03\n",
      " 4.38810862e-03 7.95645116e-04 2.47813720e-03 8.77516913e-03\n",
      " 2.50692656e-03 2.96158048e-03 3.69426069e-03 1.53515973e-03\n",
      " 2.84610147e-03 2.19970537e-03 3.10737295e-03 2.39784553e-03\n",
      " 2.07084538e-03 2.85845156e-03 3.34715451e-03 2.36581819e-03\n",
      " 2.12576971e-03 2.39395596e-03 1.41367371e-03 1.82025031e-03\n",
      " 2.79273861e-03 1.23978961e-03 1.45842628e-03 1.51096152e-03\n",
      " 6.42067771e-03 1.96965165e-03 2.76053430e-03 3.61972337e-03\n",
      " 3.90281646e-03 1.39174262e-02 9.61975377e-03 6.85953644e-03\n",
      " 7.30363441e-03 1.21189575e-02 1.16788080e-02 6.29141399e-03\n",
      " 9.04561494e-03 4.22955381e-03 2.67979293e-02 7.83280383e-04\n",
      " 7.64937438e-03 4.88639242e-04 7.56776812e-04 2.08662513e-04\n",
      " 1.42694719e-03 2.45830364e-03 2.55192215e-04 3.27600330e-04\n",
      " 8.06385539e-03 1.31452279e-03 3.44046058e-03 1.63291071e-03\n",
      " 2.90657021e-03 9.17265453e-04 1.36769497e-03 3.26087244e-04\n",
      " 4.65280019e-03 6.34068280e-03 2.11253110e-02 4.46355096e-03\n",
      " 1.65269174e-03 9.54471325e-03 8.02934403e-03 7.20163990e-04\n",
      " 6.68877841e-05 1.18465220e-03 5.59077440e-03 1.34216356e-03\n",
      " 8.31675917e-03 4.71399602e-03 5.57819047e-02 2.71582589e-02\n",
      " 1.37957963e-02 1.69443634e-03 1.58027864e-03 1.87858402e-03\n",
      " 8.21819832e-03 5.67670635e-04 3.87283281e-03 4.67825120e-03\n",
      " 7.94721584e-03 8.71807435e-03 1.39314113e-04 6.69941917e-03\n",
      " 6.29442435e-04 1.46119971e-02 1.25610871e-02 3.27597330e-05\n",
      " 8.09304474e-03 2.16902131e-03 3.36914840e-02]\n"
     ]
    },
    {
     "data": {
      "image/png": "[encoded data removed]",
      "text/plain": [
       "<Figure size 432x288 with 1 Axes>"
      ]
     },
     "metadata": {
      "needs_background": "light"
     },
     "output_type": "display_data"
    }
   ],
   "source": [
    "model = ExtraTreesClassifier()\n",
    "model.fit(X_train_clean, y_train)\n",
    "\n",
    "print(model.feature_importances_) #use inbuilt class feature_importances of tree based classifiers\n",
    "\n",
    "#plot graph of feature importances for better visualization\n",
    "feat_importances = pd.Series(model.feature_importances_, index = X_train_clean.columns)\n",
    "feat_importances.nlargest(10).plot(kind = 'barh')\n",
    "plt.show()"
   ]
  },
  {
   "cell_type": "code",
   "execution_count": 79,
   "metadata": {},
   "outputs": [],
   "source": [
    "# gathering top features together\n",
    "importance_col = ['longitude', 'latitude', 'gps_height', 'quantity', \n",
    "                  'status_group', 'population', 'waterpoint_type', \n",
    "                 'extraction_type_class', 'payment_type', 'amount_tsh']\n",
    "df_importance = df2[importance_col]"
   ]
  },
  {
   "cell_type": "markdown",
   "metadata": {},
   "source": [
    "---\n",
    " We then used our top 10 most important features to predict our model using logistic regression."
   ]
  },
  {
   "cell_type": "code",
   "execution_count": 80,
   "metadata": {},
   "outputs": [],
   "source": [
    "y_Ext = df_importance.status_group\n",
    "X_Ext = df_importance.drop('status_group', axis = 1)\n",
    "\n",
    "X_train_Ext, X_test_Ext, y_train_Ext, y_test_Ext = train_test_split(X_Ext, y_Ext, \n",
    "                                                        test_size = 0.25, random_state = 69)"
   ]
  },
  {
   "cell_type": "code",
   "execution_count": 81,
   "metadata": {},
   "outputs": [],
   "source": [
    "X_train_clean_Ext = split_join(X_train_Ext)\n",
    "X_test_clean_Ext = split_join(X_test_Ext)"
   ]
  },
  {
   "cell_type": "code",
   "execution_count": 82,
   "metadata": {},
   "outputs": [
    {
     "name": "stdout",
     "output_type": "stream",
     "text": [
      "\n",
      "    Train Accuracy: 0.7301983415217448\n",
      "    Train Precision: 0.6905649555491826\n",
      "    Test Accuracy: 0.7339363693075484\n",
      "    Test Precision: 0.6994841400504884\n",
      "    \n"
     ]
    },
    {
     "data": {
      "image/png": "[encoded data removed]",
      "text/plain": [
       "<Figure size 432x288 with 2 Axes>"
      ]
     },
     "metadata": {
      "needs_background": "light"
     },
     "output_type": "display_data"
    }
   ],
   "source": [
    "logreg_clf_Ext = LogisticRegression(random_state = 69, max_iter = 1000)\n",
    "logreg_model_Ext = logreg_clf_Ext.fit(X_train_clean_Ext, y_train_Ext)\n",
    "\n",
    "score_maxtrix_printer(logreg_model_Ext, X_train_clean_Ext, y_train_Ext, X_test_clean_Ext, y_test_Ext)"
   ]
  },
  {
   "cell_type": "markdown",
   "metadata": {},
   "source": [
    "We recorded that the top 10 predictors we recived from our `ExtraTreesClassifier()` had a 73% accuracy score and 69% precision score of our test data when using a `LogisticRegression()`. Next, we ran a new Logistic Regression model which utilized all predictor columns available."
   ]
  },
  {
   "cell_type": "markdown",
   "metadata": {},
   "source": [
    "---\n",
    "## Model 4 (Logistic Regression) Utilizing All Predictors"
   ]
  },
  {
   "cell_type": "code",
   "execution_count": 83,
   "metadata": {},
   "outputs": [
    {
     "name": "stdout",
     "output_type": "stream",
     "text": [
      "\n",
      "    Train Accuracy: 0.7608723907561933\n",
      "    Train Precision: 0.743065272861964\n",
      "    Test Accuracy: 0.7614628820960698\n",
      "    Test Precision: 0.7472718253968254\n",
      "    \n"
     ]
    },
    {
     "data": {
      "image/png": "[encoded data removed]",
      "text/plain": [
       "<Figure size 432x288 with 2 Axes>"
      ]
     },
     "metadata": {
      "needs_background": "light"
     },
     "output_type": "display_data"
    }
   ],
   "source": [
    "# All predictors were utilized in this model\n",
    "logreg_clf = LogisticRegression(random_state = 69, max_iter = 1000)\n",
    "logreg_model = logreg_clf.fit(X_train_clean, y_train)\n",
    "\n",
    "score_maxtrix_printer(logreg_model, X_train_clean, y_train, X_test_clean, y_test)"
   ]
  },
  {
   "cell_type": "markdown",
   "metadata": {},
   "source": [
    "With all predictors, both our training and testing sets' metrics improved. Accuracy had gone up to 76% and precision reached 74%.\n"
   ]
  },
  {
   "cell_type": "markdown",
   "metadata": {},
   "source": [
    "---\n",
    "## Grid Search for Model 5 Optimal Parameters\n",
    "\n",
    "For our final indivdual model, we again utilized Grid Search to find the optimal hyper-parameters for a kNN model.\n"
   ]
  },
  {
   "cell_type": "code",
   "execution_count": 84,
   "metadata": {},
   "outputs": [],
   "source": [
    "knn_model = KNeighborsClassifier()\n",
    "knn_model.fit(X_train_clean, y_train)\n",
    "grid = {\n",
    "    'n_neighbors': range(1, 15),\n",
    "    'metric': ['manhattan', 'minkowski'],\n",
    "    'weights' : ['distance', 'uniform']\n",
    "}"
   ]
  },
  {
   "cell_type": "code",
   "execution_count": 85,
   "metadata": {},
   "outputs": [],
   "source": [
    "# gs = GridSearchCV(estimator = knn_model, param_grid = grid, cv = 5, verbose = 1, n_jobs = -1)\n",
    "# gs.fit(X_train_clean, y_train)"
   ]
  },
  {
   "cell_type": "code",
   "execution_count": 86,
   "metadata": {},
   "outputs": [],
   "source": [
    "# gs.best_params_"
   ]
  },
  {
   "cell_type": "markdown",
   "metadata": {},
   "source": [
    "Here we found that the best parameters for our kNN model are <br>  `n_neighbors = 14, metric = 'manhattan', weights = 'distance'`"
   ]
  },
  {
   "cell_type": "markdown",
   "metadata": {},
   "source": [
    "---\n",
    "## Model 5 (K Nearest Neighbors) with Optimized Parameters\n",
    "\n",
    "We next ran a new `KNeighborsClassifier()` model with our optimal hyperparameters to see what metric results we would get for our training and testing sets."
   ]
  },
  {
   "cell_type": "code",
   "execution_count": 87,
   "metadata": {},
   "outputs": [
    {
     "name": "stdout",
     "output_type": "stream",
     "text": [
      "\n",
      "    Train Accuracy: 0.9955028724427462\n",
      "    Train Precision: 0.996568487274807\n",
      "    Test Accuracy: 0.799516531503431\n",
      "    Test Precision: 0.7991978609625668\n",
      "    \n"
     ]
    },
    {
     "data": {
      "image/png": "[encoded data removed]",
      "text/plain": [
       "<Figure size 432x288 with 2 Axes>"
      ]
     },
     "metadata": {
      "needs_background": "light"
     },
     "output_type": "display_data"
    }
   ],
   "source": [
    "knn_better = KNeighborsClassifier(14, metric = \"manhattan\", weights = 'distance') \n",
    "knn_better.fit(X_train_clean, y_train)\n",
    "\n",
    "score_maxtrix_printer(knn_better, X_train_clean, y_train, X_test_clean, y_test)"
   ]
  },
  {
   "cell_type": "markdown",
   "metadata": {},
   "source": [
    "While our kNN model overfit on our training data, our testing data metrics were the best so far  us our best testing results so far, with an accuracy score and a precison score of 80%."
   ]
  },
  {
   "cell_type": "markdown",
   "metadata": {},
   "source": [
    "---\n",
    "# 5. Evaluation\n",
    "---\n",
    "\n",
    "We were not satisfied when a couple of our previous models had a tendency to overfit. So we required the ability to customize the weights of our previous models into one amalgamation and decided an Ensemble Model would be the best course of action. This flexability allowed us to acheive our best scores yet."
   ]
  },
  {
   "cell_type": "markdown",
   "metadata": {},
   "source": [
    "---\n",
    "## Final Model with an Ensemble Model\n",
    "\n",
    "We decided to use `VotingClassifier()` to combine our models together to get optimal performance. We chose to give our optimized kNN model the most weight (50%), as it performed the best in both accuracy and precision on testing data. We split the remaining weight percentage equally between our optimized decision tree model and logistic regression model (25% each)."
   ]
  },
  {
   "cell_type": "code",
   "execution_count": 88,
   "metadata": {},
   "outputs": [
    {
     "data": {
      "text/plain": [
       "VotingClassifier(estimators=[('lr',\n",
       "                              LogisticRegression(max_iter=1000,\n",
       "                                                 random_state=69)),\n",
       "                             ('dt',\n",
       "                              DecisionTreeClassifier(max_depth=25,\n",
       "                                                     min_samples_leaf=7,\n",
       "                                                     random_state=69)),\n",
       "                             ('knn',\n",
       "                              KNeighborsClassifier(metric='manhattan',\n",
       "                                                   n_neighbors=14,\n",
       "                                                   weights='distance'))],\n",
       "                 weights=[0.25, 0.25, 0.5])"
      ]
     },
     "execution_count": 88,
     "metadata": {},
     "output_type": "execute_result"
    }
   ],
   "source": [
    "avg = VotingClassifier(estimators=[ ('lr', logreg_model),\n",
    "                                    ('dt', decision_tree_better),\n",
    "                                    ('knn', knn_better)],\n",
    "                                     weights = [0.25, 0.25, 0.5])\n",
    "avg.fit(X_train_clean, y_train)"
   ]
  },
  {
   "cell_type": "code",
   "execution_count": 89,
   "metadata": {},
   "outputs": [
    {
     "name": "stdout",
     "output_type": "stream",
     "text": [
      "\n",
      "    Ensemble CV Score: 0.8042630621263323\n",
      "    Final Test Accuracy: 0.8018558951965066\n",
      "    Final Test Precision: 0.8198466780238501\n",
      "\n"
     ]
    },
    {
     "data": {
      "image/png": "[encoded data removed]",
      "text/plain": [
       "<Figure size 432x288 with 2 Axes>"
      ]
     },
     "metadata": {
      "needs_background": "light"
     },
     "output_type": "display_data"
    }
   ],
   "source": [
    "#This block may take a minute because it is run on the ensemble\n",
    "scores = cross_val_score(estimator = avg, X = X_train_clean, y = y_train, cv = 5)\n",
    "\n",
    "print(f\"\"\"\n",
    "    Ensemble CV Score: {np.median(scores)}\n",
    "    Final Test Accuracy: {accuracy_score(y_test, avg.predict(X_test_clean))}\n",
    "    Final Test Precision: {precision_score(y_test, avg.predict(X_test_clean))}\n",
    "\"\"\")\n",
    "plot_confusion_matrix(avg, X_test_clean, y_test);"
   ]
  },
  {
   "cell_type": "markdown",
   "metadata": {},
   "source": [
    "Our ensemble model outperformed our earlier models. \n",
    "#### On our testing set we achieved a fantastic 81% accuracy score and 82% precision score!"
   ]
  },
  {
   "cell_type": "markdown",
   "metadata": {},
   "source": [
    "---"
   ]
  },
  {
   "cell_type": "markdown",
   "metadata": {},
   "source": [
    "Taking a look at our TPR (True Positive Ratio) and FPR (False Positive Ratio) we can see that our model is very good at properly identifying true positives while have a good false positive rate as well."
   ]
  },
  {
   "cell_type": "code",
   "execution_count": 90,
   "metadata": {},
   "outputs": [
    {
     "name": "stdout",
     "output_type": "stream",
     "text": [
      "\n",
      "    True Positive Rate: 0.8194976585781183\n",
      "    False Positive Rate: 0.21966418556344122\n",
      "\n"
     ]
    }
   ],
   "source": [
    "cm = confusion_matrix(y_test, avg.predict(X_test_clean))\n",
    "\n",
    "tp, tn, fp, fn = cm[1][1], cm[0][0], cm[0][1], cm[1][0]\n",
    "tpr = tp / (tp + fn)\n",
    "fpr = fp / (fp + tn)\n",
    "\n",
    "print(f\"\"\"\n",
    "    True Positive Rate: {tpr}\n",
    "    False Positive Rate: {fpr}\n",
    "\"\"\")"
   ]
  },
  {
   "cell_type": "markdown",
   "metadata": {},
   "source": [
    "---\n",
    "## Data Cleaning on the True Test Data\n",
    "\n",
    "Below we prepared the data of the true test set exactly the same way as we did when prepairing the training data set eariler. Due to this being the true testing data, there were no target values provided to compare our final predictions with (meaning we were unable to calculate our accuracy and precision scores)."
   ]
  },
  {
   "cell_type": "code",
   "execution_count": 91,
   "metadata": {},
   "outputs": [],
   "source": [
    "df3 = data_cleaning(df_test)\n",
    "Ftest = split_join(df3)\n",
    "df3['targets'] = avg.predict(Ftest)"
   ]
  },
  {
   "cell_type": "markdown",
   "metadata": {},
   "source": [
    "Now that we have prepared our test data, we use our ensemble model 'avg' to predict the target for the `Ftest` DataFrame and add it to the DataFrame as a new column,`targets`"
   ]
  },
  {
   "cell_type": "markdown",
   "metadata": {},
   "source": [
    "---\n",
    "## Mapping Our Test Data Results\n",
    "\n",
    "Now that we have used our model to predict the functioning status of our wells, we can plot it on a map of Tanzania to see which regions are in most need of aid. Red dots identify the wells that require repair while blue dots proclaim that well as functioning. \n",
    "* This code has been commented out due to errors that occur if geopandas and contextily are not properly installed. An image of the resulting graph has been posted."
   ]
  },
  {
   "cell_type": "code",
   "execution_count": 92,
   "metadata": {},
   "outputs": [],
   "source": [
    "# drop_zeros = df3.loc[(df3['longitude'] != 0.0) & (df3['latitude'] != 0.0)]\n",
    "\n",
    "# fig, ax = plt.subplots(figsize=(18,12))\n",
    "\n",
    "# countries = gpd.read_file(gpd.datasets.get_path(\"naturalearth_lowres\"))\n",
    "\n",
    "# drop_zeros\n",
    "# sns.scatterplot(x = drop_zeros['longitude'], y = drop_zeros['latitude'], hue = drop_zeros[\"targets\"], \\\n",
    "#                 palette = [\"red\", \"blue\"], alpha = .5)\n",
    "\n",
    "# ax.grid(b=True, alpha=0.5)\n",
    "\n",
    "# cx.add_basemap(ax, crs=countries.crs.to_string())\n",
    "\n",
    "# ax.set(title='Combined Wells, 0 = Broken, 1 = Working')\n",
    "# plt.legend(title='Wells', loc='upper right', labels=['Need Repair', 'Working'])\n",
    "\n",
    "# plt.show()\n",
    "\n",
    "## fig.savefig(\"combo.png\") # Saving the resulting map as a .png file"
   ]
  },
  {
   "cell_type": "markdown",
   "metadata": {},
   "source": [
    "![Combined Map](images/combo.png)\n"
   ]
  },
  {
   "cell_type": "markdown",
   "metadata": {},
   "source": [
    "From this figure it can be seen that inland, on the southern Tanzanian boarder, there are many wells in need of repair. You can also see few functioning wells in this same area meaning these communities will have to travel farther to get access to drinking water. Regions like these definitely should be focused on when considering where to immediately begin aid."
   ]
  },
  {
   "cell_type": "markdown",
   "metadata": {},
   "source": [
    "---\n",
    "# 6. Appendix\n",
    "---"
   ]
  },
  {
   "cell_type": "markdown",
   "metadata": {},
   "source": [
    "### Wells in need of repair, plotted in red. \n",
    "* This code has been commented out due to errors that occur if geopandas and contextily are not properly installed. An image of the resulting graph has been posted."
   ]
  },
  {
   "cell_type": "code",
   "execution_count": 93,
   "metadata": {},
   "outputs": [],
   "source": [
    "# temp_0 = df3.loc[(df3['longitude'] != 0.0) & (df3['latitude'] != 0.0)]\n",
    "\n",
    "\n",
    "# temp_00 = temp_0.loc[(df3['targets'] == 0)]\n",
    "\n",
    "# dropper = temp_00\n",
    "\n",
    "# fig, ax = plt.subplots(figsize=(18,12))\n",
    "\n",
    "# countries = gpd.read_file(gpd.datasets.get_path(\"naturalearth_lowres\"))\n",
    "\n",
    "# sns.scatterplot(x = dropper['longitude'], y = dropper['latitude'], color = \"red\", alpha = .5)\n",
    "\n",
    "# ax.grid(b=True, alpha=0.5)\n",
    "\n",
    "# cx.add_basemap(ax, crs=countries.crs.to_string())\n",
    "# ax.set(title='Need Repair')\n",
    "\n",
    "\n",
    "# plt.show()\n",
    "## fig.savefig(\"need_repair.png\") # Saving the resulting map as a .png file\n",
    "\n"
   ]
  },
  {
   "cell_type": "markdown",
   "metadata": {},
   "source": [
    "![Wells Needing Repair Map](images/need_repair.png)"
   ]
  },
  {
   "cell_type": "markdown",
   "metadata": {},
   "source": [
    "### Wells that are fully functional, plotted in blue. \n",
    "* This code has been commented out due to errors that occur if geopandas and contextily are not properly installed. An image of the resulting graph has been posted."
   ]
  },
  {
   "cell_type": "code",
   "execution_count": 94,
   "metadata": {},
   "outputs": [
    {
     "ename": "NameError",
     "evalue": "name 'b' is not defined",
     "output_type": "error",
     "traceback": [
      "\u001b[0;31m---------------------------------------------------------------------------\u001b[0m",
      "\u001b[0;31mNameError\u001b[0m                                 Traceback (most recent call last)",
      "\u001b[0;32m<ipython-input-94-a029c767cb97>\u001b[0m in \u001b[0;36m<module>\u001b[0;34m\u001b[0m\n\u001b[1;32m      3\u001b[0m \u001b[0;34m\u001b[0m\u001b[0m\n\u001b[1;32m      4\u001b[0m \u001b[0;31m# temp_11 = temp_1.loc[(df3['targets'] == 1)]\u001b[0m\u001b[0;34m\u001b[0m\u001b[0;34m\u001b[0m\u001b[0;34m\u001b[0m\u001b[0m\n\u001b[0;32m----> 5\u001b[0;31m \u001b[0mb\u001b[0m\u001b[0;34m\u001b[0m\u001b[0;34m\u001b[0m\u001b[0m\n\u001b[0m\u001b[1;32m      6\u001b[0m \u001b[0;31m# dropper_1 = temp_11\u001b[0m\u001b[0;34m\u001b[0m\u001b[0;34m\u001b[0m\u001b[0;34m\u001b[0m\u001b[0m\n\u001b[1;32m      7\u001b[0m \u001b[0;34m\u001b[0m\u001b[0m\n",
      "\u001b[0;31mNameError\u001b[0m: name 'b' is not defined"
     ]
    }
   ],
   "source": [
    "# temp_1 = df3.loc[(df3['longitude'] != 0.0) & (df3['latitude'] != 0.0)]\n",
    "\n",
    "\n",
    "# temp_11 = temp_1.loc[(df3['targets'] == 1)]\n",
    "b\n",
    "# dropper_1 = temp_11\n",
    "\n",
    "# fig, ax = plt.subplots(figsize=(18,12))\n",
    "\n",
    "# countries = gpd.read_file(gpd.datasets.get_path(\"naturalearth_lowres\"))\n",
    "\n",
    "\n",
    "# sns.scatterplot(x = dropper_1['longitude'], y = dropper_1['latitude'], color = \"blue\", alpha = .5)\n",
    "\n",
    "# ax.grid(b=True, alpha=0.5)\n",
    "\n",
    "# cx.add_basemap(ax, crs=countries.crs.to_string())\n",
    "\n",
    "# ax.set(title='Functioning Wells')\n",
    "\n",
    "# plt.show()\n",
    "\n",
    " \n",
    "## fig.savefig(\"working.png\") # Saving the resulting map as a .png file"
   ]
  },
  {
   "cell_type": "markdown",
   "metadata": {},
   "source": [
    "![Functioning Well Map](images/working.png)\n"
   ]
  }
 ],
 "metadata": {
  "kernelspec": {
   "display_name": "Python 3",
   "language": "python",
   "name": "python3"
  },
  "language_info": {
   "codemirror_mode": {
    "name": "ipython",
    "version": 3
   },
   "file_extension": ".py",
   "mimetype": "text/x-python",
   "name": "python",
   "nbconvert_exporter": "python",
   "pygments_lexer": "ipython3",
   "version": "3.8.5"
  }
 },
 "nbformat": 4,
 "nbformat_minor": 5
}
