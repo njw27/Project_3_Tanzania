{
 "cells": [
  {
   "cell_type": "markdown",
   "id": "7c11a556",
   "metadata": {},
   "source": [
    "# Importing the packages/libraries and our datasets"
   ]
  },
  {
   "cell_type": "code",
   "execution_count": 1,
   "id": "edb25147",
   "metadata": {},
   "outputs": [],
   "source": [
    "# Import required packages\n",
    "import numpy as np\n",
    "import pandas as pd\n",
    "\n",
    "import matplotlib.pyplot as plt\n",
    "import seaborn as sns\n",
    "# import geopandas as gpd\n",
    "# import contextily as cx\n",
    "\n",
    "\n",
    "from sklearn.tree import DecisionTreeClassifier\n",
    "from sklearn.linear_model import LogisticRegression\n",
    "from sklearn.dummy import DummyClassifier\n",
    "from sklearn.pipeline import Pipeline\n",
    "from sklearn.neighbors import KNeighborsClassifier\n",
    "from sklearn.ensemble import ExtraTreesClassifier\n",
    "from sklearn.ensemble import BaggingClassifier, RandomForestClassifier,\\\n",
    "ExtraTreesClassifier, VotingClassifier, StackingRegressor\n",
    "\n",
    "from sklearn.compose import ColumnTransformer\n",
    "from sklearn.model_selection import train_test_split, cross_val_score, cross_validate, GridSearchCV\n",
    "from sklearn.preprocessing import StandardScaler, OneHotEncoder, FunctionTransformer\n",
    "\n",
    "from sklearn.metrics import confusion_matrix, plot_confusion_matrix,\\\n",
    "    precision_score, recall_score, accuracy_score, f1_score, log_loss,\\\n",
    "    roc_curve, roc_auc_score, classification_report, plot_roc_curve,\\\n",
    "    make_scorer"
   ]
  },
  {
   "cell_type": "code",
   "execution_count": 2,
   "id": "e3dbcdee",
   "metadata": {},
   "outputs": [],
   "source": [
    "df_test = pd.read_csv('data/test_set_values.csv')\n",
    "df_train = pd.read_csv('data/training_set_values.csv')\n",
    "df_train_label = pd.read_csv('data/training_set_labels.csv')"
   ]
  },
  {
   "cell_type": "code",
   "execution_count": 3,
   "id": "50705419",
   "metadata": {},
   "outputs": [],
   "source": [
    "# Reassigning targets to establish bionomial targets\n",
    "target = df_train_label.replace({'status_group': {'functional' : 1, \n",
    "                                'non functional' : 0, \n",
    "                                'functional needs repair' : 0}})\n",
    "df = pd.concat([df_train, target], axis = 1)"
   ]
  },
  {
   "cell_type": "markdown",
   "id": "708595f6",
   "metadata": {},
   "source": [
    "---\n",
    "# EDA and Datacleaning"
   ]
  },
  {
   "cell_type": "markdown",
   "id": "d0eaa0d2",
   "metadata": {},
   "source": [
    "# Eliminating features that we found to be redudant or unuseable for our models. \n",
    "\n",
    "Many of the features had the same information provided by similar features in the dataset so we trimmed them. In addition to this some features like 'num_private' had no feature descriptions explaining what it was so we could not utilize it."
   ]
  },
  {
   "cell_type": "code",
   "execution_count": 5,
   "id": "f88c03d0",
   "metadata": {},
   "outputs": [],
   "source": [
    "# Removing columns that are non-factors for our model\n",
    "col_to_delete = ['id', 'recorded_by', 'funder', 'public_meeting',\n",
    "                'lga', 'ward', 'region_code', 'district_code', \n",
    "                 'wpt_name','scheme_name', 'extraction_type', 'extraction_type_group',\n",
    "                 'payment', 'quality_group', 'source_type', 'quantity_group',\n",
    "                 'waterpoint_type_group', 'subvillage', 'num_private']\n",
    "                 \n",
    "df2 = df.drop(col_to_delete, axis = 1)"
   ]
  },
  {
   "cell_type": "markdown",
   "id": "3a41f065",
   "metadata": {},
   "source": [
    "We created a new feature 'year_recorded' to capture only the year that the data was recorded to transform the 'date_recorded'. This was because we believed that this may have been important to keep in our data, but keeping it in its original state may have cause our model to be too complex with the sheer number of unique values."
   ]
  },
  {
   "cell_type": "code",
   "execution_count": 6,
   "id": "31a607f5",
   "metadata": {},
   "outputs": [
    {
     "name": "stderr",
     "output_type": "stream",
     "text": [
      "C:\\Users\\Jun\\AppData\\Local\\Temp/ipykernel_36196/1351887214.py:2: SettingWithCopyWarning: \n",
      "A value is trying to be set on a copy of a slice from a DataFrame\n",
      "\n",
      "See the caveats in the documentation: https://pandas.pydata.org/pandas-docs/stable/user_guide/indexing.html#returning-a-view-versus-a-copy\n",
      "  df2.drop_duplicates(keep='first', inplace = True)\n"
     ]
    }
   ],
   "source": [
    "# Remove duplicated data entries and null values\n",
    "df2.drop_duplicates(keep='first', inplace = True) \n",
    "df2 = df2.dropna(axis = 0)\n",
    "\n",
    "# Pulling the year off and type casting to int\n",
    "df2['year_recorded'] = [int(val[0:4]) for val in df2['date_recorded']]\n",
    "df2['year_recorded'].astype(np.int64)\n",
    "df2.drop(['date_recorded'], axis = 'columns', inplace = True)"
   ]
  },
  {
   "cell_type": "markdown",
   "id": "0c6f92a9",
   "metadata": {},
   "source": [
    "We applied the same thought processes to the following features. In addition we dropped any data that was entered before 2005 as it only comprised 0.06% of our data and created additional problems when attempting to train test split our data."
   ]
  },
  {
   "cell_type": "code",
   "execution_count": 7,
   "id": "7c0681e2",
   "metadata": {},
   "outputs": [],
   "source": [
    "# Binning the years into decades\n",
    "df2['construction_year'] = ['unknown' if val == 0 \n",
    "                           else str((val // 10) * 10) for val in df2['construction_year']]\n",
    "\n",
    "# Binning the unique values\n",
    "scheme_management_list = ['SWC', 'Trust', 'None']\n",
    "df2['scheme_management'].replace(scheme_management_list, 'Other', inplace = True)"
   ]
  },
  {
   "cell_type": "code",
   "execution_count": 8,
   "id": "04d96bb9",
   "metadata": {},
   "outputs": [],
   "source": [
    "# Binning unique values\n",
    "installer_list = ['DWE', 'Government', 'Commu', 'DANIDA', \n",
    "                  'RWE', 'KKKT', 'TCRS']\n",
    "df2['installer'] = ['Other' if val not in installer_list \n",
    "                           else val for val in df2['installer']]\n",
    "\n",
    "df2.drop(df2.index[df2['year_recorded'] < 2005], inplace=True)\n",
    "df2.reset_index(inplace=True, drop=True)"
   ]
  },
  {
   "cell_type": "markdown",
   "id": "a63e0c79",
   "metadata": {},
   "source": [
    "---\n",
    "# Modeling\n",
    "\n",
    "Simple functions for One Hot Encoding and Scaling our data"
   ]
  },
  {
   "cell_type": "code",
   "execution_count": 9,
   "id": "ed7cbcfd",
   "metadata": {},
   "outputs": [],
   "source": [
    "def num_encoder(df_to_encode):\n",
    "    ss = StandardScaler()\n",
    "\n",
    "    ss.fit(df_to_encode)\n",
    "    nums_df = pd.DataFrame(ss.transform(df_to_encode),\n",
    "                           columns = df_to_encode.columns,\n",
    "                          index = df_to_encode.index)\n",
    "    return nums_df\n",
    "\n",
    "def cat_encoder(df_to_encode):\n",
    "    ohe = OneHotEncoder(\n",
    "        drop = 'first',\n",
    "        sparse = False)\n",
    "    \n",
    "    dums = ohe.fit_transform(df_to_encode)\n",
    "    dums_df = pd.DataFrame(dums,\n",
    "                            columns = ohe.get_feature_names(),\n",
    "                            index = df_to_encode.index)\n",
    "    return dums_df"
   ]
  },
  {
   "cell_type": "markdown",
   "id": "e3dba1ce",
   "metadata": {},
   "source": [
    "---\n",
    "# Establishing the Dummy Model"
   ]
  },
  {
   "cell_type": "code",
   "execution_count": 10,
   "id": "a488ec24",
   "metadata": {},
   "outputs": [],
   "source": [
    "y = df2.status_group\n",
    "X = df2.drop('status_group', axis = 1)\n",
    "\n",
    "X_train, X_test, y_train, y_test = train_test_split(X, y, \n",
    "                                                    test_size=0.25, random_state=69)"
   ]
  },
  {
   "cell_type": "code",
   "execution_count": 11,
   "id": "b85165c1",
   "metadata": {},
   "outputs": [],
   "source": [
    "X_train_cat = X_train.select_dtypes('object')\n",
    "X_train_nums = X_train.select_dtypes(['float64', 'int64'])\n",
    "\n",
    "X_test_cat = X_test.select_dtypes('object')\n",
    "X_test_nums = X_test.select_dtypes(['float64', 'int64'])"
   ]
  },
  {
   "cell_type": "code",
   "execution_count": 12,
   "id": "79487c4a",
   "metadata": {},
   "outputs": [
    {
     "data": {
      "text/plain": [
       "0.5461215656259073"
      ]
     },
     "execution_count": 12,
     "metadata": {},
     "output_type": "execute_result"
    }
   ],
   "source": [
    "cont_pipeline = Pipeline(steps=[\n",
    "    ('ss', StandardScaler())\n",
    "])\n",
    "\n",
    "cat_pipeline = Pipeline(steps=[\n",
    "    ('ohe', OneHotEncoder(drop = 'first'))\n",
    "])\n",
    "\n",
    "trans = ColumnTransformer(transformers=[\n",
    "    ('continuous', cont_pipeline, X_train_nums.columns),\n",
    "    ('categorical', cat_pipeline, X_train_cat.columns)\n",
    "])\n",
    "\n",
    "dummy = Pipeline(steps=[\n",
    "    ('trans', trans),\n",
    "    ('dummy', DummyClassifier(random_state = 69, strategy = 'most_frequent'))\n",
    "])\n",
    "\n",
    "#Fitting and checking the score\n",
    "dummy.fit(X_train, y_train)\n",
    "dummy.score(X_train, y_train)"
   ]
  },
  {
   "cell_type": "markdown",
   "id": "ce490f4f",
   "metadata": {},
   "source": [
    "Our dummy model predictably produces a score of 54% because it is based on the majority target."
   ]
  },
  {
   "cell_type": "markdown",
   "id": "6cbf671a",
   "metadata": {},
   "source": [
    "---\n",
    "# Model 1 (Decision Tree Classifier)\n",
    "\n",
    "We decided to use a decision tree as our first model for feature selection. For the first iteration we did not specify any hyper-parameters except for the random state."
   ]
  },
  {
   "cell_type": "code",
   "execution_count": 13,
   "id": "ea23c77d",
   "metadata": {},
   "outputs": [],
   "source": [
    "X_train_clean = pd.concat([num_encoder(X_train_nums), cat_encoder(X_train_cat)], axis = 1)\n",
    "X_test_clean = pd.concat([num_encoder(X_test_nums), cat_encoder(X_test_cat)], axis = 1)"
   ]
  },
  {
   "cell_type": "code",
   "execution_count": 14,
   "id": "1790a67b",
   "metadata": {},
   "outputs": [
    {
     "data": {
      "text/plain": [
       "DecisionTreeClassifier(random_state=69)"
      ]
     },
     "execution_count": 14,
     "metadata": {},
     "output_type": "execute_result"
    }
   ],
   "source": [
    "decision_tree = DecisionTreeClassifier(random_state = 69)\n",
    "decision_tree.fit(X_train_clean, y_train)"
   ]
  },
  {
   "cell_type": "code",
   "execution_count": 15,
   "id": "2129ed3f",
   "metadata": {},
   "outputs": [
    {
     "data": {
      "image/png": "[encoded data removed]",
      "text/plain": [
       "<Figure size 432x288 with 2 Axes>"
      ]
     },
     "metadata": {
      "needs_background": "light"
     },
     "output_type": "display_data"
    }
   ],
   "source": [
    "y_tree_train = decision_tree.predict(X_train_clean)\n",
    "y_tree_test = decision_tree.predict(X_test_clean)\n",
    "plot_confusion_matrix(decision_tree, X_test_clean, y_test);"
   ]
  },
  {
   "cell_type": "code",
   "execution_count": 16,
   "id": "e2acc3e7",
   "metadata": {},
   "outputs": [
    {
     "data": {
      "text/plain": [
       "0.9972287471297738"
      ]
     },
     "metadata": {},
     "output_type": "display_data"
    },
    {
     "data": {
      "text/plain": [
       "0.7094220110847189"
      ]
     },
     "metadata": {},
     "output_type": "display_data"
    }
   ],
   "source": [
    "display(accuracy_score(y_train, y_tree_train))\n",
    "display(accuracy_score(y_test, y_tree_test))"
   ]
  },
  {
   "cell_type": "code",
   "execution_count": 17,
   "id": "eff37511",
   "metadata": {},
   "outputs": [
    {
     "data": {
      "text/plain": [
       "0.99854700440742"
      ]
     },
     "metadata": {},
     "output_type": "display_data"
    },
    {
     "data": {
      "text/plain": [
       "0.7404726735598227"
      ]
     },
     "metadata": {},
     "output_type": "display_data"
    }
   ],
   "source": [
    "display(precision_score(y_train, y_tree_train))\n",
    "display(precision_score(y_test, y_tree_test))"
   ]
  },
  {
   "cell_type": "markdown",
   "id": "35e9f74d",
   "metadata": {},
   "source": [
    "Unsurprisingly the model is severly overfit with an accuracy score of 99% and precision score of 99% on the training set in comparison to the accuracy score of 70% and precision score of 74% on our testing set."
   ]
  },
  {
   "cell_type": "markdown",
   "id": "d9641a65",
   "metadata": {},
   "source": [
    "---\n",
    "# Grid Search for Model 2 Optimal Parameters\n",
    "\n",
    "We utilized Grid Search to find the optimal hyper-parameters for our Decision Tree model."
   ]
  },
  {
   "cell_type": "code",
   "execution_count": 18,
   "id": "0d9ef134",
   "metadata": {},
   "outputs": [
    {
     "data": {
      "text/plain": [
       "DecisionTreeClassifier()"
      ]
     },
     "execution_count": 18,
     "metadata": {},
     "output_type": "execute_result"
    }
   ],
   "source": [
    "decision_tree = DecisionTreeClassifier()\n",
    "decision_tree.fit(X_train_clean, y_train)"
   ]
  },
  {
   "cell_type": "code",
   "execution_count": 19,
   "id": "df7c1016",
   "metadata": {},
   "outputs": [],
   "source": [
    "param_dict = {\n",
    "    \"criterion\":['gini', 'entropy'],\n",
    "    \"max_depth\":[1, 10, 25, 50],\n",
    "    \"min_samples_split\":range(1, 10),\n",
    "    \"min_samples_leaf\":range(1, 10)\n",
    "}"
   ]
  },
  {
   "cell_type": "code",
   "execution_count": 20,
   "id": "2881b29d",
   "metadata": {},
   "outputs": [],
   "source": [
    "# tw = GridSearchCV(estimator=decision_tree,\n",
    "#                  param_grid=param_dict,\n",
    "#                  cv=5,\n",
    "#                  verbose=1,\n",
    "#                  n_jobs=-1)\n",
    "# tw.fit(X_train_clean, y_train)"
   ]
  },
  {
   "cell_type": "code",
   "execution_count": 21,
   "id": "f672a6bc",
   "metadata": {},
   "outputs": [],
   "source": [
    "# print(tw.best_params_)\n",
    "# print(tw.best_estimator_)\n",
    "# print(tw.best_score_)"
   ]
  },
  {
   "cell_type": "markdown",
   "id": "255eaf3d",
   "metadata": {},
   "source": [
    "Here we found that the best parameters for our Decision Tree model are <br>`criterion = 'gini', max_depth = 25, min_samples_leaf = 7`"
   ]
  },
  {
   "cell_type": "markdown",
   "id": "8db8ddc2",
   "metadata": {},
   "source": [
    "Kept getting different `min_samples_split` value without results changing so it seems `criterion`, `max_depth`, & and `min_samples_leaf` give us a consistent enough result that `min_samples_split` does not need to be manipulated by us."
   ]
  },
  {
   "cell_type": "markdown",
   "id": "bfe036d2",
   "metadata": {},
   "source": [
    "---\n",
    "# Model 2 (Decision Tree) with optimized parameters"
   ]
  },
  {
   "cell_type": "code",
   "execution_count": 22,
   "id": "cd605b48",
   "metadata": {},
   "outputs": [
    {
     "data": {
      "text/plain": [
       "DecisionTreeClassifier(max_depth=25, min_samples_leaf=7, random_state=69)"
      ]
     },
     "execution_count": 22,
     "metadata": {},
     "output_type": "execute_result"
    }
   ],
   "source": [
    "decision_tree_better = DecisionTreeClassifier(random_state = 69, criterion = 'gini', \n",
    "                                              max_depth = 25, min_samples_leaf = 7)\n",
    "decision_tree_better.fit(X_train_clean, y_train)"
   ]
  },
  {
   "cell_type": "code",
   "execution_count": 23,
   "id": "faf9981f",
   "metadata": {},
   "outputs": [
    {
     "data": {
      "image/png": "[encoded data removed]",
      "text/plain": [
       "<Figure size 432x288 with 2 Axes>"
      ]
     },
     "metadata": {
      "needs_background": "light"
     },
     "output_type": "display_data"
    }
   ],
   "source": [
    "y_tree_train_better = decision_tree_better.predict(X_train_clean)\n",
    "y_tree_test_better = decision_tree_better.predict(X_test_clean)\n",
    "plot_confusion_matrix(decision_tree_better, X_test_clean, y_test);"
   ]
  },
  {
   "cell_type": "code",
   "execution_count": 24,
   "id": "8744b9bb",
   "metadata": {},
   "outputs": [
    {
     "data": {
      "text/plain": [
       "0.8751616564174298"
      ]
     },
     "metadata": {},
     "output_type": "display_data"
    },
    {
     "data": {
      "text/plain": [
       "0.8781030888762554"
      ]
     },
     "metadata": {},
     "output_type": "display_data"
    }
   ],
   "source": [
    "display(accuracy_score(y_train, y_tree_train_better))\n",
    "display(precision_score(y_train, y_tree_train_better))"
   ]
  },
  {
   "cell_type": "code",
   "execution_count": 25,
   "id": "395708ee",
   "metadata": {},
   "outputs": [
    {
     "data": {
      "text/plain": [
       "0.7429928741092636"
      ]
     },
     "metadata": {},
     "output_type": "display_data"
    },
    {
     "data": {
      "text/plain": [
       "0.7463845741831816"
      ]
     },
     "metadata": {},
     "output_type": "display_data"
    }
   ],
   "source": [
    "display(accuracy_score(y_test, y_tree_test_better))\n",
    "display(precision_score(y_test, y_tree_test_better))"
   ]
  },
  {
   "cell_type": "code",
   "execution_count": 26,
   "id": "0c442eaf",
   "metadata": {},
   "outputs": [],
   "source": [
    "# y_tt_clean = decision_tree_better.predict(X_tt_clean)"
   ]
  },
  {
   "cell_type": "markdown",
   "id": "f33457e4",
   "metadata": {},
   "source": [
    "---"
   ]
  },
  {
   "cell_type": "code",
   "execution_count": 27,
   "id": "fb605783",
   "metadata": {},
   "outputs": [
    {
     "name": "stdout",
     "output_type": "stream",
     "text": [
      "[1.51251416e-02 7.18582707e-02 1.38311719e-01 1.35660814e-01\n",
      " 4.69475040e-02 9.42871589e-03 1.26392545e-03 1.01614341e-02\n",
      " 5.84869439e-03 9.23210828e-04 1.16282967e-02 2.94179221e-03\n",
      " 1.41929419e-03 4.99353574e-03 3.08382554e-03 4.74565862e-03\n",
      " 4.54869374e-03 5.48770412e-03 4.71784609e-03 4.14913527e-03\n",
      " 5.09628788e-03 9.73505183e-04 2.57831956e-03 1.04709862e-02\n",
      " 2.39947464e-03 2.45832498e-03 3.56668374e-03 1.82647492e-03\n",
      " 2.56793737e-03 1.81480319e-03 2.49997015e-03 2.26027721e-03\n",
      " 2.45413517e-03 2.20604035e-03 3.13170181e-03 2.27390408e-03\n",
      " 2.47738374e-03 2.39819182e-03 1.41410570e-03 1.71241560e-03\n",
      " 2.82260635e-03 1.33674860e-03 1.21728128e-03 1.37450399e-03\n",
      " 6.76448048e-03 2.16724570e-03 2.81616641e-03 3.93565601e-03\n",
      " 3.78795906e-03 1.37845473e-02 1.01816119e-02 6.91158549e-03\n",
      " 7.48867355e-03 1.21629063e-02 1.27867049e-02 5.95918561e-03\n",
      " 9.15459291e-03 4.03379123e-03 2.73197497e-02 7.63269027e-04\n",
      " 7.75968432e-03 4.53293040e-04 8.22826244e-04 2.25503341e-04\n",
      " 1.41295933e-03 2.59828966e-03 3.41073553e-04 2.45452535e-04\n",
      " 8.47475971e-03 1.20721760e-03 2.88033175e-03 1.66185264e-03\n",
      " 2.86924553e-03 8.96072493e-04 1.27799094e-03 2.64259544e-04\n",
      " 4.37807249e-03 6.76044273e-03 1.91929173e-02 4.16066091e-03\n",
      " 1.44377195e-03 1.02614359e-02 7.49532504e-03 6.38176247e-04\n",
      " 5.33613192e-05 1.02516975e-03 5.79052667e-03 1.43171950e-03\n",
      " 8.27608002e-03 5.44962139e-03 5.81514213e-02 2.69457245e-02\n",
      " 1.32327403e-02 1.93227791e-03 1.45967784e-03 1.89810550e-03\n",
      " 7.71528539e-03 5.71014606e-04 3.70645676e-03 5.10947141e-03\n",
      " 8.43959502e-03 8.79819915e-03 1.43994958e-04 6.19282642e-03\n",
      " 6.60969191e-04 1.47993021e-02 1.12269763e-02 5.10193582e-05\n",
      " 8.53733845e-03 2.39139470e-03 3.16927139e-02]\n"
     ]
    },
    {
     "data": {
      "image/png": "[encoded data removed]",
      "text/plain": [
       "<Figure size 432x288 with 1 Axes>"
      ]
     },
     "metadata": {
      "needs_background": "light"
     },
     "output_type": "display_data"
    }
   ],
   "source": [
    "model = ExtraTreesClassifier()\n",
    "model.fit(X_train_clean, y_train)\n",
    "\n",
    "print(model.feature_importances_) #use inbuilt class feature_importances of tree based classifiers\n",
    "\n",
    "#plot graph of feature importances for better visualization\n",
    "feat_importances = pd.Series(model.feature_importances_, index = X_train_clean.columns)\n",
    "feat_importances.nlargest(10).plot(kind = 'barh')\n",
    "plt.show()"
   ]
  },
  {
   "cell_type": "code",
   "execution_count": 28,
   "id": "93c4ba39",
   "metadata": {},
   "outputs": [
    {
     "data": {
      "text/plain": [
       "Index(['installer', 'basin', 'region', 'scheme_management', 'permit',\n",
       "       'construction_year', 'extraction_type_class', 'management',\n",
       "       'management_group', 'payment_type', 'water_quality', 'quantity',\n",
       "       'source', 'source_class', 'waterpoint_type'],\n",
       "      dtype='object')"
      ]
     },
     "execution_count": 28,
     "metadata": {},
     "output_type": "execute_result"
    }
   ],
   "source": [
    "X_train_cat.columns"
   ]
  },
  {
   "cell_type": "code",
   "execution_count": 29,
   "id": "0c4a4371",
   "metadata": {},
   "outputs": [
    {
     "data": {
      "text/plain": [
       "communal standpipe             25019\n",
       "hand pump                      14022\n",
       "communal standpipe multiple     5854\n",
       "other                           4874\n",
       "improved spring                  661\n",
       "cattle trough                     83\n",
       "dam                                6\n",
       "Name: waterpoint_type, dtype: int64"
      ]
     },
     "execution_count": 29,
     "metadata": {},
     "output_type": "execute_result"
    }
   ],
   "source": [
    "df2['waterpoint_type'].value_counts()"
   ]
  },
  {
   "cell_type": "code",
   "execution_count": 30,
   "id": "06a44887",
   "metadata": {},
   "outputs": [],
   "source": [
    "importance_col = ['longitude', 'latitude', 'gps_height', 'quantity', \n",
    "                  'status_group', 'population', 'waterpoint_type', \n",
    "                 'extraction_type_class', 'payment_type', 'amount_tsh']\n",
    "df_importance = df2[importance_col]"
   ]
  },
  {
   "cell_type": "code",
   "execution_count": 31,
   "id": "e2882c4e",
   "metadata": {},
   "outputs": [],
   "source": [
    "y2 = df_importance.status_group\n",
    "X2 = df_importance.drop('status_group', axis = 1)\n",
    "\n",
    "X_train2, X_test2, y_train2, y_test2 = train_test_split(X2, y2, \n",
    "                                                        test_size = 0.25, random_state = 69)"
   ]
  },
  {
   "cell_type": "code",
   "execution_count": 32,
   "id": "803788fb",
   "metadata": {},
   "outputs": [],
   "source": [
    "X_train_cat2 = X_train2.select_dtypes('object')\n",
    "X_train_nums2 = X_train2.select_dtypes(['float64', 'int64'])\n",
    "\n",
    "X_test_cat2 = X_test2.select_dtypes('object')\n",
    "X_test_nums2 = X_test2.select_dtypes(['float64', 'int64'])"
   ]
  },
  {
   "cell_type": "code",
   "execution_count": 33,
   "id": "071adf4d",
   "metadata": {},
   "outputs": [],
   "source": [
    "X_train_clean2 = pd.concat([num_encoder(X_train_nums2), cat_encoder(X_train_cat2)], axis=1)\n",
    "X_test_clean2 = pd.concat([num_encoder(X_test_nums2), cat_encoder(X_test_cat2)], axis=1)"
   ]
  },
  {
   "cell_type": "code",
   "execution_count": 34,
   "id": "3dead5a0",
   "metadata": {},
   "outputs": [],
   "source": [
    "logreg_clf2 = LogisticRegression(random_state = 69, max_iter = 1000)\n",
    "logreg_model2 = logreg_clf2.fit(X_train_clean2, y_train2)"
   ]
  },
  {
   "cell_type": "code",
   "execution_count": 35,
   "id": "cfdced14",
   "metadata": {},
   "outputs": [
    {
     "data": {
      "text/plain": [
       "(0.7305550423605796, 0.7315914489311164)"
      ]
     },
     "execution_count": 35,
     "metadata": {},
     "output_type": "execute_result"
    }
   ],
   "source": [
    "logreg_train_pred2 = logreg_clf2.predict(X_train_clean2)\n",
    "logreg_train_acc2 = accuracy_score(y_train2, logreg_train_pred2)\n",
    "\n",
    "log_val_preds2 = logreg_clf2.predict(X_test_clean2) # y_hat\n",
    "log_val_accuracy2 = accuracy_score(y_test2, log_val_preds2)\n",
    "\n",
    "logreg_train_acc2, log_val_accuracy2"
   ]
  },
  {
   "cell_type": "code",
   "execution_count": 36,
   "id": "b8077fbb",
   "metadata": {},
   "outputs": [
    {
     "data": {
      "image/png": "[encoded data removed]",
      "text/plain": [
       "<Figure size 432x288 with 2 Axes>"
      ]
     },
     "metadata": {
      "needs_background": "light"
     },
     "output_type": "display_data"
    }
   ],
   "source": [
    "plot_confusion_matrix(logreg_clf2, X_test_clean2, y_test2);"
   ]
  },
  {
   "cell_type": "code",
   "execution_count": 37,
   "id": "95de5fda",
   "metadata": {},
   "outputs": [
    {
     "data": {
      "text/plain": [
       "0.691708423247138"
      ]
     },
     "metadata": {},
     "output_type": "display_data"
    },
    {
     "data": {
      "text/plain": [
       "0.6937746602367383"
      ]
     },
     "metadata": {},
     "output_type": "display_data"
    }
   ],
   "source": [
    "display(precision_score(y_train2, logreg_train_pred2))\n",
    "display(precision_score(y_test2, log_val_preds2))"
   ]
  },
  {
   "cell_type": "markdown",
   "id": "554697e8",
   "metadata": {},
   "source": [
    "---"
   ]
  },
  {
   "cell_type": "code",
   "execution_count": 38,
   "id": "1d4d3a91",
   "metadata": {},
   "outputs": [],
   "source": [
    "logreg_clf = LogisticRegression(random_state = 69, max_iter = 1000)\n",
    "logreg_model = logreg_clf.fit(X_train_clean, y_train)"
   ]
  },
  {
   "cell_type": "code",
   "execution_count": 39,
   "id": "c1db0c0b",
   "metadata": {},
   "outputs": [
    {
     "data": {
      "text/plain": [
       "(0.7625696112328116, 0.7629453681710214)"
      ]
     },
     "execution_count": 39,
     "metadata": {},
     "output_type": "execute_result"
    }
   ],
   "source": [
    "logreg_train_pred = logreg_clf.predict(X_train_clean)\n",
    "logreg_train_acc = accuracy_score(y_train, logreg_train_pred)\n",
    "\n",
    "log_val_preds = logreg_clf.predict(X_test_clean) # y_hat\n",
    "log_val_accuracy = accuracy_score(y_test, log_val_preds)\n",
    "\n",
    "logreg_train_acc, log_val_accuracy"
   ]
  },
  {
   "cell_type": "code",
   "execution_count": 40,
   "id": "f422c0af",
   "metadata": {},
   "outputs": [
    {
     "data": {
      "image/png": "[encoded data removed]",
      "text/plain": [
       "<Figure size 432x288 with 2 Axes>"
      ]
     },
     "metadata": {
      "needs_background": "light"
     },
     "output_type": "display_data"
    }
   ],
   "source": [
    "plot_confusion_matrix(logreg_clf, X_test_clean, y_test);"
   ]
  },
  {
   "cell_type": "code",
   "execution_count": 41,
   "id": "0d3ca5f2",
   "metadata": {},
   "outputs": [
    {
     "data": {
      "text/plain": [
       "0.745734935708883"
      ]
     },
     "metadata": {},
     "output_type": "display_data"
    },
    {
     "data": {
      "text/plain": [
       "0.7449538998255669"
      ]
     },
     "metadata": {},
     "output_type": "display_data"
    }
   ],
   "source": [
    "display(precision_score(y_train, logreg_train_pred))\n",
    "\n",
    "display(precision_score(y_test, log_val_preds))"
   ]
  },
  {
   "cell_type": "code",
   "execution_count": 42,
   "id": "d20b20a1",
   "metadata": {},
   "outputs": [],
   "source": [
    "knn_model = KNeighborsClassifier()\n",
    "knn_model.fit(X_train_clean, y_train)\n",
    "grid = {\n",
    "    'n_neighbors': range(1, 15),\n",
    "    'metric': ['manhattan'],\n",
    "    'weights' : ['distance']\n",
    "}"
   ]
  },
  {
   "cell_type": "code",
   "execution_count": 43,
   "id": "5247c6b9",
   "metadata": {},
   "outputs": [],
   "source": [
    "# gs = GridSearchCV(estimator = knn_model, param_grid = grid, cv = 5, verbose = 1, n_jobs = -1)\n",
    "# gs.fit(X_train_clean, y_train)"
   ]
  },
  {
   "cell_type": "code",
   "execution_count": 44,
   "id": "e0bfbd0e",
   "metadata": {},
   "outputs": [],
   "source": [
    "# gs.best_params_"
   ]
  },
  {
   "cell_type": "code",
   "execution_count": 45,
   "id": "bf9c8833",
   "metadata": {},
   "outputs": [
    {
     "data": {
      "image/png": "[encoded data removed]",
      "text/plain": [
       "<Figure size 432x288 with 2 Axes>"
      ]
     },
     "metadata": {
      "needs_background": "light"
     },
     "output_type": "display_data"
    }
   ],
   "source": [
    "knn_better = KNeighborsClassifier(14, metric = \"manhattan\", weights = 'distance') \n",
    "knn_better.fit(X_train_clean, y_train)\n",
    "\n",
    "y_knn_better_train = knn_better.predict(X_train_clean)\n",
    "y_knn_better_test = knn_better.predict(X_test_clean)\n",
    "\n",
    "plot_confusion_matrix(knn_better, X_test_clean, y_test);"
   ]
  },
  {
   "cell_type": "code",
   "execution_count": 46,
   "id": "833d1043",
   "metadata": {},
   "outputs": [
    {
     "data": {
      "text/plain": [
       "0.9972287471297738"
      ]
     },
     "metadata": {},
     "output_type": "display_data"
    },
    {
     "data": {
      "text/plain": [
       "0.99854700440742"
      ]
     },
     "metadata": {},
     "output_type": "display_data"
    }
   ],
   "source": [
    "display(accuracy_score(y_train, y_knn_better_train))\n",
    "display(precision_score(y_train, y_knn_better_train))"
   ]
  },
  {
   "cell_type": "code",
   "execution_count": 47,
   "id": "7851df63",
   "metadata": {},
   "outputs": [
    {
     "data": {
      "text/plain": [
       "0.8003958828186857"
      ]
     },
     "metadata": {},
     "output_type": "display_data"
    },
    {
     "data": {
      "text/plain": [
       "0.7966329966329966"
      ]
     },
     "metadata": {},
     "output_type": "display_data"
    }
   ],
   "source": [
    "display(accuracy_score(y_test, y_knn_better_test))\n",
    "display(precision_score(y_test, y_knn_better_test))"
   ]
  },
  {
   "cell_type": "code",
   "execution_count": 48,
   "id": "d8c88853",
   "metadata": {},
   "outputs": [
    {
     "data": {
      "text/plain": [
       "VotingClassifier(estimators=[('lr',\n",
       "                              LogisticRegression(max_iter=1000,\n",
       "                                                 random_state=69)),\n",
       "                             ('dt',\n",
       "                              DecisionTreeClassifier(max_depth=25,\n",
       "                                                     min_samples_leaf=7,\n",
       "                                                     random_state=69)),\n",
       "                             ('knn',\n",
       "                              KNeighborsClassifier(metric='manhattan',\n",
       "                                                   n_neighbors=14,\n",
       "                                                   weights='distance'))],\n",
       "                 weights=[0.25, 0.25, 0.5])"
      ]
     },
     "execution_count": 48,
     "metadata": {},
     "output_type": "execute_result"
    }
   ],
   "source": [
    "avg = VotingClassifier(estimators=[ ('lr', logreg_model),\n",
    "                                    ('dt', decision_tree_better),\n",
    "                                    ('knn', knn_better)],\n",
    "                                     weights = [0.25, 0.25, 0.5])\n",
    "avg.fit(X_train_clean, y_train)"
   ]
  },
  {
   "cell_type": "code",
   "execution_count": 49,
   "id": "7f53a840",
   "metadata": {},
   "outputs": [
    {
     "name": "stdout",
     "output_type": "stream",
     "text": [
      "0.8043019266297176\n",
      "0.8064133016627079\n"
     ]
    }
   ],
   "source": [
    "scores = cross_val_score(estimator = avg, X = X_train_clean, \n",
    "                         y = y_train, cv = 5)\n",
    "print(np.median(scores))\n",
    "print(avg.score(X_test_clean, y_test))"
   ]
  },
  {
   "cell_type": "code",
   "execution_count": 50,
   "id": "1f1c482d",
   "metadata": {},
   "outputs": [
    {
     "name": "stdout",
     "output_type": "stream",
     "text": [
      "Acc: 0.8064133016627079\n",
      "Prec:  0.8164101115661629\n"
     ]
    }
   ],
   "source": [
    "print(\"Acc:\", accuracy_score(y_test, avg.predict(X_test_clean)))\n",
    "print(\"Prec: \", precision_score(y_test, avg.predict(X_test_clean)))"
   ]
  },
  {
   "cell_type": "code",
   "execution_count": 51,
   "id": "7582409e",
   "metadata": {},
   "outputs": [
    {
     "data": {
      "image/png": "[encoded data removed]",
      "text/plain": [
       "<Figure size 432x288 with 2 Axes>"
      ]
     },
     "metadata": {
      "needs_background": "light"
     },
     "output_type": "display_data"
    }
   ],
   "source": [
    "plot_confusion_matrix(avg, X_test_clean, y_test);"
   ]
  },
  {
   "cell_type": "code",
   "execution_count": 52,
   "id": "03a3af1d",
   "metadata": {},
   "outputs": [
    {
     "name": "stdout",
     "output_type": "stream",
     "text": [
      "0.8346809125036095\n"
     ]
    }
   ],
   "source": [
    "cm = confusion_matrix(y_test, avg.predict(X_test_clean))\n",
    "\n",
    "tp, tn, fp, fn = cm[1][1], cm[0][0], cm[0][1], cm[1][0]\n",
    "tpr = tp / (tp + fn)\n",
    "print(tpr)"
   ]
  },
  {
   "cell_type": "code",
   "execution_count": 53,
   "id": "18566ec5",
   "metadata": {},
   "outputs": [
    {
     "name": "stdout",
     "output_type": "stream",
     "text": [
      "0.22791023842917252\n"
     ]
    }
   ],
   "source": [
    "fpr = fp / (fp + tn)\n",
    "print(fpr)"
   ]
  },
  {
   "cell_type": "code",
   "execution_count": 54,
   "id": "b0cbb0a8",
   "metadata": {},
   "outputs": [
    {
     "data": {
      "text/plain": [
       "0.5483768804433887"
      ]
     },
     "execution_count": 54,
     "metadata": {},
     "output_type": "execute_result"
    }
   ],
   "source": [
    "proba_work = y_test.value_counts()[1] / y_test.value_counts().sum()\n",
    "proba_work"
   ]
  },
  {
   "cell_type": "code",
   "execution_count": 55,
   "id": "4437ca62",
   "metadata": {},
   "outputs": [],
   "source": [
    "W = .55 \n",
    "PW = .7\n",
    "NPW = .3\n",
    "\n",
    "NW = .45\n",
    "PNW = .65\n",
    "NPNW = .35"
   ]
  },
  {
   "cell_type": "code",
   "execution_count": 56,
   "id": "c8204788",
   "metadata": {},
   "outputs": [
    {
     "data": {
      "text/plain": [
       "0.5682656826568266"
      ]
     },
     "execution_count": 56,
     "metadata": {},
     "output_type": "execute_result"
    }
   ],
   "source": [
    "thisshitbetterwork = (PW * W) / ((W * PW) + (NW * PNW))\n",
    "thisshitbetterwork"
   ]
  },
  {
   "cell_type": "code",
   "execution_count": 57,
   "id": "ab844c3d",
   "metadata": {},
   "outputs": [
    {
     "data": {
      "text/plain": [
       "0.4883720930232558"
      ]
     },
     "execution_count": 57,
     "metadata": {},
     "output_type": "execute_result"
    }
   ],
   "source": [
    "fuckyou = (NPNW * NW) / ((W * NPW) + (NW * NPNW))\n",
    "fuckyou"
   ]
  },
  {
   "cell_type": "code",
   "execution_count": 58,
   "id": "a72d0dff",
   "metadata": {},
   "outputs": [
    {
     "data": {
      "text/plain": [
       "0.6865399841646872"
      ]
     },
     "execution_count": 58,
     "metadata": {},
     "output_type": "execute_result"
    }
   ],
   "source": [
    "proba_permit = X_test['permit'].value_counts()[1] / X_test['permit'].value_counts().sum()\n",
    "proba_permit"
   ]
  },
  {
   "cell_type": "code",
   "execution_count": 59,
   "id": "0ba359bc",
   "metadata": {},
   "outputs": [
    {
     "data": {
      "text/plain": [
       "True     0.704649\n",
       "False    0.295351\n",
       "Name: permit, dtype: float64"
      ]
     },
     "execution_count": 59,
     "metadata": {},
     "output_type": "execute_result"
    }
   ],
   "source": [
    "proba_df = df2[['permit', 'status_group']].copy()\n",
    "filtered_1 = proba_df.loc[proba_df['status_group'] == 1]\n",
    "filtered_1['permit'].value_counts(normalize=True)"
   ]
  },
  {
   "cell_type": "code",
   "execution_count": 60,
   "id": "8b9bef34",
   "metadata": {
    "scrolled": true
   },
   "outputs": [
    {
     "data": {
      "text/plain": [
       "True     0.659797\n",
       "False    0.340203\n",
       "Name: permit, dtype: float64"
      ]
     },
     "execution_count": 60,
     "metadata": {},
     "output_type": "execute_result"
    }
   ],
   "source": [
    "proba_df = df2[['permit', 'status_group']].copy()\n",
    "filtered_2 = proba_df.loc[proba_df['status_group'] == 0]\n",
    "filtered_2['permit'].value_counts(normalize=True)"
   ]
  },
  {
   "cell_type": "markdown",
   "id": "f31ae3f6",
   "metadata": {},
   "source": [
    "---"
   ]
  },
  {
   "cell_type": "code",
   "execution_count": 61,
   "id": "adef9103",
   "metadata": {},
   "outputs": [],
   "source": [
    "df3 = df_test.drop(col_to_delete, axis = 1)"
   ]
  },
  {
   "cell_type": "code",
   "execution_count": 62,
   "id": "4c3c2e19",
   "metadata": {},
   "outputs": [],
   "source": [
    "df3.drop_duplicates(keep = 'first',inplace = True)\n",
    "df3 = df3.dropna(axis = 0)\n",
    "\n",
    "df3['year_recorded'] = [int(val[0:4]) for val in df3['date_recorded']]\n",
    "df3['year_recorded'].astype(np.int64)\n",
    "df3.drop(['date_recorded'], axis = 'columns', inplace = True)"
   ]
  },
  {
   "cell_type": "code",
   "execution_count": 63,
   "id": "b4cc48a7",
   "metadata": {},
   "outputs": [],
   "source": [
    "df3['construction_year'] = ['unknown' if val == 0 \n",
    "                           else str((val // 10) * 10) for val in df3['construction_year']]\n",
    "df3['scheme_management'].replace(scheme_management_list, 'Other', inplace=True)\n",
    "df3['installer'] = ['Other' if val not in installer_list \n",
    "                           else val for val in df3['installer']]"
   ]
  },
  {
   "cell_type": "code",
   "execution_count": 64,
   "id": "e4f16da4",
   "metadata": {},
   "outputs": [],
   "source": [
    "df3.drop(df3.index[df3['year_recorded'] < 2005], inplace = True)"
   ]
  },
  {
   "cell_type": "code",
   "execution_count": 65,
   "id": "b88a76a1",
   "metadata": {},
   "outputs": [],
   "source": [
    "Ftest_cat = df3.select_dtypes('object')\n",
    "Ftest_nums = df3.select_dtypes(['float64', 'int64'])"
   ]
  },
  {
   "cell_type": "code",
   "execution_count": 66,
   "id": "47a71162",
   "metadata": {},
   "outputs": [],
   "source": [
    "Ftest = pd.concat([num_encoder(Ftest_nums), cat_encoder(Ftest_cat)], axis=1)"
   ]
  },
  {
   "cell_type": "code",
   "execution_count": 67,
   "id": "47c3af06",
   "metadata": {},
   "outputs": [],
   "source": [
    "df3['targets'] = avg.predict(Ftest)"
   ]
  },
  {
   "cell_type": "markdown",
   "id": "a04c9819",
   "metadata": {},
   "source": [
    "Combined 0 and 1"
   ]
  },
  {
   "cell_type": "code",
   "execution_count": 68,
   "id": "90db0210",
   "metadata": {},
   "outputs": [],
   "source": [
    "# drop_zeros = df3.loc[(df3['longitude'] != 0.0) & (df3['latitude'] != 0.0)]\n",
    "\n",
    "# fig, ax = plt.subplots(figsize=(18,12))\n",
    "\n",
    "# countries = gpd.read_file(gpd.datasets.get_path(\"naturalearth_lowres\"))\n",
    "\n",
    "# drop_zeros\n",
    "# sns.scatterplot(x = drop_zeros['longitude'], y = drop_zeros['latitude'], hue = drop_zeros[\"targets\"], \\\n",
    "#                 palette = [\"red\", \"blue\"], alpha = .5)\n",
    "\n",
    "# ax.grid(b=True, alpha=0.5)\n",
    "\n",
    "# cx.add_basemap(ax, crs=countries.crs.to_string())\n",
    "\n",
    "# ax.set(title='Combined Wells, 0 = Broken, 1 = Working')\n",
    "# plt.legend(title='Wells', loc='upper right', labels=['Need Repair', 'Working'])\n",
    "\n",
    "# plt.show()\n",
    "\n",
    "# fig.savefig(\"combo.png\")"
   ]
  },
  {
   "cell_type": "markdown",
   "id": "629aa030",
   "metadata": {},
   "source": [
    "# Appendix"
   ]
  },
  {
   "cell_type": "markdown",
   "id": "33cafc34",
   "metadata": {},
   "source": [
    "Need Repair"
   ]
  },
  {
   "cell_type": "code",
   "execution_count": 69,
   "id": "adab5a35",
   "metadata": {},
   "outputs": [],
   "source": [
    "# temp_0 = df3.loc[(df3['longitude'] != 0.0) & (df3['latitude'] != 0.0)]\n",
    "\n",
    "\n",
    "# temp_00 = temp_0.loc[(df3['targets'] == 0)]\n",
    "\n",
    "# dropper = temp_00\n",
    "\n",
    "# fig, ax = plt.subplots(figsize=(18,12))\n",
    "\n",
    "# countries = gpd.read_file(gpd.datasets.get_path(\"naturalearth_lowres\"))\n",
    "\n",
    "# sns.scatterplot(x = dropper['longitude'], y = dropper['latitude'], color = \"red\", alpha = .5)\n",
    "\n",
    "# ax.grid(b=True, alpha=0.5)\n",
    "\n",
    "# cx.add_basemap(ax, crs=countries.crs.to_string())\n",
    "# ax.set(title='Need Repair')\n",
    "\n",
    "\n",
    "# plt.show()\n",
    "# fig.savefig(\"need_repair.png\")"
   ]
  },
  {
   "cell_type": "markdown",
   "id": "0d806adf",
   "metadata": {},
   "source": [
    "Functional Wells"
   ]
  },
  {
   "cell_type": "code",
   "execution_count": 70,
   "id": "9c76b397",
   "metadata": {},
   "outputs": [],
   "source": [
    "# temp_1 = df3.loc[(df3['longitude'] != 0.0) & (df3['latitude'] != 0.0)]\n",
    "\n",
    "\n",
    "# temp_11 = temp_1.loc[(df3['targets'] == 1)]\n",
    "\n",
    "# dropper_1 = temp_11\n",
    "\n",
    "# fig, ax = plt.subplots(figsize=(18,12))\n",
    "\n",
    "# countries = gpd.read_file(gpd.datasets.get_path(\"naturalearth_lowres\"))\n",
    "\n",
    "\n",
    "# sns.scatterplot(x = dropper_1['longitude'], y = dropper_1['latitude'], color = \"blue\", alpha = .5)\n",
    "\n",
    "# ax.grid(b=True, alpha=0.5)\n",
    "\n",
    "# cx.add_basemap(ax, crs=countries.crs.to_string())\n",
    "\n",
    "# ax.set(title='Functioning Wells')\n",
    "\n",
    "# plt.show()\n",
    "\n",
    " \n",
    "# fig.savefig(\"working.png\")"
   ]
  },
  {
   "cell_type": "code",
   "execution_count": null,
   "id": "e9f05d47",
   "metadata": {},
   "outputs": [],
   "source": []
  }
 ],
 "metadata": {
  "kernelspec": {
   "display_name": "Python 3 (ipykernel)",
   "language": "python",
   "name": "python3"
  },
  "language_info": {
   "codemirror_mode": {
    "name": "ipython",
    "version": 3
   },
   "file_extension": ".py",
   "mimetype": "text/x-python",
   "name": "python",
   "nbconvert_exporter": "python",
   "pygments_lexer": "ipython3",
   "version": "3.8.12"
  }
 },
 "nbformat": 4,
 "nbformat_minor": 5
}
