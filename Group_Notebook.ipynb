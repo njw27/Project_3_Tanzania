{
 "cells": [
  {
   "cell_type": "markdown",
   "metadata": {},
   "source": [
    "# Importing the packages/libraries and our datasets"
   ]
  },
  {
   "cell_type": "code",
   "execution_count": 9,
   "metadata": {},
   "outputs": [],
   "source": [
    "# Import required packages\n",
    "import numpy as np\n",
    "import pandas as pd\n",
    "\n",
    "import matplotlib.pyplot as plt\n",
    "import seaborn as sns\n",
    "# import geopandas as gpd     #These two lines have been commented out as we had issues installing\n",
    "# import contextily as cx     #these libraries on certain computers\n",
    "\n",
    "\n",
    "from sklearn.tree import DecisionTreeClassifier\n",
    "from sklearn.linear_model import LogisticRegression\n",
    "from sklearn.dummy import DummyClassifier\n",
    "from sklearn.pipeline import Pipeline\n",
    "from sklearn.neighbors import KNeighborsClassifier\n",
    "from sklearn.ensemble import ExtraTreesClassifier\n",
    "from sklearn.ensemble import BaggingClassifier, RandomForestClassifier,\\\n",
    "ExtraTreesClassifier, VotingClassifier, StackingRegressor\n",
    "\n",
    "from sklearn.compose import ColumnTransformer\n",
    "from sklearn.model_selection import train_test_split, cross_val_score, cross_validate, GridSearchCV\n",
    "from sklearn.preprocessing import StandardScaler, OneHotEncoder, FunctionTransformer\n",
    "\n",
    "from sklearn.metrics import confusion_matrix, plot_confusion_matrix,\\\n",
    "    precision_score, recall_score, accuracy_score, f1_score, log_loss,\\\n",
    "    roc_curve, roc_auc_score, classification_report, plot_roc_curve,\\\n",
    "    make_scorer"
   ]
  },
  {
   "cell_type": "code",
   "execution_count": 10,
   "metadata": {},
   "outputs": [],
   "source": [
    "df_test = pd.read_csv('data/test_set_values.csv')\n",
    "df_train = pd.read_csv('data/training_set_values.csv')\n",
    "df_train_label = pd.read_csv('data/training_set_labels.csv')"
   ]
  },
  {
   "cell_type": "code",
   "execution_count": 11,
   "metadata": {},
   "outputs": [],
   "source": [
    "# Reassigning targets to establish bionomial targets\n",
    "target = df_train_label.replace({'status_group': {'functional' : 1, \n",
    "                                'non functional' : 0, \n",
    "                                'functional needs repair' : 0}})\n",
    "df = pd.concat([df_train, target], axis = 1)"
   ]
  },
  {
   "cell_type": "markdown",
   "metadata": {},
   "source": [
    "---\n",
    "# EDA and Datacleaning"
   ]
  },
  {
   "cell_type": "markdown",
   "metadata": {},
   "source": [
    "# Eliminating features that we found to be redudant or unuseable for our models. \n",
    "\n",
    "Many of the features had the same information provided by similar features in the dataset so we trimmed them. In addition to this some features like 'num_private' had no feature descriptions explaining what it was so we could not utilize it."
   ]
  },
  {
   "cell_type": "code",
   "execution_count": 12,
   "metadata": {},
   "outputs": [],
   "source": [
    "# Removing columns that are non-factors for our model\n",
    "col_to_delete = ['id', 'recorded_by', 'funder', 'public_meeting',\n",
    "                'lga', 'ward', 'region_code', 'district_code', \n",
    "                 'wpt_name','scheme_name', 'extraction_type', 'extraction_type_group',\n",
    "                 'payment', 'quality_group', 'source_type', 'quantity_group',\n",
    "                 'waterpoint_type_group', 'subvillage', 'num_private']\n",
    "                 \n",
    "df2 = df.drop(col_to_delete, axis = 1)"
   ]
  },
  {
   "cell_type": "markdown",
   "metadata": {},
   "source": [
    "We created a new feature 'year_recorded' to capture only the year that the data was recorded to transform the 'date_recorded'. This was because we believed that this may have been important to keep in our data, but keeping it in its original state may have cause our model to be too complex with the sheer number of unique values."
   ]
  },
  {
   "cell_type": "code",
   "execution_count": 13,
   "metadata": {},
   "outputs": [
    {
     "name": "stderr",
     "output_type": "stream",
     "text": [
      "<ipython-input-13-e30387774f47>:2: SettingWithCopyWarning: \n",
      "A value is trying to be set on a copy of a slice from a DataFrame\n",
      "\n",
      "See the caveats in the documentation: https://pandas.pydata.org/pandas-docs/stable/user_guide/indexing.html#returning-a-view-versus-a-copy\n",
      "  df2.drop_duplicates(keep='first', inplace = True)\n"
     ]
    }
   ],
   "source": [
    "# Remove duplicated data entries and null values\n",
    "df2.drop_duplicates(keep='first', inplace = True) \n",
    "df2 = df2.dropna(axis = 0)\n",
    "\n",
    "# Pulling the year off and type casting to int\n",
    "df2['year_recorded'] = [int(val[0:4]) for val in df2['date_recorded']]\n",
    "df2['year_recorded'].astype(np.int64)\n",
    "df2.drop(['date_recorded'], axis = 'columns', inplace = True)"
   ]
  },
  {
   "cell_type": "markdown",
   "metadata": {},
   "source": [
    "We applied the same thought processes to the following features. In addition we dropped any data that was entered before 2005 as it only comprised 0.06% of our data and created additional problems when attempting to train test split our data."
   ]
  },
  {
   "cell_type": "code",
   "execution_count": 14,
   "metadata": {},
   "outputs": [],
   "source": [
    "# Binning the years into decades\n",
    "df2['construction_year'] = ['unknown' if val == 0 \n",
    "                           else str((val // 10) * 10) for val in df2['construction_year']]\n",
    "\n",
    "# Binning the unique values\n",
    "scheme_management_list = ['SWC', 'Trust', 'None']\n",
    "df2['scheme_management'].replace(scheme_management_list, 'Other', inplace = True)"
   ]
  },
  {
   "cell_type": "code",
   "execution_count": 15,
   "metadata": {},
   "outputs": [],
   "source": [
    "# Binning unique values\n",
    "installer_list = ['DWE', 'Government', 'Commu', 'DANIDA', \n",
    "                  'RWE', 'KKKT', 'TCRS']\n",
    "df2['installer'] = ['Other' if val not in installer_list \n",
    "                           else val for val in df2['installer']]\n",
    "\n",
    "df2.drop(df2.index[df2['year_recorded'] < 2005], inplace=True)\n",
    "df2.reset_index(inplace=True, drop=True)"
   ]
  },
  {
   "cell_type": "markdown",
   "metadata": {},
   "source": [
    "---\n",
    "# Modeling\n",
    "\n",
    "Simple functions for One Hot Encoding and Scaling our data"
   ]
  },
  {
   "cell_type": "code",
   "execution_count": 16,
   "metadata": {},
   "outputs": [],
   "source": [
    "def num_encoder(df_to_encode):\n",
    "    ss = StandardScaler()\n",
    "\n",
    "    ss.fit(df_to_encode)\n",
    "    nums_df = pd.DataFrame(ss.transform(df_to_encode),\n",
    "                           columns = df_to_encode.columns,\n",
    "                          index = df_to_encode.index)\n",
    "    return nums_df\n",
    "\n",
    "def cat_encoder(df_to_encode):\n",
    "    ohe = OneHotEncoder(\n",
    "        drop = 'first',\n",
    "        sparse = False)\n",
    "    \n",
    "    dums = ohe.fit_transform(df_to_encode)\n",
    "    dums_df = pd.DataFrame(dums,\n",
    "                            columns = ohe.get_feature_names(),\n",
    "                            index = df_to_encode.index)\n",
    "    return dums_df"
   ]
  },
  {
   "cell_type": "markdown",
   "metadata": {},
   "source": [
    "---\n",
    "# Establishing the Dummy Model"
   ]
  },
  {
   "cell_type": "code",
   "execution_count": 17,
   "metadata": {},
   "outputs": [],
   "source": [
    "y = df2.status_group\n",
    "X = df2.drop('status_group', axis = 1)\n",
    "\n",
    "X_train, X_test, y_train, y_test = train_test_split(X, y, \n",
    "                                                    test_size=0.25, random_state=69)"
   ]
  },
  {
   "cell_type": "code",
   "execution_count": 18,
   "metadata": {},
   "outputs": [],
   "source": [
    "X_train_cat = X_train.select_dtypes('object')\n",
    "X_train_nums = X_train.select_dtypes(['float64', 'int64'])\n",
    "\n",
    "X_test_cat = X_test.select_dtypes('object')\n",
    "X_test_nums = X_test.select_dtypes(['float64', 'int64'])"
   ]
  },
  {
   "cell_type": "code",
   "execution_count": 19,
   "metadata": {},
   "outputs": [
    {
     "data": {
      "text/plain": [
       "0.5461215656259073"
      ]
     },
     "execution_count": 19,
     "metadata": {},
     "output_type": "execute_result"
    }
   ],
   "source": [
    "cont_pipeline = Pipeline(steps=[\n",
    "    ('ss', StandardScaler())\n",
    "])\n",
    "\n",
    "cat_pipeline = Pipeline(steps=[\n",
    "    ('ohe', OneHotEncoder(drop = 'first'))\n",
    "])\n",
    "\n",
    "trans = ColumnTransformer(transformers=[\n",
    "    ('continuous', cont_pipeline, X_train_nums.columns),\n",
    "    ('categorical', cat_pipeline, X_train_cat.columns)\n",
    "])\n",
    "\n",
    "dummy = Pipeline(steps=[\n",
    "    ('trans', trans),\n",
    "    ('dummy', DummyClassifier(random_state = 69, strategy = 'most_frequent'))\n",
    "])\n",
    "\n",
    "#Fitting and checking the score\n",
    "dummy.fit(X_train, y_train)\n",
    "dummy.score(X_train, y_train)"
   ]
  },
  {
   "cell_type": "markdown",
   "metadata": {},
   "source": [
    "Our dummy model predictably produces a score of 54% because it is based on the majority target."
   ]
  },
  {
   "cell_type": "markdown",
   "metadata": {},
   "source": [
    "---\n",
    "# Model 1 (Decision Tree Classifier)\n",
    "\n",
    "We decided to use a decision tree as our first model for feature selection. For the first iteration we did not specify any hyper-parameters except for the random state."
   ]
  },
  {
   "cell_type": "code",
   "execution_count": 20,
   "metadata": {},
   "outputs": [],
   "source": [
    "X_train_clean = pd.concat([num_encoder(X_train_nums), cat_encoder(X_train_cat)], axis = 1)\n",
    "X_test_clean = pd.concat([num_encoder(X_test_nums), cat_encoder(X_test_cat)], axis = 1)"
   ]
  },
  {
   "cell_type": "code",
   "execution_count": 21,
   "metadata": {},
   "outputs": [
    {
     "data": {
      "text/plain": [
       "DecisionTreeClassifier(random_state=69)"
      ]
     },
     "execution_count": 21,
     "metadata": {},
     "output_type": "execute_result"
    }
   ],
   "source": [
    "decision_tree = DecisionTreeClassifier(random_state = 69)\n",
    "decision_tree.fit(X_train_clean, y_train)"
   ]
  },
  {
   "cell_type": "code",
   "execution_count": 22,
   "metadata": {},
   "outputs": [
    {
     "data": {
      "image/png": "[encoded data removed]",
      "text/plain": [
       "<Figure size 432x288 with 2 Axes>"
      ]
     },
     "metadata": {
      "needs_background": "light"
     },
     "output_type": "display_data"
    }
   ],
   "source": [
    "y_tree_train = decision_tree.predict(X_train_clean)\n",
    "y_tree_test = decision_tree.predict(X_test_clean)\n",
    "plot_confusion_matrix(decision_tree, X_test_clean, y_test);"
   ]
  },
  {
   "cell_type": "code",
   "execution_count": 23,
   "metadata": {},
   "outputs": [
    {
     "data": {
      "text/plain": [
       "0.9972287471297738"
      ]
     },
     "metadata": {},
     "output_type": "display_data"
    },
    {
     "data": {
      "text/plain": [
       "0.99854700440742"
      ]
     },
     "metadata": {},
     "output_type": "display_data"
    }
   ],
   "source": [
    "display(accuracy_score(y_train, y_tree_train))\n",
    "display(precision_score(y_train, y_tree_train))"
   ]
  },
  {
   "cell_type": "code",
   "execution_count": 24,
   "metadata": {},
   "outputs": [
    {
     "data": {
      "text/plain": [
       "0.7094220110847189"
      ]
     },
     "metadata": {},
     "output_type": "display_data"
    },
    {
     "data": {
      "text/plain": [
       "0.7404726735598227"
      ]
     },
     "metadata": {},
     "output_type": "display_data"
    }
   ],
   "source": [
    "display(accuracy_score(y_test, y_tree_test))\n",
    "display(precision_score(y_test, y_tree_test))"
   ]
  },
  {
   "cell_type": "markdown",
   "metadata": {},
   "source": [
    "Unsurprisingly the model is severly overfit with an accuracy score of 99% and precision score of 99% on the training set in comparison to the accuracy score of 70% and precision score of 74% on our testing set."
   ]
  },
  {
   "cell_type": "markdown",
   "metadata": {},
   "source": [
    "---\n",
    "# Grid Search for Model 2 Optimal Parameters\n",
    "\n",
    "We utilized Grid Search to find the optimal hyper-parameters for our Decision Tree model."
   ]
  },
  {
   "cell_type": "code",
   "execution_count": 25,
   "metadata": {},
   "outputs": [
    {
     "data": {
      "text/plain": [
       "DecisionTreeClassifier()"
      ]
     },
     "execution_count": 25,
     "metadata": {},
     "output_type": "execute_result"
    }
   ],
   "source": [
    "decision_tree = DecisionTreeClassifier()\n",
    "decision_tree.fit(X_train_clean, y_train)"
   ]
  },
  {
   "cell_type": "code",
   "execution_count": 26,
   "metadata": {},
   "outputs": [],
   "source": [
    "param_dict = {\n",
    "    \"criterion\":['gini', 'entropy'],\n",
    "    \"max_depth\":[1, 10, 25, 50],\n",
    "    \"min_samples_split\":range(1, 10),\n",
    "    \"min_samples_leaf\":range(1, 10)\n",
    "}"
   ]
  },
  {
   "cell_type": "code",
   "execution_count": 27,
   "metadata": {},
   "outputs": [],
   "source": [
    "# tw = GridSearchCV(estimator=decision_tree,\n",
    "#                  param_grid=param_dict,\n",
    "#                  cv=5,\n",
    "#                  verbose=1,\n",
    "#                  n_jobs=-1)\n",
    "# tw.fit(X_train_clean, y_train)"
   ]
  },
  {
   "cell_type": "code",
   "execution_count": 28,
   "metadata": {},
   "outputs": [],
   "source": [
    "# print(tw.best_params_)\n",
    "# print(tw.best_estimator_)\n",
    "# print(tw.best_score_)"
   ]
  },
  {
   "cell_type": "markdown",
   "metadata": {},
   "source": [
    "Here we found that the best parameters for our Decision Tree model are <br>`criterion = 'gini', max_depth = 25, min_samples_leaf = 7`"
   ]
  },
  {
   "cell_type": "markdown",
   "metadata": {},
   "source": [
    "Kept getting different `min_samples_split` value without results changing so it seems `criterion`, `max_depth`, & and `min_samples_leaf` give us a consistent enough result that `min_samples_split` does not need to be manipulated by us."
   ]
  },
  {
   "cell_type": "markdown",
   "metadata": {},
   "source": [
    "---\n",
    "# Model 2 (Decision Tree) with Optimized Parameters"
   ]
  },
  {
   "cell_type": "code",
   "execution_count": 29,
   "metadata": {},
   "outputs": [
    {
     "data": {
      "text/plain": [
       "DecisionTreeClassifier(max_depth=25, min_samples_leaf=7, random_state=69)"
      ]
     },
     "execution_count": 29,
     "metadata": {},
     "output_type": "execute_result"
    }
   ],
   "source": [
    "decision_tree_better = DecisionTreeClassifier(random_state = 69, criterion = 'gini', \n",
    "                                              max_depth = 25, min_samples_leaf = 7)\n",
    "decision_tree_better.fit(X_train_clean, y_train)"
   ]
  },
  {
   "cell_type": "code",
   "execution_count": 30,
   "metadata": {},
   "outputs": [
    {
     "data": {
      "image/png": "[encoded data removed]",
      "text/plain": [
       "<Figure size 432x288 with 2 Axes>"
      ]
     },
     "metadata": {
      "needs_background": "light"
     },
     "output_type": "display_data"
    }
   ],
   "source": [
    "y_tree_train_better = decision_tree_better.predict(X_train_clean)\n",
    "y_tree_test_better = decision_tree_better.predict(X_test_clean)\n",
    "plot_confusion_matrix(decision_tree_better, X_test_clean, y_test);"
   ]
  },
  {
   "cell_type": "code",
   "execution_count": 31,
   "metadata": {},
   "outputs": [
    {
     "data": {
      "text/plain": [
       "0.8751616564174298"
      ]
     },
     "metadata": {},
     "output_type": "display_data"
    },
    {
     "data": {
      "text/plain": [
       "0.8781030888762554"
      ]
     },
     "metadata": {},
     "output_type": "display_data"
    }
   ],
   "source": [
    "display(accuracy_score(y_train, y_tree_train_better))\n",
    "display(precision_score(y_train, y_tree_train_better))"
   ]
  },
  {
   "cell_type": "code",
   "execution_count": 25,
   "metadata": {},
   "outputs": [
    {
     "data": {
      "text/plain": [
       "0.7429928741092636"
      ]
     },
     "metadata": {},
     "output_type": "display_data"
    },
    {
     "data": {
      "text/plain": [
       "0.7463845741831816"
      ]
     },
     "metadata": {},
     "output_type": "display_data"
    }
   ],
   "source": [
    "display(accuracy_score(y_test, y_tree_test_better))\n",
    "display(precision_score(y_test, y_tree_test_better))"
   ]
  },
  {
   "cell_type": "markdown",
   "metadata": {},
   "source": [
    "With our optimized parameters, this decision tree performed much better than our first attempt, with new training  accuracy and precion scores of nearly 88% and a test accuracy and precion scores of 74%."
   ]
  },
  {
   "cell_type": "markdown",
   "metadata": {},
   "source": [
    "---\n",
    "# Feature Importance & Model 3 (Logisitc Regression) Using Top Predictors\n",
    "\n",
    "Next, we used the `ExtraTreesClassifier()` to identify the features with the highest importance."
   ]
  },
  {
   "cell_type": "code",
   "execution_count": 144,
   "metadata": {},
   "outputs": [
    {
     "name": "stdout",
     "output_type": "stream",
     "text": [
      "[1.49793062e-02 7.08975250e-02 1.37566302e-01 1.36212298e-01\n",
      " 4.72244926e-02 9.22367678e-03 1.31224969e-03 1.05647212e-02\n",
      " 5.91884915e-03 8.45149358e-04 1.11167871e-02 2.86474349e-03\n",
      " 1.23717707e-03 5.78402814e-03 3.00170653e-03 4.41100552e-03\n",
      " 4.39121165e-03 5.50137852e-03 4.53106753e-03 3.77246221e-03\n",
      " 4.87154996e-03 1.05370626e-03 2.67303415e-03 1.17500154e-02\n",
      " 2.32566848e-03 2.81807043e-03 3.49030020e-03 2.00203833e-03\n",
      " 2.58682417e-03 1.99522560e-03 2.71891949e-03 2.34072645e-03\n",
      " 2.32432591e-03 2.23964770e-03 2.91621752e-03 2.30833967e-03\n",
      " 2.36273975e-03 2.45314410e-03 1.50115755e-03 1.72554253e-03\n",
      " 2.72632464e-03 1.34137824e-03 1.25240289e-03 1.38181239e-03\n",
      " 6.74518856e-03 2.29707267e-03 2.48757012e-03 4.37093382e-03\n",
      " 3.69886181e-03 1.37218170e-02 1.02735934e-02 7.80194486e-03\n",
      " 7.77636598e-03 1.19853812e-02 1.22960265e-02 5.89396941e-03\n",
      " 1.02958152e-02 4.31036312e-03 2.66928193e-02 8.67378319e-04\n",
      " 7.59888511e-03 4.52276226e-04 7.89545640e-04 2.14332357e-04\n",
      " 1.31939941e-03 2.84028704e-03 3.65768950e-04 2.68763353e-04\n",
      " 8.86786423e-03 1.10030706e-03 2.95877755e-03 1.66493400e-03\n",
      " 3.07942796e-03 9.70119064e-04 1.19066947e-03 2.49678986e-04\n",
      " 4.20784056e-03 6.43658659e-03 2.10089551e-02 4.07723036e-03\n",
      " 1.45276090e-03 9.45356290e-03 7.64865834e-03 6.51080251e-04\n",
      " 5.06385808e-05 1.00792215e-03 5.65134939e-03 1.44346188e-03\n",
      " 8.20911629e-03 5.15320897e-03 5.63898789e-02 2.69858383e-02\n",
      " 1.41235864e-02 1.78103481e-03 1.40514042e-03 1.85777559e-03\n",
      " 7.77339238e-03 6.63711249e-04 3.82444550e-03 4.97977204e-03\n",
      " 6.85995978e-03 9.03188178e-03 1.30328152e-04 6.57488016e-03\n",
      " 6.77971070e-04 1.41722295e-02 1.07785032e-02 7.98344726e-05\n",
      " 8.12358128e-03 2.57590868e-03 3.27965873e-02]\n"
     ]
    },
    {
     "data": {
      "image/png": "[encoded data removed]",
      "text/plain": [
       "<Figure size 432x288 with 1 Axes>"
      ]
     },
     "metadata": {
      "needs_background": "light"
     },
     "output_type": "display_data"
    }
   ],
   "source": [
    "model = ExtraTreesClassifier()\n",
    "model.fit(X_train_clean, y_train)\n",
    "\n",
    "print(model.feature_importances_) #use inbuilt class feature_importances of tree based classifiers\n",
    "\n",
    "#plot graph of feature importances for better visualization\n",
    "feat_importances = pd.Series(model.feature_importances_, index = X_train_clean.columns)\n",
    "feat_importances.nlargest(10).plot(kind = 'barh')\n",
    "plt.show()"
   ]
  },
  {
   "cell_type": "code",
   "execution_count": 145,
   "metadata": {},
   "outputs": [
    {
     "data": {
      "text/plain": [
       "Index(['installer', 'basin', 'region', 'scheme_management', 'permit',\n",
       "       'construction_year', 'extraction_type_class', 'management',\n",
       "       'management_group', 'payment_type', 'water_quality', 'quantity',\n",
       "       'source', 'source_class', 'waterpoint_type'],\n",
       "      dtype='object')"
      ]
     },
     "execution_count": 145,
     "metadata": {},
     "output_type": "execute_result"
    }
   ],
   "source": [
    "X_train_cat.columns"
   ]
  },
  {
   "cell_type": "code",
   "execution_count": 146,
   "metadata": {},
   "outputs": [
    {
     "data": {
      "text/plain": [
       "communal standpipe             25019\n",
       "hand pump                      14022\n",
       "communal standpipe multiple     5854\n",
       "other                           4874\n",
       "improved spring                  661\n",
       "cattle trough                     83\n",
       "dam                                6\n",
       "Name: waterpoint_type, dtype: int64"
      ]
     },
     "execution_count": 146,
     "metadata": {},
     "output_type": "execute_result"
    }
   ],
   "source": [
    "df2['waterpoint_type'].value_counts()"
   ]
  },
  {
   "cell_type": "code",
   "execution_count": 147,
   "metadata": {},
   "outputs": [],
   "source": [
    "importance_col = ['longitude', 'latitude', 'gps_height', 'quantity', \n",
    "                  'status_group', 'population', 'waterpoint_type', \n",
    "                 'extraction_type_class', 'payment_type', 'amount_tsh']\n",
    "df_importance = df2[importance_col]"
   ]
  },
  {
   "cell_type": "markdown",
   "metadata": {},
   "source": [
    "---\n",
    " We then used our top 10 most important features to predict our model using logistic regression."
   ]
  },
  {
   "cell_type": "code",
   "execution_count": 109,
   "metadata": {},
   "outputs": [],
   "source": [
    "y_Extra = df_importance.status_group\n",
    "X_Extra = df_importance.drop('status_group', axis = 1)\n",
    "\n",
    "X_train_Extra, X_test_Extra, y_train_Extra, y_test_Extra = train_test_split(X_Extra, y_Extra, \n",
    "                                                        test_size = 0.25, random_state = 69)"
   ]
  },
  {
   "cell_type": "code",
   "execution_count": 110,
   "metadata": {},
   "outputs": [],
   "source": [
    "X_train_cat_Extra = X_train_Extra.select_dtypes('object')\n",
    "X_train_nums_Extra = X_train_Extra.select_dtypes(['float64', 'int64'])\n",
    "\n",
    "X_test_cat_Extra = X_test_Extra.select_dtypes('object')\n",
    "X_test_nums_Extra = X_test_Extra.select_dtypes(['float64', 'int64'])"
   ]
  },
  {
   "cell_type": "code",
   "execution_count": 111,
   "metadata": {},
   "outputs": [],
   "source": [
    "X_train_clean_Extra = pd.concat([num_encoder(X_train_nums_Extra), cat_encoder(X_train_cat_Extra)], axis=1)\n",
    "X_test_clean_Extra = pd.concat([num_encoder(X_test_nums_Extra), cat_encoder(X_test_cat_Extra)], axis=1)"
   ]
  },
  {
   "cell_type": "code",
   "execution_count": 114,
   "metadata": {},
   "outputs": [],
   "source": [
    "logreg_clf_Extra = LogisticRegression(random_state = 69, max_iter = 1000)\n",
    "logreg_model_Extra = logreg_clf_Extra.fit(X_train_clean_Extra, y_train_Extra)"
   ]
  },
  {
   "cell_type": "code",
   "execution_count": 127,
   "metadata": {},
   "outputs": [],
   "source": [
    "logreg_train_pred_Extra = logreg_clf_Extra.predict(X_train_clean_Extra)\n",
    "logreg_train_acc_Extra = accuracy_score(y_train_Extra, logreg_train_pred_Extra)\n",
    "\n",
    "log_val_preds_Extra = logreg_clf_Extra.predict(X_test_clean_Extra) # y_hat\n",
    "log_val_accuracy_Extra = accuracy_score(y_test_Extra, log_val_preds_Extra)"
   ]
  },
  {
   "cell_type": "code",
   "execution_count": 128,
   "metadata": {},
   "outputs": [
    {
     "data": {
      "image/png": "[encoded data removed]",
      "text/plain": [
       "<Figure size 432x288 with 2 Axes>"
      ]
     },
     "metadata": {
      "needs_background": "light"
     },
     "output_type": "display_data"
    }
   ],
   "source": [
    "plot_confusion_matrix(logreg_clf_Extra, X_test_clean_Extra, y_test_Extra);"
   ]
  },
  {
   "cell_type": "code",
   "execution_count": 129,
   "metadata": {},
   "outputs": [
    {
     "data": {
      "text/plain": [
       "0.7304758637071446"
      ]
     },
     "metadata": {},
     "output_type": "display_data"
    },
    {
     "data": {
      "text/plain": [
       "0.6916325336454067"
      ]
     },
     "metadata": {},
     "output_type": "display_data"
    }
   ],
   "source": [
    "display(accuracy_score(y_train_Extra, logreg_train_pred_Extra))\n",
    "display(precision_score(y_train_Extra, logreg_train_pred_Extra))"
   ]
  },
  {
   "cell_type": "code",
   "execution_count": 130,
   "metadata": {},
   "outputs": [
    {
     "data": {
      "text/plain": [
       "0.7315122723673793"
      ]
     },
     "metadata": {},
     "output_type": "display_data"
    },
    {
     "data": {
      "text/plain": [
       "0.6936986301369863"
      ]
     },
     "metadata": {},
     "output_type": "display_data"
    }
   ],
   "source": [
    "display(accuracy_score(y_test_Extra, log_val_preds_Extra))\n",
    "display(precision_score(y_test_Extra, log_val_preds_Extra))"
   ]
  },
  {
   "cell_type": "markdown",
   "metadata": {},
   "source": [
    "So the top 10 predictors we recived from our `ExtraTreesClassifier()` had a 73% accuracy score and 69% precision score of our test data when using a `LogisticRegression()`. Next, we ran a new Logisitc Regression model which utilized all predictor columns available."
   ]
  },
  {
   "cell_type": "markdown",
   "metadata": {},
   "source": [
    "---\n",
    "# Model 4 (Logistic Regression) Utilizing All Predictors"
   ]
  },
  {
   "cell_type": "code",
   "execution_count": 138,
   "metadata": {},
   "outputs": [],
   "source": [
    "logreg_clf = LogisticRegression(random_state = 69, max_iter = 1000)\n",
    "logreg_model = logreg_clf.fit(X_train_clean, y_train)"
   ]
  },
  {
   "cell_type": "code",
   "execution_count": 139,
   "metadata": {},
   "outputs": [],
   "source": [
    "logreg_train_pred = logreg_clf.predict(X_train_clean)\n",
    "logreg_train_acc = accuracy_score(y_train, logreg_train_pred)\n",
    "\n",
    "log_val_preds = logreg_clf.predict(X_test_clean) # y_hat\n",
    "log_val_accuracy = accuracy_score(y_test, log_val_preds)"
   ]
  },
  {
   "cell_type": "code",
   "execution_count": 140,
   "metadata": {},
   "outputs": [
    {
     "data": {
      "image/png": "[encoded data removed]",
      "text/plain": [
       "<Figure size 432x288 with 2 Axes>"
      ]
     },
     "metadata": {
      "needs_background": "light"
     },
     "output_type": "display_data"
    }
   ],
   "source": [
    "plot_confusion_matrix(logreg_clf, X_test_clean, y_test);"
   ]
  },
  {
   "cell_type": "code",
   "execution_count": 141,
   "metadata": {},
   "outputs": [
    {
     "data": {
      "text/plain": [
       "0.7625168254638549"
      ]
     },
     "metadata": {},
     "output_type": "display_data"
    },
    {
     "data": {
      "text/plain": [
       "0.7457135653050933"
      ]
     },
     "metadata": {},
     "output_type": "display_data"
    }
   ],
   "source": [
    "display(accuracy_score(y_train, logreg_train_pred))\n",
    "display(precision_score(y_train, logreg_train_pred))"
   ]
  },
  {
   "cell_type": "code",
   "execution_count": 142,
   "metadata": {},
   "outputs": [
    {
     "data": {
      "text/plain": [
       "0.7629453681710214"
      ]
     },
     "metadata": {},
     "output_type": "display_data"
    },
    {
     "data": {
      "text/plain": [
       "0.7449538998255669"
      ]
     },
     "metadata": {},
     "output_type": "display_data"
    }
   ],
   "source": [
    "display(accuracy_score(y_test, log_val_preds))\n",
    "display(precision_score(y_test, log_val_preds))"
   ]
  },
  {
   "cell_type": "markdown",
   "metadata": {},
   "source": [
    "With all predictors, both our training and testing sets' metrics improved. Accuracy had gone up to 76% and precision reached 74%.\n"
   ]
  },
  {
   "cell_type": "markdown",
   "metadata": {},
   "source": [
    "---\n",
    "# Grid Search for Model 5 Optimal Parameters\n",
    "\n",
    "For our final indivdual model, we again utilized Grid Search to find the optimal hyper-parameters for a kNN model.\n"
   ]
  },
  {
   "cell_type": "code",
   "execution_count": 157,
   "metadata": {},
   "outputs": [],
   "source": [
    "knn_model = KNeighborsClassifier()\n",
    "knn_model.fit(X_train_clean, y_train)\n",
    "grid = {\n",
    "    'n_neighbors': range(1, 15),\n",
    "    'metric': ['manhattan', 'minkowski'],\n",
    "    'weights' : ['distance', 'uniform']\n",
    "}"
   ]
  },
  {
   "cell_type": "code",
   "execution_count": 158,
   "metadata": {},
   "outputs": [],
   "source": [
    "# gs = GridSearchCV(estimator = knn_model, param_grid = grid, cv = 5, verbose = 1, n_jobs = -1)\n",
    "# gs.fit(X_train_clean, y_train)"
   ]
  },
  {
   "cell_type": "code",
   "execution_count": 159,
   "metadata": {},
   "outputs": [],
   "source": [
    "# gs.best_params_"
   ]
  },
  {
   "cell_type": "markdown",
   "metadata": {},
   "source": [
    "Here we found that the best parameters for our kNN model are <br>  `n_neighbors = 14, metric = 'manhattan', weights = 'distance'`"
   ]
  },
  {
   "cell_type": "markdown",
   "metadata": {},
   "source": [
    "---\n",
    "# Model 5 (K Nearest Neighbors) with Optimized Parameters\n",
    "\n",
    "We next ran a new `KNeighborsClassifier()` model with our optimal hyperparameters to see what metric results we would get for our training and testing sets."
   ]
  },
  {
   "cell_type": "code",
   "execution_count": 161,
   "metadata": {},
   "outputs": [
    {
     "data": {
      "image/png": "[encoded data removed]",
      "text/plain": [
       "<Figure size 432x288 with 2 Axes>"
      ]
     },
     "metadata": {
      "needs_background": "light"
     },
     "output_type": "display_data"
    }
   ],
   "source": [
    "knn_better = KNeighborsClassifier(14, metric = \"manhattan\", weights = 'distance') \n",
    "knn_better.fit(X_train_clean, y_train)\n",
    "\n",
    "y_knn_better_train = knn_better.predict(X_train_clean)\n",
    "y_knn_better_test = knn_better.predict(X_test_clean)\n",
    "\n",
    "plot_confusion_matrix(knn_better, X_test_clean, y_test);"
   ]
  },
  {
   "cell_type": "code",
   "execution_count": 162,
   "metadata": {},
   "outputs": [
    {
     "data": {
      "text/plain": [
       "0.9972287471297738"
      ]
     },
     "metadata": {},
     "output_type": "display_data"
    },
    {
     "data": {
      "text/plain": [
       "0.99854700440742"
      ]
     },
     "metadata": {},
     "output_type": "display_data"
    }
   ],
   "source": [
    "display(accuracy_score(y_train, y_knn_better_train))\n",
    "display(precision_score(y_train, y_knn_better_train))"
   ]
  },
  {
   "cell_type": "code",
   "execution_count": 163,
   "metadata": {},
   "outputs": [
    {
     "data": {
      "text/plain": [
       "0.8003958828186857"
      ]
     },
     "metadata": {},
     "output_type": "display_data"
    },
    {
     "data": {
      "text/plain": [
       "0.7966329966329966"
      ]
     },
     "metadata": {},
     "output_type": "display_data"
    }
   ],
   "source": [
    "display(accuracy_score(y_test, y_knn_better_test))\n",
    "display(precision_score(y_test, y_knn_better_test))"
   ]
  },
  {
   "cell_type": "markdown",
   "metadata": {},
   "source": [
    "While our kNN model overfit on our training data, our testing data metrics were the best so far  us our best testing results so far, with an accuracy score and a precison score of 80%."
   ]
  },
  {
   "cell_type": "markdown",
   "metadata": {},
   "source": [
    "---\n",
    "# Final Model with an Ensemble Model\n",
    "\n",
    "We decided to use `VotingClassifier()` to combine our models together to get optimal performance. We chose to give our optimized kNN model the most weight (50%), as it performed the best in both accuracy and precision on testing data. We split the remaining weight percentage equally between our optimized decision tree model and logisitc regression model (25% each)."
   ]
  },
  {
   "cell_type": "code",
   "execution_count": 171,
   "metadata": {},
   "outputs": [
    {
     "data": {
      "text/plain": [
       "VotingClassifier(estimators=[('lr',\n",
       "                              LogisticRegression(max_iter=1000,\n",
       "                                                 random_state=69)),\n",
       "                             ('dt',\n",
       "                              DecisionTreeClassifier(max_depth=25,\n",
       "                                                     min_samples_leaf=7,\n",
       "                                                     random_state=69)),\n",
       "                             ('knn',\n",
       "                              KNeighborsClassifier(metric='manhattan',\n",
       "                                                   n_neighbors=14,\n",
       "                                                   weights='distance'))],\n",
       "                 weights=[0.25, 0.25, 0.5])"
      ]
     },
     "execution_count": 171,
     "metadata": {},
     "output_type": "execute_result"
    }
   ],
   "source": [
    "avg = VotingClassifier(estimators=[ ('lr', logreg_model),\n",
    "                                    ('dt', decision_tree_better),\n",
    "                                    ('knn', knn_better)],\n",
    "                                     weights = [0.25, 0.25, 0.5])\n",
    "avg.fit(X_train_clean, y_train)"
   ]
  },
  {
   "cell_type": "code",
   "execution_count": 172,
   "metadata": {},
   "outputs": [
    {
     "name": "stdout",
     "output_type": "stream",
     "text": [
      "0.8043019266297176\n",
      "0.8064133016627079\n"
     ]
    }
   ],
   "source": [
    "scores = cross_val_score(estimator = avg, X = X_train_clean, \n",
    "                         y = y_train, cv = 5)\n",
    "print(np.median(scores))\n",
    "print(avg.score(X_test_clean, y_test))"
   ]
  },
  {
   "cell_type": "code",
   "execution_count": 173,
   "metadata": {},
   "outputs": [
    {
     "name": "stdout",
     "output_type": "stream",
     "text": [
      "Acc: 0.8064133016627079\n",
      "Prec:  0.8164101115661629\n"
     ]
    }
   ],
   "source": [
    "print(\"Acc:\", accuracy_score(y_test, avg.predict(X_test_clean)))\n",
    "print(\"Prec: \", precision_score(y_test, avg.predict(X_test_clean)))"
   ]
  },
  {
   "cell_type": "code",
   "execution_count": 174,
   "metadata": {},
   "outputs": [
    {
     "data": {
      "image/png": "[encoded data removed]",
      "text/plain": [
       "<Figure size 432x288 with 2 Axes>"
      ]
     },
     "metadata": {
      "needs_background": "light"
     },
     "output_type": "display_data"
    }
   ],
   "source": [
    "plot_confusion_matrix(avg, X_test_clean, y_test);"
   ]
  },
  {
   "cell_type": "code",
   "execution_count": null,
   "metadata": {},
   "outputs": [],
   "source": []
  },
  {
   "cell_type": "code",
   "execution_count": null,
   "metadata": {},
   "outputs": [],
   "source": []
  },
  {
   "cell_type": "code",
   "execution_count": null,
   "metadata": {},
   "outputs": [],
   "source": []
  },
  {
   "cell_type": "code",
   "execution_count": null,
   "metadata": {},
   "outputs": [],
   "source": []
  },
  {
   "cell_type": "code",
   "execution_count": 177,
   "metadata": {},
   "outputs": [
    {
     "name": "stdout",
     "output_type": "stream",
     "text": [
      "0.8346809125036095\n"
     ]
    }
   ],
   "source": [
    "cm = confusion_matrix(y_test, avg.predict(X_test_clean))\n",
    "\n",
    "tp, tn, fp, fn = cm[1][1], cm[0][0], cm[0][1], cm[1][0]\n",
    "tpr = tp / (tp + fn)\n",
    "print(tpr)"
   ]
  },
  {
   "cell_type": "code",
   "execution_count": 178,
   "metadata": {},
   "outputs": [
    {
     "name": "stdout",
     "output_type": "stream",
     "text": [
      "0.22791023842917252\n"
     ]
    }
   ],
   "source": [
    "fpr = fp / (fp + tn)\n",
    "print(fpr)"
   ]
  },
  {
   "cell_type": "code",
   "execution_count": 179,
   "metadata": {},
   "outputs": [
    {
     "data": {
      "text/plain": [
       "0.5483768804433887"
      ]
     },
     "execution_count": 179,
     "metadata": {},
     "output_type": "execute_result"
    }
   ],
   "source": [
    "proba_work = y_test.value_counts()[1] / y_test.value_counts().sum()\n",
    "proba_work"
   ]
  },
  {
   "cell_type": "code",
   "execution_count": 180,
   "metadata": {},
   "outputs": [],
   "source": [
    "W = .55 \n",
    "PW = .7\n",
    "NPW = .3\n",
    "\n",
    "NW = .45\n",
    "PNW = .65\n",
    "NPNW = .35"
   ]
  },
  {
   "cell_type": "code",
   "execution_count": 181,
   "metadata": {},
   "outputs": [
    {
     "data": {
      "text/plain": [
       "0.5682656826568266"
      ]
     },
     "execution_count": 181,
     "metadata": {},
     "output_type": "execute_result"
    }
   ],
   "source": [
    "prob_work_given_permit = (PW * W) / ((W * PW) + (NW * PNW))\n",
    "prob_work_given_permit"
   ]
  },
  {
   "cell_type": "code",
   "execution_count": 182,
   "metadata": {},
   "outputs": [
    {
     "data": {
      "text/plain": [
       "0.4883720930232558"
      ]
     },
     "execution_count": 182,
     "metadata": {},
     "output_type": "execute_result"
    }
   ],
   "source": [
    "prob_no_work_given_no_permit = (NPNW * NW) / ((W * NPW) + (NW * NPNW))\n",
    "prob_no_work_given_no_permit"
   ]
  },
  {
   "cell_type": "code",
   "execution_count": 183,
   "metadata": {},
   "outputs": [
    {
     "data": {
      "text/plain": [
       "0.6865399841646872"
      ]
     },
     "execution_count": 183,
     "metadata": {},
     "output_type": "execute_result"
    }
   ],
   "source": [
    "proba_permit = X_test['permit'].value_counts()[1] / X_test['permit'].value_counts().sum()\n",
    "proba_permit"
   ]
  },
  {
   "cell_type": "code",
   "execution_count": 184,
   "metadata": {},
   "outputs": [
    {
     "data": {
      "text/plain": [
       "True     0.704649\n",
       "False    0.295351\n",
       "Name: permit, dtype: float64"
      ]
     },
     "execution_count": 184,
     "metadata": {},
     "output_type": "execute_result"
    }
   ],
   "source": [
    "proba_df = df2[['permit', 'status_group']].copy()\n",
    "filtered_1 = proba_df.loc[proba_df['status_group'] == 1]\n",
    "filtered_1['permit'].value_counts(normalize=True)"
   ]
  },
  {
   "cell_type": "code",
   "execution_count": 185,
   "metadata": {
    "scrolled": true
   },
   "outputs": [
    {
     "data": {
      "text/plain": [
       "True     0.659797\n",
       "False    0.340203\n",
       "Name: permit, dtype: float64"
      ]
     },
     "execution_count": 185,
     "metadata": {},
     "output_type": "execute_result"
    }
   ],
   "source": [
    "proba_df = df2[['permit', 'status_group']].copy()\n",
    "filtered_2 = proba_df.loc[proba_df['status_group'] == 0]\n",
    "filtered_2['permit'].value_counts(normalize=True)"
   ]
  },
  {
   "cell_type": "markdown",
   "metadata": {},
   "source": [
    "---\n",
    "# Data Cleaning on the True Test Set\n",
    "\n",
    "Below we prepare the data of the true test set exactly the same way as we did when prepairing the training data set eariler."
   ]
  },
  {
   "cell_type": "code",
   "execution_count": 186,
   "metadata": {},
   "outputs": [],
   "source": [
    "df3 = df_test.drop(col_to_delete, axis = 1)"
   ]
  },
  {
   "cell_type": "code",
   "execution_count": 187,
   "metadata": {},
   "outputs": [],
   "source": [
    "df3.drop_duplicates(keep = 'first',inplace = True)\n",
    "df3 = df3.dropna(axis = 0)\n",
    "\n",
    "df3['year_recorded'] = [int(val[0:4]) for val in df3['date_recorded']]\n",
    "df3['year_recorded'].astype(np.int64)\n",
    "df3.drop(['date_recorded'], axis = 'columns', inplace = True)"
   ]
  },
  {
   "cell_type": "code",
   "execution_count": 188,
   "metadata": {},
   "outputs": [],
   "source": [
    "df3['construction_year'] = ['unknown' if val == 0 \n",
    "                           else str((val // 10) * 10) for val in df3['construction_year']]\n",
    "df3['scheme_management'].replace(scheme_management_list, 'Other', inplace=True)\n",
    "df3['installer'] = ['Other' if val not in installer_list \n",
    "                           else val for val in df3['installer']]"
   ]
  },
  {
   "cell_type": "code",
   "execution_count": 189,
   "metadata": {},
   "outputs": [],
   "source": [
    "df3.drop(df3.index[df3['year_recorded'] < 2005], inplace = True)"
   ]
  },
  {
   "cell_type": "code",
   "execution_count": 190,
   "metadata": {},
   "outputs": [],
   "source": [
    "Ftest_cat = df3.select_dtypes('object')\n",
    "Ftest_nums = df3.select_dtypes(['float64', 'int64'])"
   ]
  },
  {
   "cell_type": "code",
   "execution_count": 191,
   "metadata": {},
   "outputs": [],
   "source": [
    "Ftest = pd.concat([num_encoder(Ftest_nums), cat_encoder(Ftest_cat)], axis=1)"
   ]
  },
  {
   "cell_type": "markdown",
   "metadata": {},
   "source": [
    "Now that we have prepared our test data, we use our ensemble model to predict the target for the `Ftest` DataFrame and add it to the DataFrame as a new column,`targets`"
   ]
  },
  {
   "cell_type": "code",
   "execution_count": 192,
   "metadata": {},
   "outputs": [],
   "source": [
    "df3['targets'] = avg.predict(Ftest)"
   ]
  },
  {
   "cell_type": "code",
   "execution_count": 193,
   "metadata": {},
   "outputs": [
    {
     "data": {
      "text/html": [
       "<div>\n",
       "<style scoped>\n",
       "    .dataframe tbody tr th:only-of-type {\n",
       "        vertical-align: middle;\n",
       "    }\n",
       "\n",
       "    .dataframe tbody tr th {\n",
       "        vertical-align: top;\n",
       "    }\n",
       "\n",
       "    .dataframe thead th {\n",
       "        text-align: right;\n",
       "    }\n",
       "</style>\n",
       "<table border=\"1\" class=\"dataframe\">\n",
       "  <thead>\n",
       "    <tr style=\"text-align: right;\">\n",
       "      <th></th>\n",
       "      <th>amount_tsh</th>\n",
       "      <th>gps_height</th>\n",
       "      <th>installer</th>\n",
       "      <th>longitude</th>\n",
       "      <th>latitude</th>\n",
       "      <th>basin</th>\n",
       "      <th>region</th>\n",
       "      <th>population</th>\n",
       "      <th>scheme_management</th>\n",
       "      <th>permit</th>\n",
       "      <th>...</th>\n",
       "      <th>management</th>\n",
       "      <th>management_group</th>\n",
       "      <th>payment_type</th>\n",
       "      <th>water_quality</th>\n",
       "      <th>quantity</th>\n",
       "      <th>source</th>\n",
       "      <th>source_class</th>\n",
       "      <th>waterpoint_type</th>\n",
       "      <th>year_recorded</th>\n",
       "      <th>targets</th>\n",
       "    </tr>\n",
       "  </thead>\n",
       "  <tbody>\n",
       "    <tr>\n",
       "      <th>0</th>\n",
       "      <td>0.0</td>\n",
       "      <td>1996</td>\n",
       "      <td>Other</td>\n",
       "      <td>35.290799</td>\n",
       "      <td>-4.059696</td>\n",
       "      <td>Internal</td>\n",
       "      <td>Manyara</td>\n",
       "      <td>321</td>\n",
       "      <td>Parastatal</td>\n",
       "      <td>True</td>\n",
       "      <td>...</td>\n",
       "      <td>parastatal</td>\n",
       "      <td>parastatal</td>\n",
       "      <td>never pay</td>\n",
       "      <td>soft</td>\n",
       "      <td>seasonal</td>\n",
       "      <td>rainwater harvesting</td>\n",
       "      <td>surface</td>\n",
       "      <td>other</td>\n",
       "      <td>2013</td>\n",
       "      <td>1</td>\n",
       "    </tr>\n",
       "    <tr>\n",
       "      <th>1</th>\n",
       "      <td>0.0</td>\n",
       "      <td>1569</td>\n",
       "      <td>DWE</td>\n",
       "      <td>36.656709</td>\n",
       "      <td>-3.309214</td>\n",
       "      <td>Pangani</td>\n",
       "      <td>Arusha</td>\n",
       "      <td>300</td>\n",
       "      <td>VWC</td>\n",
       "      <td>True</td>\n",
       "      <td>...</td>\n",
       "      <td>vwc</td>\n",
       "      <td>user-group</td>\n",
       "      <td>never pay</td>\n",
       "      <td>soft</td>\n",
       "      <td>insufficient</td>\n",
       "      <td>spring</td>\n",
       "      <td>groundwater</td>\n",
       "      <td>communal standpipe</td>\n",
       "      <td>2013</td>\n",
       "      <td>1</td>\n",
       "    </tr>\n",
       "    <tr>\n",
       "      <th>3</th>\n",
       "      <td>0.0</td>\n",
       "      <td>267</td>\n",
       "      <td>Other</td>\n",
       "      <td>38.058046</td>\n",
       "      <td>-9.418672</td>\n",
       "      <td>Ruvuma / Southern Coast</td>\n",
       "      <td>Lindi</td>\n",
       "      <td>250</td>\n",
       "      <td>VWC</td>\n",
       "      <td>True</td>\n",
       "      <td>...</td>\n",
       "      <td>vwc</td>\n",
       "      <td>user-group</td>\n",
       "      <td>unknown</td>\n",
       "      <td>soft</td>\n",
       "      <td>dry</td>\n",
       "      <td>shallow well</td>\n",
       "      <td>groundwater</td>\n",
       "      <td>other</td>\n",
       "      <td>2013</td>\n",
       "      <td>0</td>\n",
       "    </tr>\n",
       "    <tr>\n",
       "      <th>4</th>\n",
       "      <td>500.0</td>\n",
       "      <td>1260</td>\n",
       "      <td>Other</td>\n",
       "      <td>35.006123</td>\n",
       "      <td>-10.950412</td>\n",
       "      <td>Ruvuma / Southern Coast</td>\n",
       "      <td>Ruvuma</td>\n",
       "      <td>60</td>\n",
       "      <td>Water Board</td>\n",
       "      <td>True</td>\n",
       "      <td>...</td>\n",
       "      <td>water board</td>\n",
       "      <td>user-group</td>\n",
       "      <td>monthly</td>\n",
       "      <td>soft</td>\n",
       "      <td>enough</td>\n",
       "      <td>spring</td>\n",
       "      <td>groundwater</td>\n",
       "      <td>communal standpipe</td>\n",
       "      <td>2013</td>\n",
       "      <td>1</td>\n",
       "    </tr>\n",
       "    <tr>\n",
       "      <th>5</th>\n",
       "      <td>0.0</td>\n",
       "      <td>1685</td>\n",
       "      <td>DWE</td>\n",
       "      <td>36.685279</td>\n",
       "      <td>-3.302420</td>\n",
       "      <td>Pangani</td>\n",
       "      <td>Arusha</td>\n",
       "      <td>200</td>\n",
       "      <td>VWC</td>\n",
       "      <td>True</td>\n",
       "      <td>...</td>\n",
       "      <td>vwc</td>\n",
       "      <td>user-group</td>\n",
       "      <td>never pay</td>\n",
       "      <td>soft</td>\n",
       "      <td>enough</td>\n",
       "      <td>spring</td>\n",
       "      <td>groundwater</td>\n",
       "      <td>communal standpipe</td>\n",
       "      <td>2013</td>\n",
       "      <td>1</td>\n",
       "    </tr>\n",
       "  </tbody>\n",
       "</table>\n",
       "<p>5 rows × 22 columns</p>\n",
       "</div>"
      ],
      "text/plain": [
       "   amount_tsh  gps_height installer  longitude   latitude  \\\n",
       "0         0.0        1996     Other  35.290799  -4.059696   \n",
       "1         0.0        1569       DWE  36.656709  -3.309214   \n",
       "3         0.0         267     Other  38.058046  -9.418672   \n",
       "4       500.0        1260     Other  35.006123 -10.950412   \n",
       "5         0.0        1685       DWE  36.685279  -3.302420   \n",
       "\n",
       "                     basin   region  population scheme_management permit  ...  \\\n",
       "0                 Internal  Manyara         321        Parastatal   True  ...   \n",
       "1                  Pangani   Arusha         300               VWC   True  ...   \n",
       "3  Ruvuma / Southern Coast    Lindi         250               VWC   True  ...   \n",
       "4  Ruvuma / Southern Coast   Ruvuma          60       Water Board   True  ...   \n",
       "5                  Pangani   Arusha         200               VWC   True  ...   \n",
       "\n",
       "    management management_group payment_type water_quality      quantity  \\\n",
       "0   parastatal       parastatal    never pay          soft      seasonal   \n",
       "1          vwc       user-group    never pay          soft  insufficient   \n",
       "3          vwc       user-group      unknown          soft           dry   \n",
       "4  water board       user-group      monthly          soft        enough   \n",
       "5          vwc       user-group    never pay          soft        enough   \n",
       "\n",
       "                 source source_class     waterpoint_type year_recorded targets  \n",
       "0  rainwater harvesting      surface               other          2013       1  \n",
       "1                spring  groundwater  communal standpipe          2013       1  \n",
       "3          shallow well  groundwater               other          2013       0  \n",
       "4                spring  groundwater  communal standpipe          2013       1  \n",
       "5                spring  groundwater  communal standpipe          2013       1  \n",
       "\n",
       "[5 rows x 22 columns]"
      ]
     },
     "execution_count": 193,
     "metadata": {},
     "output_type": "execute_result"
    }
   ],
   "source": [
    "df3.head()"
   ]
  },
  {
   "cell_type": "markdown",
   "metadata": {},
   "source": [
    "Combined 0 and 1"
   ]
  },
  {
   "cell_type": "code",
   "execution_count": 68,
   "metadata": {},
   "outputs": [],
   "source": [
    "# drop_zeros = df3.loc[(df3['longitude'] != 0.0) & (df3['latitude'] != 0.0)]\n",
    "\n",
    "# fig, ax = plt.subplots(figsize=(18,12))\n",
    "\n",
    "# countries = gpd.read_file(gpd.datasets.get_path(\"naturalearth_lowres\"))\n",
    "\n",
    "# drop_zeros\n",
    "# sns.scatterplot(x = drop_zeros['longitude'], y = drop_zeros['latitude'], hue = drop_zeros[\"targets\"], \\\n",
    "#                 palette = [\"red\", \"blue\"], alpha = .5)\n",
    "\n",
    "# ax.grid(b=True, alpha=0.5)\n",
    "\n",
    "# cx.add_basemap(ax, crs=countries.crs.to_string())\n",
    "\n",
    "# ax.set(title='Combined Wells, 0 = Broken, 1 = Working')\n",
    "# plt.legend(title='Wells', loc='upper right', labels=['Need Repair', 'Working'])\n",
    "\n",
    "# plt.show()\n",
    "\n",
    "# fig.savefig(\"combo.png\") # Saving the resulting map as a .png file"
   ]
  },
  {
   "cell_type": "markdown",
   "metadata": {},
   "source": [
    "# Appendix"
   ]
  },
  {
   "cell_type": "markdown",
   "metadata": {},
   "source": [
    "Need Repair"
   ]
  },
  {
   "cell_type": "code",
   "execution_count": 69,
   "metadata": {},
   "outputs": [],
   "source": [
    "# temp_0 = df3.loc[(df3['longitude'] != 0.0) & (df3['latitude'] != 0.0)]\n",
    "\n",
    "\n",
    "# temp_00 = temp_0.loc[(df3['targets'] == 0)]\n",
    "\n",
    "# dropper = temp_00\n",
    "\n",
    "# fig, ax = plt.subplots(figsize=(18,12))\n",
    "\n",
    "# countries = gpd.read_file(gpd.datasets.get_path(\"naturalearth_lowres\"))\n",
    "\n",
    "# sns.scatterplot(x = dropper['longitude'], y = dropper['latitude'], color = \"red\", alpha = .5)\n",
    "\n",
    "# ax.grid(b=True, alpha=0.5)\n",
    "\n",
    "# cx.add_basemap(ax, crs=countries.crs.to_string())\n",
    "# ax.set(title='Need Repair')\n",
    "\n",
    "\n",
    "# plt.show()\n",
    "# fig.savefig(\"need_repair.png\") # Saving the resulting map as a .png file"
   ]
  },
  {
   "cell_type": "markdown",
   "metadata": {},
   "source": [
    "Functional Wells"
   ]
  },
  {
   "cell_type": "code",
   "execution_count": 70,
   "metadata": {},
   "outputs": [],
   "source": [
    "# temp_1 = df3.loc[(df3['longitude'] != 0.0) & (df3['latitude'] != 0.0)]\n",
    "\n",
    "\n",
    "# temp_11 = temp_1.loc[(df3['targets'] == 1)]\n",
    "\n",
    "# dropper_1 = temp_11\n",
    "\n",
    "# fig, ax = plt.subplots(figsize=(18,12))\n",
    "\n",
    "# countries = gpd.read_file(gpd.datasets.get_path(\"naturalearth_lowres\"))\n",
    "\n",
    "\n",
    "# sns.scatterplot(x = dropper_1['longitude'], y = dropper_1['latitude'], color = \"blue\", alpha = .5)\n",
    "\n",
    "# ax.grid(b=True, alpha=0.5)\n",
    "\n",
    "# cx.add_basemap(ax, crs=countries.crs.to_string())\n",
    "\n",
    "# ax.set(title='Functioning Wells')\n",
    "\n",
    "# plt.show()\n",
    "\n",
    " \n",
    "# fig.savefig(\"working.png\") # Saving the resulting map as a .png file"
   ]
  },
  {
   "cell_type": "code",
   "execution_count": null,
   "metadata": {},
   "outputs": [],
   "source": []
  }
 ],
 "metadata": {
  "kernelspec": {
   "display_name": "Python 3",
   "language": "python",
   "name": "python3"
  },
  "language_info": {
   "codemirror_mode": {
    "name": "ipython",
    "version": 3
   },
   "file_extension": ".py",
   "mimetype": "text/x-python",
   "name": "python",
   "nbconvert_exporter": "python",
   "pygments_lexer": "ipython3",
   "version": "3.8.5"
  }
 },
 "nbformat": 4,
 "nbformat_minor": 5
}
