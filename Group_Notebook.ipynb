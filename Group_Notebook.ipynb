{
 "cells": [
  {
   "cell_type": "markdown",
   "metadata": {},
   "source": [
    "_______________________________________"
   ]
  },
  {
   "cell_type": "markdown",
   "metadata": {},
   "source": [
    "# **Tanzania Ministry of Water** - Water Well Functionality  \n",
    "### Flatiron School Phase 3 Project  \n",
    "Analysis by Jun(Andrew) Choi, Dara Estrada, Nicholas Wertz"
   ]
  },
  {
   "cell_type": "markdown",
   "metadata": {},
   "source": [
    "---\n",
    "## Contents\n",
    "\n",
    "#### 1. Business Understanding\n",
    "#### 2. EDA & Data Cleaning\n",
    "#### 3. Modeling\n",
    "#### 4. Evaluation\n",
    "#### 5. Conclusion\n",
    "#### 6. Apendix\n",
    "----"
   ]
  },
  {
   "cell_type": "markdown",
   "metadata": {},
   "source": [
    "# 1. Business Understanding"
   ]
  },
  {
   "cell_type": "markdown",
   "metadata": {},
   "source": [
    "There are two facts about Tanzania we want to address/emphasize/share\n",
    "\n",
    "- Three out of ten people do not have access to basic drinking water.\n",
    "- Four million people lack access to an improved source of safe water.\n",
    "\n",
    "The Tanzanian Ministry of Water has tasked our team with how to identify which wells have a proclivity to be classified as working\n",
    "There are _______ water wells out of a total of _______ in the country that have been recorded as functional.\n",
    "The purpose of this _________ is to find the best machine learning model to accurately predict which wells are in working order.\n",
    "\n",
    "to correctly predict/identify which water wells are correctly classified as functioning.\n",
    "\n",
    "The Tanzanian Ministry of Water is working to identify the functionality of water wells throuout the country. We have been hired to create a predictive model that can identify wells that are functioning and wells in need of repair from basic information of each well. \n",
    "\n",
    "\n",
    "Our team got our data sets from DrivenData who did collection and some initial cleaning on information from the Tanzania Ministry of Water and Taarifa, a Rwandan news provider. This initial data included a training data set and  each of these wells' functional status. \n",
    "\n",
    "\n",
    "We continued with addtional cleaning ourselves, changing the three initial well status targets into a binary target of wells that are completely functional and wells in need of repair. This weighs wells that are completely broken equally with wells that are technically fucntional, but are unreliable or have contaminated water due malfunction. \n",
    "#### This was done as we believe every Tanzanian community should have reliable access to clean water from their local well.\n",
    "\n",
    "The cleaned training data was combined with the taget data and split into a 75% train/25% testing set for us to train and evaluate the effectiveness of our models before we attempted to use them on our true testing data, a similar list of wells with no functional staus provided.\n",
    " \n",
    " \n",
    "#### We primarily focused on the precision of our model due to its focus on False Positives. \n",
    "As our bianary target was split into wells needing repair(0) and functional wells (1), a false positive would mean marking a well as functioning when it is not. Every false positive means a community is not labeled as in need of aid. This can lead to a community to take drastic measures such as relocating to regain reliable access to water or risk dying of thirst. This is why identifying false positives is so important and is why we decided on precision as our evaluation metric \n"
   ]
  },
  {
   "cell_type": "markdown",
   "metadata": {},
   "source": [
    "## Importing the packages/libraries and our datasets"
   ]
  },
  {
   "cell_type": "code",
   "execution_count": 1,
   "metadata": {},
   "outputs": [],
   "source": [
    "# Import required packages\n",
    "import numpy as np\n",
    "\n",
    "import pandas as pd\n",
    "\n",
    "import matplotlib.pyplot as plt\n",
    "\n",
    "import seaborn as sns\n",
    "# import geopandas as gpd     #These two lines have been commented out as we had issues installing\n",
    "# import contextily as cx     #these libraries on certain computers\n",
    "\n",
    "from sklearn.tree import DecisionTreeClassifier\n",
    "from sklearn.linear_model import LogisticRegression\n",
    "from sklearn.dummy import DummyClassifier\n",
    "from sklearn.pipeline import Pipeline\n",
    "from sklearn.neighbors import KNeighborsClassifier\n",
    "from sklearn.ensemble import ExtraTreesClassifier\n",
    "from sklearn.ensemble import BaggingClassifier, RandomForestClassifier,\\\n",
    "ExtraTreesClassifier, VotingClassifier, StackingRegressor\n",
    "\n",
    "from sklearn.compose import ColumnTransformer\n",
    "from sklearn.model_selection import train_test_split, cross_val_score, cross_validate, GridSearchCV\n",
    "from sklearn.preprocessing import StandardScaler, OneHotEncoder, FunctionTransformer\n",
    "from sklearn.metrics import confusion_matrix, plot_confusion_matrix,\\\n",
    "    precision_score, accuracy_score, log_loss, make_scorer\n"
   ]
  },
  {
   "cell_type": "code",
   "execution_count": 2,
   "metadata": {},
   "outputs": [],
   "source": [
    "df_test = pd.read_csv('data/test_set_values.csv')\n",
    "df_train = pd.read_csv('data/training_set_values.csv')\n",
    "df_train_label = pd.read_csv('data/training_set_labels.csv')"
   ]
  },
  {
   "cell_type": "code",
   "execution_count": 3,
   "metadata": {},
   "outputs": [],
   "source": [
    "# Reassigning targets to establish bionomial targets\n",
    "target = df_train_label.replace({'status_group': {'functional' : 1, \n",
    "                                'non functional' : 0, \n",
    "                                'functional needs repair' : 0}})\n",
    "df = pd.concat([df_train, target], axis = 1)"
   ]
  },
  {
   "cell_type": "markdown",
   "metadata": {},
   "source": [
    "---\n",
    "# 2. EDA and Datacleaning\n",
    "---\n"
   ]
  },
  {
   "cell_type": "markdown",
   "metadata": {},
   "source": [
    "## Eliminating features that we found to be redudant or unuseable for our models. \n",
    "\n",
    "Many of the features had the same information provided by similar features in the dataset so we trimmed them. In addition to this some features like 'num_private' had no feature descriptions explaining what it was so we could not utilize it."
   ]
  },
  {
   "cell_type": "code",
   "execution_count": 4,
   "metadata": {},
   "outputs": [],
   "source": [
    "# Removing columns that are non-factors for our model\n",
    "col_to_delete = ['id', 'recorded_by', 'funder', 'public_meeting',\n",
    "                'lga', 'ward', 'region_code', 'district_code', \n",
    "                 'wpt_name','scheme_name', 'extraction_type', 'extraction_type_group',\n",
    "                 'payment', 'quality_group', 'source_type', 'quantity_group',\n",
    "                 'waterpoint_type_group', 'subvillage', 'num_private']"
   ]
  },
  {
   "cell_type": "markdown",
   "metadata": {},
   "source": [
    "We created a new feature 'year_recorded' to capture only the year that the data was recorded to transform the 'date_recorded'. This was because we believed that this may have been important to keep in our data, but keeping it in its original state may have cause our model to be too complex with the sheer number of unique values."
   ]
  },
  {
   "cell_type": "markdown",
   "metadata": {},
   "source": [
    "We applied the same thought processes to the following features. In addition we dropped any data that was entered before 2005 as it only comprised 0.06% of our data and created additional problems when attempting to train test split our data."
   ]
  },
  {
   "cell_type": "code",
   "execution_count": 5,
   "metadata": {},
   "outputs": [],
   "source": [
    "def data_cleaning(df_to_clean):\n",
    "    # Removing columns that are non-factors for our model\n",
    "    col_to_delete = ['id', 'recorded_by', 'funder', 'public_meeting',\n",
    "                'lga', 'ward', 'region_code', 'district_code', \n",
    "                 'wpt_name','scheme_name', 'extraction_type', 'extraction_type_group',\n",
    "                 'payment', 'quality_group', 'source_type', 'quantity_group',\n",
    "                 'waterpoint_type_group', 'subvillage', 'num_private']\n",
    "    \n",
    "    # Remove duplicated data entries and null values\n",
    "    dfn = df_to_clean.drop(col_to_delete, axis = 1)\n",
    "    dfn = dfn.dropna(axis = 0) \n",
    "    \n",
    "    # Pulling the year off and type casting to int\n",
    "    dfn['year_recorded'] = [int(val[0:4]) for val in dfn['date_recorded']]\n",
    "    dfn['year_recorded'].astype(np.int64)\n",
    "    dfn.drop(['date_recorded'], axis = 'columns', inplace = True)\n",
    "    \n",
    "    # Binning the years into decades\n",
    "    dfn['construction_year'] = ['unknown' if val == 0 \n",
    "                           else str((val // 10) * 10) for val in dfn['construction_year']]\n",
    "    \n",
    "    # Binning the unique values\n",
    "    scheme_management_list = ['SWC', 'Trust', 'None']\n",
    "    dfn['scheme_management'].replace(scheme_management_list, 'Other', inplace = True)\n",
    "    \n",
    "    # Binning unique values\n",
    "    installer_list = ['DWE', 'Government', 'Commu', 'DANIDA', \n",
    "                  'RWE', 'KKKT', 'TCRS']\n",
    "    dfn['installer'] = ['Other' if val not in installer_list \n",
    "                           else val for val in dfn['installer']]\n",
    "\n",
    "    dfn.drop(dfn.index[dfn['year_recorded'] < 2005], inplace=True)\n",
    "    dfn.reset_index(inplace=True, drop=True)\n",
    "    return dfn"
   ]
  },
  {
   "cell_type": "markdown",
   "metadata": {},
   "source": [
    "---\n",
    "# 3. Modeling\n",
    "---\n"
   ]
  },
  {
   "cell_type": "markdown",
   "metadata": {},
   "source": [
    "Designing functions for :\n",
    "- One Hot Encoding and Scaling our data\n",
    "- Creating a dataframe with scaled numerics and one hot encoded categoricals\n",
    "- Printing the accuracy, precision score as well as a confusion matrix for the model"
   ]
  },
  {
   "cell_type": "code",
   "execution_count": 6,
   "metadata": {},
   "outputs": [],
   "source": [
    "def num_encoder(df_to_encode):\n",
    "    ss = StandardScaler()\n",
    "\n",
    "    ss.fit(df_to_encode)\n",
    "    nums_df = pd.DataFrame(ss.transform(df_to_encode),\n",
    "                           columns = df_to_encode.columns,\n",
    "                          index = df_to_encode.index)\n",
    "    return nums_df\n",
    "\n",
    "def cat_encoder(df_to_encode):\n",
    "    ohe = OneHotEncoder(\n",
    "        drop = 'first',\n",
    "        sparse = False)\n",
    "    \n",
    "    dums = ohe.fit_transform(df_to_encode)\n",
    "    dums_df = pd.DataFrame(dums,\n",
    "                            columns = ohe.get_feature_names(),\n",
    "                            index = df_to_encode.index)\n",
    "    return dums_df"
   ]
  },
  {
   "cell_type": "code",
   "execution_count": 7,
   "metadata": {},
   "outputs": [],
   "source": [
    "def split_join(split):\n",
    "    categories = split.select_dtypes('object')\n",
    "    numerics = split.select_dtypes(['float64', 'int64'])\n",
    "\n",
    "    joined = pd.concat([num_encoder(numerics), cat_encoder(categories)], axis = 1)\n",
    "    return joined"
   ]
  },
  {
   "cell_type": "code",
   "execution_count": 8,
   "metadata": {},
   "outputs": [],
   "source": [
    "def score_maxtrix_printer(model, X_train, y_train, X_test, y_test):\n",
    "    \n",
    "    train_pred = model.predict(X_train)\n",
    "    test_pred = model.predict(X_test)\n",
    "    \n",
    "    ascore_train = accuracy_score(y_train, train_pred)\n",
    "    pscore_train = precision_score(y_train, train_pred)\n",
    "    \n",
    "    ascore_test = accuracy_score(y_test, test_pred)\n",
    "    pscore_test = precision_score(y_test, test_pred)\n",
    "    \n",
    "    conf_mat = plot_confusion_matrix(model, X_test, y_test)\n",
    "    \n",
    "    print(f\"\"\"\n",
    "    Train Accuracy: {ascore_train}\n",
    "    Train Precision: {pscore_train}\n",
    "    Test Accuracy: {ascore_test}\n",
    "    Test Precision: {pscore_test}\n",
    "    \"\"\")\n"
   ]
  },
  {
   "cell_type": "markdown",
   "metadata": {},
   "source": [
    "---\n",
    "## Establishing the Dummy Model"
   ]
  },
  {
   "cell_type": "code",
   "execution_count": 9,
   "metadata": {},
   "outputs": [],
   "source": [
    "df2 = data_cleaning(df)"
   ]
  },
  {
   "cell_type": "code",
   "execution_count": 10,
   "metadata": {},
   "outputs": [],
   "source": [
    "y = df2.status_group\n",
    "X = df2.drop('status_group', axis = 1)\n",
    "\n",
    "X_train, X_test, y_train, y_test = train_test_split(X, y, \n",
    "                                                    test_size = 0.25, random_state = 69)"
   ]
  },
  {
   "cell_type": "code",
   "execution_count": 11,
   "metadata": {},
   "outputs": [
    {
     "data": {
      "text/plain": [
       "0.546180041072032"
      ]
     },
     "execution_count": 11,
     "metadata": {},
     "output_type": "execute_result"
    }
   ],
   "source": [
    "X_train_cat = X_train.select_dtypes('object')\n",
    "X_train_nums = X_train.select_dtypes(['float64', 'int64'])\n",
    "\n",
    "cont_pipeline = Pipeline(steps=[\n",
    "    ('ss', StandardScaler())\n",
    "])\n",
    "\n",
    "cat_pipeline = Pipeline(steps=[\n",
    "    ('ohe', OneHotEncoder(drop = 'first'))\n",
    "])\n",
    "\n",
    "trans = ColumnTransformer(transformers=[\n",
    "    ('continuous', cont_pipeline, X_train_nums.columns),\n",
    "    ('categorical', cat_pipeline, X_train_cat.columns)\n",
    "])\n",
    "\n",
    "dummy = Pipeline(steps=[\n",
    "    ('trans', trans),\n",
    "    ('dummy', DummyClassifier(random_state = 69, strategy = 'most_frequent'))\n",
    "])\n",
    "\n",
    "#Fitting and checking the score\n",
    "dummy.fit(X_train, y_train)\n",
    "dummy.score(X_train, y_train)"
   ]
  },
  {
   "cell_type": "markdown",
   "metadata": {},
   "source": [
    "Our dummy model predictably produces a score of 54% because it is based on the majority target."
   ]
  },
  {
   "cell_type": "markdown",
   "metadata": {},
   "source": [
    "---\n",
    "## Model 1 (Decision Tree Classifier)\n",
    "\n",
    "We decided to use a decision tree as our first model for feature selection. For the first iteration we did not specify any hyper-parameters except for the random state."
   ]
  },
  {
   "cell_type": "code",
   "execution_count": 12,
   "metadata": {},
   "outputs": [],
   "source": [
    "X_train_clean = split_join(X_train)\n",
    "X_test_clean = split_join(X_test)"
   ]
  },
  {
   "cell_type": "code",
   "execution_count": 13,
   "metadata": {},
   "outputs": [
    {
     "name": "stdout",
     "output_type": "stream",
     "text": [
      "\n",
      "    Train Accuracy: 0.9955028724427462\n",
      "    Train Precision: 0.996568487274807\n",
      "    Test Accuracy: 0.7287117903930131\n",
      "    Test Precision: 0.7751388032078964\n",
      "    \n"
     ]
    },
    {
     "data": {
      "image/png": "[encoded data removed]",
      "text/plain": [
       "<Figure size 432x288 with 2 Axes>"
      ]
     },
     "metadata": {
      "needs_background": "light"
     },
     "output_type": "display_data"
    }
   ],
   "source": [
    "decision_tree = DecisionTreeClassifier(random_state = 69)\n",
    "decision_tree.fit(X_train_clean, y_train)\n",
    "\n",
    "score_maxtrix_printer(decision_tree, X_train_clean, y_train, X_test_clean, y_test)"
   ]
  },
  {
   "cell_type": "markdown",
   "metadata": {},
   "source": [
    "Unsurprisingly the model is severly overfit with an accuracy score of 99% and precision score of 99% on the training set in comparison to the accuracy score of 70% and precision score of 74% on our testing set."
   ]
  },
  {
   "cell_type": "markdown",
   "metadata": {},
   "source": [
    "---\n",
    "## Grid Search for Model 2 Optimal Parameters\n",
    "\n",
    "We utilized Grid Search to find the optimal hyper-parameters for our Decision Tree model."
   ]
  },
  {
   "cell_type": "code",
   "execution_count": 14,
   "metadata": {},
   "outputs": [
    {
     "data": {
      "text/plain": [
       "DecisionTreeClassifier()"
      ]
     },
     "execution_count": 14,
     "metadata": {},
     "output_type": "execute_result"
    }
   ],
   "source": [
    "decision_tree = DecisionTreeClassifier()\n",
    "decision_tree.fit(X_train_clean, y_train)"
   ]
  },
  {
   "cell_type": "code",
   "execution_count": 15,
   "metadata": {},
   "outputs": [],
   "source": [
    "param_dict = {\n",
    "    \"criterion\":['gini', 'entropy'],\n",
    "    \"max_depth\":[1, 10, 25, 50],\n",
    "    \"min_samples_split\":range(1, 10),\n",
    "    \"min_samples_leaf\":range(1, 10)\n",
    "}"
   ]
  },
  {
   "cell_type": "code",
   "execution_count": 16,
   "metadata": {},
   "outputs": [],
   "source": [
    "# tw = GridSearchCV(estimator=decision_tree,\n",
    "#                  param_grid=param_dict,\n",
    "#                  cv=5,\n",
    "#                  verbose=1,\n",
    "#                  n_jobs=-1)\n",
    "# tw.fit(X_train_clean, y_train)"
   ]
  },
  {
   "cell_type": "code",
   "execution_count": 17,
   "metadata": {},
   "outputs": [],
   "source": [
    "# print(tw.best_params_)\n",
    "# print(tw.best_estimator_)\n",
    "# print(tw.best_score_)"
   ]
  },
  {
   "cell_type": "markdown",
   "metadata": {},
   "source": [
    "Here we found that the best parameters for our Decision Tree model are <br>`criterion = 'gini', max_depth = 25, min_samples_leaf = 7`"
   ]
  },
  {
   "cell_type": "markdown",
   "metadata": {},
   "source": [
    "Kept getting different `min_samples_split` value without results changing so it seems `criterion`, `max_depth`, & and `min_samples_leaf` give us a consistent enough result that `min_samples_split` does not need to be manipulated by us."
   ]
  },
  {
   "cell_type": "markdown",
   "metadata": {},
   "source": [
    "---\n",
    "## Model 2 (Decision Tree) with Optimized Parameters"
   ]
  },
  {
   "cell_type": "code",
   "execution_count": 18,
   "metadata": {},
   "outputs": [
    {
     "name": "stdout",
     "output_type": "stream",
     "text": [
      "\n",
      "    Train Accuracy: 0.8749382619771764\n",
      "    Train Precision: 0.8799249530956847\n",
      "    Test Accuracy: 0.7585776668746101\n",
      "    Test Precision: 0.7886891714160456\n",
      "    \n"
     ]
    },
    {
     "data": {
      "image/png": "[encoded data removed]",
      "text/plain": [
       "<Figure size 432x288 with 2 Axes>"
      ]
     },
     "metadata": {
      "needs_background": "light"
     },
     "output_type": "display_data"
    }
   ],
   "source": [
    "decision_tree_better = DecisionTreeClassifier(random_state = 69, criterion = 'gini', \n",
    "                                              max_depth = 25, min_samples_leaf = 7)\n",
    "decision_tree_better.fit(X_train_clean, y_train)\n",
    "\n",
    "score_maxtrix_printer(decision_tree_better, X_train_clean, y_train, X_test_clean, y_test)"
   ]
  },
  {
   "cell_type": "markdown",
   "metadata": {},
   "source": [
    "With our optimized parameters, this decision tree performed much better than our first attempt, with new training  accuracy and precion scores of nearly 88% and a test accuracy and precion scores of 74%."
   ]
  },
  {
   "cell_type": "markdown",
   "metadata": {},
   "source": [
    "---\n",
    "## Feature Importance & Model 3 (Logisitc Regression) Using Top Predictors\n",
    "\n",
    "Next, we used the `ExtraTreesClassifier()` to identify the features with the highest importance."
   ]
  },
  {
   "cell_type": "code",
   "execution_count": 19,
   "metadata": {},
   "outputs": [
    {
     "name": "stdout",
     "output_type": "stream",
     "text": [
      "[1.53980703e-02 7.06818262e-02 1.37624020e-01 1.36030000e-01\n",
      " 4.70170362e-02 1.01638099e-02 1.48652728e-03 1.04173191e-02\n",
      " 5.35186874e-03 7.93874622e-04 1.14132393e-02 3.33126952e-03\n",
      " 1.13435311e-03 5.48979928e-03 3.78295705e-03 4.52871934e-03\n",
      " 4.69525551e-03 5.81092931e-03 4.55708559e-03 3.85212482e-03\n",
      " 4.68392103e-03 8.46291103e-04 2.40021907e-03 1.09967141e-02\n",
      " 2.47109325e-03 3.08348346e-03 3.66795074e-03 1.64958314e-03\n",
      " 2.77025985e-03 2.21437142e-03 2.53542473e-03 2.23587748e-03\n",
      " 2.10832973e-03 2.66959483e-03 2.99580967e-03 2.32453339e-03\n",
      " 2.35129786e-03 2.16032504e-03 1.48507243e-03 1.72731633e-03\n",
      " 2.74050368e-03 1.37760308e-03 1.38497864e-03 1.43553536e-03\n",
      " 6.73276494e-03 1.93770708e-03 2.63080943e-03 4.30625050e-03\n",
      " 3.68588814e-03 1.40097427e-02 9.40404255e-03 6.74908514e-03\n",
      " 7.11244151e-03 1.22623932e-02 1.19142041e-02 6.36377232e-03\n",
      " 1.16521667e-02 3.94360202e-03 3.17923717e-02 9.27497177e-04\n",
      " 7.82720849e-03 5.07840391e-04 8.50363548e-04 1.90991846e-04\n",
      " 1.38319521e-03 2.73596576e-03 2.54982065e-04 3.05506122e-04\n",
      " 7.89401122e-03 1.20236011e-03 2.96890140e-03 1.56848203e-03\n",
      " 3.08413621e-03 9.46676635e-04 1.30802440e-03 2.96460216e-04\n",
      " 4.43703719e-03 6.58030419e-03 2.03630486e-02 4.54518017e-03\n",
      " 1.67974919e-03 1.02491923e-02 8.08087697e-03 7.29664191e-04\n",
      " 5.78915841e-05 1.17043491e-03 5.60263622e-03 1.37896014e-03\n",
      " 8.47044644e-03 4.67835328e-03 5.47820139e-02 2.74635853e-02\n",
      " 1.37192173e-02 1.65952545e-03 1.52382489e-03 1.71667384e-03\n",
      " 8.08173414e-03 5.46590972e-04 3.72083118e-03 4.72008869e-03\n",
      " 7.92454017e-03 8.30638116e-03 1.34474354e-04 6.28787826e-03\n",
      " 7.01479532e-04 1.43135338e-02 1.22584661e-02 2.96967945e-05\n",
      " 6.58247665e-03 2.56357509e-03 2.83136180e-02]\n"
     ]
    },
    {
     "data": {
      "image/png": "[encoded data removed]",
      "text/plain": [
       "<Figure size 432x288 with 1 Axes>"
      ]
     },
     "metadata": {
      "needs_background": "light"
     },
     "output_type": "display_data"
    }
   ],
   "source": [
    "model = ExtraTreesClassifier()\n",
    "model.fit(X_train_clean, y_train)\n",
    "\n",
    "print(model.feature_importances_) #use inbuilt class feature_importances of tree based classifiers\n",
    "\n",
    "#plot graph of feature importances for better visualization\n",
    "feat_importances = pd.Series(model.feature_importances_, index = X_train_clean.columns)\n",
    "feat_importances.nlargest(10).plot(kind = 'barh')\n",
    "plt.show()"
   ]
  },
  {
   "cell_type": "code",
   "execution_count": 20,
   "metadata": {},
   "outputs": [],
   "source": [
    "importance_col = ['longitude', 'latitude', 'gps_height', 'quantity', \n",
    "                  'status_group', 'population', 'waterpoint_type', \n",
    "                 'extraction_type_class', 'payment_type', 'amount_tsh']\n",
    "df_importance = df2[importance_col]"
   ]
  },
  {
   "cell_type": "markdown",
   "metadata": {},
   "source": [
    "---\n",
    " We then used our top 10 most important features to predict our model using logistic regression."
   ]
  },
  {
   "cell_type": "code",
   "execution_count": 21,
   "metadata": {},
   "outputs": [],
   "source": [
    "y_Ext = df_importance.status_group\n",
    "X_Ext = df_importance.drop('status_group', axis = 1)\n",
    "\n",
    "X_train_Ext, X_test_Ext, y_train_Ext, y_test_Ext = train_test_split(X_Ext, y_Ext, \n",
    "                                                        test_size = 0.25, random_state = 69)"
   ]
  },
  {
   "cell_type": "code",
   "execution_count": 22,
   "metadata": {},
   "outputs": [],
   "source": [
    "X_train_clean_Ext = split_join(X_train_Ext)\n",
    "X_test_clean_Ext = split_join(X_test_Ext)"
   ]
  },
  {
   "cell_type": "code",
   "execution_count": 23,
   "metadata": {},
   "outputs": [
    {
     "name": "stdout",
     "output_type": "stream",
     "text": [
      "\n",
      "    Train Accuracy: 0.7301983415217448\n",
      "    Train Precision: 0.6905649555491826\n",
      "    Test Accuracy: 0.7339363693075484\n",
      "    Test Precision: 0.6994841400504884\n",
      "    \n"
     ]
    },
    {
     "data": {
      "image/png": "[encoded data removed]",
      "text/plain": [
       "<Figure size 432x288 with 2 Axes>"
      ]
     },
     "metadata": {
      "needs_background": "light"
     },
     "output_type": "display_data"
    }
   ],
   "source": [
    "logreg_clf_Ext = LogisticRegression(random_state = 69, max_iter = 1000)\n",
    "logreg_model_Ext = logreg_clf_Ext.fit(X_train_clean_Ext, y_train_Ext)\n",
    "\n",
    "score_maxtrix_printer(logreg_model_Ext, X_train_clean_Ext, y_train_Ext, X_test_clean_Ext, y_test_Ext)"
   ]
  },
  {
   "cell_type": "markdown",
   "metadata": {},
   "source": [
    "So the top 10 predictors we recived from our `ExtraTreesClassifier()` had a 73% accuracy score and 69% precision score of our test data when using a `LogisticRegression()`. Next, we ran a new Logisitc Regression model which utilized all predictor columns available."
   ]
  },
  {
   "cell_type": "markdown",
   "metadata": {},
   "source": [
    "---\n",
    "## Model 4 (Logistic Regression) Utilizing All Predictors"
   ]
  },
  {
   "cell_type": "code",
   "execution_count": 24,
   "metadata": {},
   "outputs": [
    {
     "name": "stdout",
     "output_type": "stream",
     "text": [
      "\n",
      "    Train Accuracy: 0.760846395799215\n",
      "    Train Precision: 0.7430346927857113\n",
      "    Test Accuracy: 0.7614628820960698\n",
      "    Test Precision: 0.7472718253968254\n",
      "    \n"
     ]
    },
    {
     "data": {
      "image/png": "[encoded data removed]",
      "text/plain": [
       "<Figure size 432x288 with 2 Axes>"
      ]
     },
     "metadata": {
      "needs_background": "light"
     },
     "output_type": "display_data"
    }
   ],
   "source": [
    "logreg_clf = LogisticRegression(random_state = 69, max_iter = 1000)\n",
    "logreg_model = logreg_clf.fit(X_train_clean, y_train)\n",
    "\n",
    "score_maxtrix_printer(logreg_model, X_train_clean, y_train, X_test_clean, y_test)"
   ]
  },
  {
   "cell_type": "markdown",
   "metadata": {},
   "source": [
    "With all predictors, both our training and testing sets' metrics improved. Accuracy had gone up to 76% and precision reached 74%.\n"
   ]
  },
  {
   "cell_type": "markdown",
   "metadata": {},
   "source": [
    "---\n",
    "## Grid Search for Model 5 Optimal Parameters\n",
    "\n",
    "For our final indivdual model, we again utilized Grid Search to find the optimal hyper-parameters for a kNN model.\n"
   ]
  },
  {
   "cell_type": "code",
   "execution_count": 25,
   "metadata": {},
   "outputs": [],
   "source": [
    "knn_model = KNeighborsClassifier()\n",
    "knn_model.fit(X_train_clean, y_train)\n",
    "grid = {\n",
    "    'n_neighbors': range(1, 15),\n",
    "    'metric': ['manhattan', 'minkowski'],\n",
    "    'weights' : ['distance', 'uniform']\n",
    "}"
   ]
  },
  {
   "cell_type": "code",
   "execution_count": 26,
   "metadata": {},
   "outputs": [],
   "source": [
    "# gs = GridSearchCV(estimator = knn_model, param_grid = grid, cv = 5, verbose = 1, n_jobs = -1)\n",
    "# gs.fit(X_train_clean, y_train)"
   ]
  },
  {
   "cell_type": "code",
   "execution_count": 27,
   "metadata": {},
   "outputs": [],
   "source": [
    "# gs.best_params_"
   ]
  },
  {
   "cell_type": "markdown",
   "metadata": {},
   "source": [
    "Here we found that the best parameters for our kNN model are <br>  `n_neighbors = 14, metric = 'manhattan', weights = 'distance'`"
   ]
  },
  {
   "cell_type": "markdown",
   "metadata": {},
   "source": [
    "---\n",
    "## Model 5 (K Nearest Neighbors) with Optimized Parameters\n",
    "\n",
    "We next ran a new `KNeighborsClassifier()` model with our optimal hyperparameters to see what metric results we would get for our training and testing sets."
   ]
  },
  {
   "cell_type": "code",
   "execution_count": 28,
   "metadata": {},
   "outputs": [
    {
     "name": "stdout",
     "output_type": "stream",
     "text": [
      "\n",
      "    Train Accuracy: 0.9955028724427462\n",
      "    Train Precision: 0.996568487274807\n",
      "    Test Accuracy: 0.799516531503431\n",
      "    Test Precision: 0.7991978609625668\n",
      "    \n"
     ]
    },
    {
     "data": {
      "image/png": "[encoded data removed]",
      "text/plain": [
       "<Figure size 432x288 with 2 Axes>"
      ]
     },
     "metadata": {
      "needs_background": "light"
     },
     "output_type": "display_data"
    }
   ],
   "source": [
    "knn_better = KNeighborsClassifier(14, metric = \"manhattan\", weights = 'distance') \n",
    "knn_better.fit(X_train_clean, y_train)\n",
    "\n",
    "score_maxtrix_printer(knn_better, X_train_clean, y_train, X_test_clean, y_test)"
   ]
  },
  {
   "cell_type": "markdown",
   "metadata": {},
   "source": [
    "While our kNN model overfit on our training data, our testing data metrics were the best so far  us our best testing results so far, with an accuracy score and a precison score of 80%."
   ]
  },
  {
   "cell_type": "markdown",
   "metadata": {},
   "source": [
    "---\n",
    "## Final Model with an Ensemble Model\n",
    "\n",
    "We decided to use `VotingClassifier()` to combine our models together to get optimal performance. We chose to give our optimized kNN model the most weight (50%), as it performed the best in both accuracy and precision on testing data. We split the remaining weight percentage equally between our optimized decision tree model and logisitc regression model (25% each)."
   ]
  },
  {
   "cell_type": "code",
   "execution_count": 29,
   "metadata": {},
   "outputs": [
    {
     "data": {
      "text/plain": [
       "VotingClassifier(estimators=[('lr',\n",
       "                              LogisticRegression(max_iter=1000,\n",
       "                                                 random_state=69)),\n",
       "                             ('dt',\n",
       "                              DecisionTreeClassifier(max_depth=25,\n",
       "                                                     min_samples_leaf=7,\n",
       "                                                     random_state=69)),\n",
       "                             ('knn',\n",
       "                              KNeighborsClassifier(metric='manhattan',\n",
       "                                                   n_neighbors=14,\n",
       "                                                   weights='distance'))],\n",
       "                 weights=[0.25, 0.25, 0.5])"
      ]
     },
     "execution_count": 29,
     "metadata": {},
     "output_type": "execute_result"
    }
   ],
   "source": [
    "avg = VotingClassifier(estimators=[ ('lr', logreg_model),\n",
    "                                    ('dt', decision_tree_better),\n",
    "                                    ('knn', knn_better)],\n",
    "                                     weights = [0.25, 0.25, 0.5])\n",
    "avg.fit(X_train_clean, y_train)"
   ]
  },
  {
   "cell_type": "code",
   "execution_count": 30,
   "metadata": {},
   "outputs": [
    {
     "name": "stdout",
     "output_type": "stream",
     "text": [
      "\n",
      "    Ensemble CV Score: 0.8042630621263323\n",
      "    Final Test Accuracy: 0.8018558951965066\n",
      "    Final Test Precision: 0.8198466780238501\n",
      "\n"
     ]
    },
    {
     "data": {
      "image/png": "[encoded data removed]",
      "text/plain": [
       "<Figure size 432x288 with 2 Axes>"
      ]
     },
     "metadata": {
      "needs_background": "light"
     },
     "output_type": "display_data"
    }
   ],
   "source": [
    "#This block may take a minute because it is run on the ensemble\n",
    "scores = cross_val_score(estimator = avg, X = X_train_clean, y = y_train, cv = 5)\n",
    "\n",
    "print(f\"\"\"\n",
    "    Ensemble CV Score: {np.median(scores)}\n",
    "    Final Test Accuracy: {accuracy_score(y_test, avg.predict(X_test_clean))}\n",
    "    Final Test Precision: {precision_score(y_test, avg.predict(X_test_clean))}\n",
    "\"\"\")\n",
    "plot_confusion_matrix(avg, X_test_clean, y_test);"
   ]
  },
  {
   "cell_type": "markdown",
   "metadata": {},
   "source": [
    "Our ensemble model outperformed our earlier models. \n",
    "#### On our testing set we achieved a fantastic 81% accuracy score and 82% precision score!"
   ]
  },
  {
   "cell_type": "markdown",
   "metadata": {},
   "source": [
    "---"
   ]
  },
  {
   "cell_type": "markdown",
   "metadata": {},
   "source": [
    "Taking a look at our TPR and FPR we can see that our model is very good at properly identifying true positives while have a good false positive rate as well."
   ]
  },
  {
   "cell_type": "code",
   "execution_count": 31,
   "metadata": {},
   "outputs": [
    {
     "name": "stdout",
     "output_type": "stream",
     "text": [
      "\n",
      "    True Positive Rate: 0.8194976585781183\n",
      "    False Positive Rate: 0.21966418556344122\n",
      "\n"
     ]
    }
   ],
   "source": [
    "cm = confusion_matrix(y_test, avg.predict(X_test_clean))\n",
    "\n",
    "tp, tn, fp, fn = cm[1][1], cm[0][0], cm[0][1], cm[1][0]\n",
    "tpr = tp / (tp + fn)\n",
    "fpr = fp / (fp + tn)\n",
    "\n",
    "print(f\"\"\"\n",
    "    True Positive Rate: {tpr}\n",
    "    False Positive Rate: {fpr}\n",
    "\"\"\")"
   ]
  },
  {
   "cell_type": "markdown",
   "metadata": {},
   "source": [
    "---\n",
    "## Data Cleaning on the True Test Data\n",
    "\n",
    "Below we prepared the data of the true test set exactly the same way as we did when prepairing the training data set eariler. Due to this being the true testing data, there were no target values provided to compare our final predictions with (meaning we were unable to calculate our accuracy and precision scores)."
   ]
  },
  {
   "cell_type": "code",
   "execution_count": 37,
   "metadata": {},
   "outputs": [],
   "source": [
    "df3 = data_cleaning(df_test)\n",
    "Ftest = split_join(df3)\n",
    "df3['targets'] = avg.predict(Ftest)"
   ]
  },
  {
   "cell_type": "markdown",
   "metadata": {},
   "source": [
    "Now that we have prepared our test data, we use our ensemble model 'avg' to predict the target for the `Ftest` DataFrame and add it to the DataFrame as a new column,`targets`"
   ]
  },
  {
   "cell_type": "markdown",
   "metadata": {},
   "source": [
    "---\n",
    "## Mapping Our Test Data Results\n",
    "\n",
    "Now that we have used our model to predict the functioning status of our wells, we can plot it on a map of Tanzania to see which regions are in most need of aid. \n",
    "* This code has been commented out due to errors that occur if geopandas and contextily are not properly installed."
   ]
  },
  {
   "cell_type": "code",
   "execution_count": 34,
   "metadata": {},
   "outputs": [],
   "source": [
    "# drop_zeros = df3.loc[(df3['longitude'] != 0.0) & (df3['latitude'] != 0.0)]\n",
    "\n",
    "# fig, ax = plt.subplots(figsize=(18,12))\n",
    "\n",
    "# countries = gpd.read_file(gpd.datasets.get_path(\"naturalearth_lowres\"))\n",
    "\n",
    "# drop_zeros\n",
    "# sns.scatterplot(x = drop_zeros['longitude'], y = drop_zeros['latitude'], hue = drop_zeros[\"targets\"], \\\n",
    "#                 palette = [\"red\", \"blue\"], alpha = .5)\n",
    "\n",
    "# ax.grid(b=True, alpha=0.5)\n",
    "\n",
    "# cx.add_basemap(ax, crs=countries.crs.to_string())\n",
    "\n",
    "# ax.set(title='Combined Wells, 0 = Broken, 1 = Working')\n",
    "# plt.legend(title='Wells', loc='upper right', labels=['Need Repair', 'Working'])\n",
    "\n",
    "# plt.show()\n",
    "\n",
    "## fig.savefig(\"combo.png\") # Saving the resulting map as a .png file"
   ]
  },
  {
   "cell_type": "markdown",
   "metadata": {},
   "source": [
    "From this figure it can be seen that inland, on the southern Tanzanian boarder, there are many wells in need of repair. You can also see few functioning wells in this same area meaning these communities will have to travel farther to get access to drinking water. Regions like these definitely should be focused on when considering where to immediately begin aid."
   ]
  },
  {
   "cell_type": "markdown",
   "metadata": {},
   "source": []
  },
  {
   "cell_type": "markdown",
   "metadata": {},
   "source": [
    "# 5. Evaluation\n",
    "---"
   ]
  },
  {
   "cell_type": "markdown",
   "metadata": {},
   "source": [
    "---\n",
    "\n",
    "# 6. Appendix"
   ]
  },
  {
   "cell_type": "markdown",
   "metadata": {},
   "source": [
    "Wells in need of repair, plotted in red. \n",
    "* This code has been commented out due to errors that occur if geopandas and contextily are not properly installed."
   ]
  },
  {
   "cell_type": "code",
   "execution_count": 35,
   "metadata": {},
   "outputs": [],
   "source": [
    "# temp_0 = df3.loc[(df3['longitude'] != 0.0) & (df3['latitude'] != 0.0)]\n",
    "\n",
    "\n",
    "# temp_00 = temp_0.loc[(df3['targets'] == 0)]\n",
    "\n",
    "# dropper = temp_00\n",
    "\n",
    "# fig, ax = plt.subplots(figsize=(18,12))\n",
    "\n",
    "# countries = gpd.read_file(gpd.datasets.get_path(\"naturalearth_lowres\"))\n",
    "\n",
    "# sns.scatterplot(x = dropper['longitude'], y = dropper['latitude'], color = \"red\", alpha = .5)\n",
    "\n",
    "# ax.grid(b=True, alpha=0.5)\n",
    "\n",
    "# cx.add_basemap(ax, crs=countries.crs.to_string())\n",
    "# ax.set(title='Need Repair')\n",
    "\n",
    "\n",
    "# plt.show()\n",
    "## fig.savefig(\"need_repair.png\") # Saving the resulting map as a .png file"
   ]
  },
  {
   "cell_type": "markdown",
   "metadata": {},
   "source": [
    "Wells that are fully functional, plotted in blue. \n",
    "* This code has been commented out due to errors that occur if geopandas and contextily are not properly installed."
   ]
  },
  {
   "cell_type": "code",
   "execution_count": 36,
   "metadata": {},
   "outputs": [],
   "source": [
    "# temp_1 = df3.loc[(df3['longitude'] != 0.0) & (df3['latitude'] != 0.0)]\n",
    "\n",
    "\n",
    "# temp_11 = temp_1.loc[(df3['targets'] == 1)]\n",
    "\n",
    "# dropper_1 = temp_11\n",
    "\n",
    "# fig, ax = plt.subplots(figsize=(18,12))\n",
    "\n",
    "# countries = gpd.read_file(gpd.datasets.get_path(\"naturalearth_lowres\"))\n",
    "\n",
    "\n",
    "# sns.scatterplot(x = dropper_1['longitude'], y = dropper_1['latitude'], color = \"blue\", alpha = .5)\n",
    "\n",
    "# ax.grid(b=True, alpha=0.5)\n",
    "\n",
    "# cx.add_basemap(ax, crs=countries.crs.to_string())\n",
    "\n",
    "# ax.set(title='Functioning Wells')\n",
    "\n",
    "# plt.show()\n",
    "\n",
    " \n",
    "## fig.savefig(\"working.png\") # Saving the resulting map as a .png file"
   ]
  }
 ],
 "metadata": {
  "kernelspec": {
   "display_name": "Python 3",
   "language": "python",
   "name": "python3"
  },
  "language_info": {
   "codemirror_mode": {
    "name": "ipython",
    "version": 3
   },
   "file_extension": ".py",
   "mimetype": "text/x-python",
   "name": "python",
   "nbconvert_exporter": "python",
   "pygments_lexer": "ipython3",
   "version": "3.8.5"
  }
 },
 "nbformat": 4,
 "nbformat_minor": 5
}
